{
  "nbformat": 4,
  "nbformat_minor": 0,
  "metadata": {
    "colab": {
      "name": "21410_9주차내용",
      "provenance": [],
      "collapsed_sections": [],
      "authorship_tag": "ABX9TyM7n/9l4gZmhLtAi9I7s+gt",
      "include_colab_link": true
    },
    "kernelspec": {
      "name": "python3",
      "display_name": "Python 3"
    },
    "language_info": {
      "name": "python"
    }
  },
  "cells": [
    {
      "cell_type": "markdown",
      "metadata": {
        "id": "view-in-github",
        "colab_type": "text"
      },
      "source": [
        "<a href=\"https://colab.research.google.com/github/202121510/bmt_python/blob/main/21410_9%EC%A3%BC%EC%B0%A8%EB%82%B4%EC%9A%A9.ipynb\" target=\"_parent\"><img src=\"https://colab.research.google.com/assets/colab-badge.svg\" alt=\"Open In Colab\"/></a>"
      ]
    },
    {
      "cell_type": "code",
      "metadata": {
        "id": "XTcYAQgmspfw"
      },
      "source": [
        "import pandas as pd\n",
        "import numpy as np\n",
        "import matplotlib.pyplot as plt"
      ],
      "execution_count": null,
      "outputs": []
    },
    {
      "cell_type": "code",
      "metadata": {
        "id": "5UJd3pP0sx1u"
      },
      "source": [
        "import pandas as pd\n",
        "import numpy as np\n",
        "\n",
        "s = pd.Series([1, 3, 5, np.nan, 6, 8]) # Series 생성. 참고 np.nan : 결측값(NaN:Not a Number) => 연산 과정에서 잘못된 입력을 받았음을 나타내는 기호\n",
        "\n",
        "print(type(s))\n",
        "print(s)"
      ],
      "execution_count": null,
      "outputs": []
    },
    {
      "cell_type": "code",
      "metadata": {
        "id": "4FgZMo4ZsyMD"
      },
      "source": [
        "import pandas as pd\n",
        "import numpy as np\n",
        "\n",
        "dates = pd.date_range('20201113', periods=6)\n",
        "\n",
        "print(type(dates))\n",
        "print(dates)\n",
        "\n",
        "df = pd.DataFrame(np.random.randn(6,4), index=dates, columns=list('ABCD')) \n",
        "# pd.DataFrame([행과열의 들어갈 값들], 행 항목, 열 항목)\n",
        "\n",
        "print(type(df))\n",
        "print(df)\n",
        "df"
      ],
      "execution_count": null,
      "outputs": []
    },
    {
      "cell_type": "code",
      "metadata": {
        "id": "iwfe85Z4syY2"
      },
      "source": [
        "import pandas as pd\n",
        "import numpy as np\n",
        "\n",
        "df2 = pd.DataFrame(\n",
        "    {\n",
        "        'A': 1.,\n",
        "        'B': pd.Timestamp('20201113'),\n",
        "        'C': pd.Series(1, index=list(range(4)), dtype='float32'),\n",
        "        'D': np.array([3] * 4, dtype='int32'),\n",
        "        'E': pd.Categorical([\"test\", \"train\", \"test\", \"train\"]),\n",
        "        'F': 'foo'\n",
        "     }\n",
        ")\n",
        "\n",
        "print(type(df2))\n",
        "print(df2)\n",
        "df2\n",
        "\n",
        "# dict 데이터 구조에서 Key 값은 열 항목으로, index 행 항목은 자동으로 0~3까지 정수로 부여됨. \n",
        "# dict 데이터 구조에서 Value 값은 데이터프레임의 값으로 됨.\n",
        "print()\n",
        "df2.dtypes"
      ],
      "execution_count": null,
      "outputs": []
    },
    {
      "cell_type": "code",
      "metadata": {
        "id": "5-2feOybsyjU"
      },
      "source": [
        "import pandas as pd\n",
        "import numpy as np\n",
        "\n",
        "dates = pd.date_range('20201113', periods=6)\n",
        "\n",
        "df = pd.DataFrame(np.random.randn(6,4), index=dates, columns=list('ABCD')) \n",
        "\n",
        "print(df.tail(3)) # 끝에서 마지막 3줄을 불러옴\n",
        "df.tail() # 끝에서 마지막 5줄을 불러옴"
      ],
      "execution_count": null,
      "outputs": []
    },
    {
      "cell_type": "code",
      "metadata": {
        "id": "YUwJ07HtsyrK"
      },
      "source": [
        "import pandas as pd\n",
        "import numpy as np\n",
        "\n",
        "dates = pd.date_range('20201113', periods=6)\n",
        "\n",
        "df = pd.DataFrame(np.random.randn(6,4), index=dates, columns=list('ABCD')) \n",
        "\n",
        "print(df.head(3)) # 처음부터 3줄을 불러옴\n",
        "df.head() # 처음부터 5줄을 불러옴"
      ],
      "execution_count": null,
      "outputs": []
    },
    {
      "cell_type": "code",
      "metadata": {
        "id": "IntsaYMxsyzl"
      },
      "source": [
        "import pandas as pd\n",
        "import numpy as np\n",
        "\n",
        "dates = pd.date_range('20201113', periods=6)\n",
        "\n",
        "df = pd.DataFrame(np.random.randn(6,4), index=dates, columns=list('ABCD')) \n",
        "\n",
        "print(df.index) # 인덱스 보기\n",
        "print(df.columns) # 열(항목) 보기\n",
        "print()\n",
        "print(df.values) # 값 보기\n",
        "print()\n",
        "print(df.describe()) # 데이터의 대략적인 통계적 정보 요약\n",
        "print()\n",
        "print(df)\n",
        "print()\n",
        "print(df.T) # 데이터를 전치\n",
        "print()\n",
        "print(df.sort_index(axis=1, ascending=True)) # 축 별로 정렬 : False(오름차순), True(내림차순)-default\n",
        "print(df.sort_index(axis=1, ascending=False))\n",
        "print()\n",
        "print(df.sort_values(by='B')) # 값 별로 정렬\n",
        "df.sort_values(by='B')"
      ],
      "execution_count": null,
      "outputs": []
    },
    {
      "cell_type": "code",
      "metadata": {
        "id": "N9s6XhJ9sy_w"
      },
      "source": [
        "import pandas as pd\n",
        "import numpy as np\n",
        "\n",
        "dates = pd.date_range('20201113', periods=6)\n",
        "\n",
        "df = pd.DataFrame(np.random.randn(6,4), index=dates, columns=list('ABCD')) \n",
        "\n",
        "print(df);print()\n",
        "print(df['A']);print() # df.A와 동일한 Series를 생성하는 단일 열을 선택\n",
        "print(df[0:3]);print() # 행을 분할하는 []를 통해 선택\n",
        "print(df['20201114':'20201116']) "
      ],
      "execution_count": null,
      "outputs": []
    },
    {
      "cell_type": "code",
      "metadata": {
        "id": "tL7y2BvSwhlc"
      },
      "source": [
        "import pandas as pd\n",
        "import numpy as np\n",
        "\n",
        "dates = pd.date_range('20201113', periods=6)\n",
        "\n",
        "df = pd.DataFrame(np.random.randn(6,4), index=dates, columns=list('ABCD'))\n",
        "\n",
        "print(df);print()\n",
        "\n",
        "print(df.loc[dates[0]]) # 라벨을 사용하여 횡단면을 얻음\n",
        "print(df.loc[dates[1]])\n",
        "print(df.loc[dates[2]]);print()\n",
        "\n",
        "# df.loc[행, 열]\n",
        "print(df.loc[:,['A','B']]);print() # 라벨을 사용하여 여러 축(의 데이터)을 얻음.\n",
        "print(df.loc['20201113':'20201115', ['A', 'C']]);print() # 양쪽 종단점을 포함한 라벨 슬라이싱.\n",
        "\n",
        "print(df.loc['20201113',['A','B']]);print() # 반환되는 객체의 차원을 줄임.\n",
        "\n",
        "print(df.loc[dates[0], 'A']) # 스칼라 값 얻음.\n",
        "print(df.at[dates[0], 'A']) # 스칼라 값을 더 빠르게 얻음."
      ],
      "execution_count": null,
      "outputs": []
    },
    {
      "cell_type": "code",
      "metadata": {
        "id": "xGBceFBIwhut"
      },
      "source": [
        "import pandas as pd\n",
        "import numpy as np\n",
        "\n",
        "dates = pd.date_range('20201113', periods=6)\n",
        "\n",
        "df = pd.DataFrame(np.random.randn(6,4), index=dates, columns=list('ABCD'))\n",
        "\n",
        "print(df);print()\n",
        "\n",
        "print(df.iloc[3]);print() # 넘겨받은 정수의 위치를 기준으로 선택\n",
        "\n",
        "print(df.iloc[3:5,0:2]);print() # 정수로 표기된 슬라이스들을 통해 numpy / python과 유사하게 작동\n",
        "\n",
        "print(df.iloc[[1, 2, 4], [0, 2]]);print() # 정수로 표기된 위치값의 리스트들을 통해 numpy / python의 스타일과 유사하게 작동\n",
        "\n",
        "print(df.iloc[1:3, :]);print() # 명시적으로 행을 나누고자 하는 경우\n",
        "print(df.iloc[:, 1:3]);print() # 명시적으로 열을 나누고자 하는 경우\n",
        "\n",
        "print(df.iloc[1,1]) # 명시적으로 특정한 값을 얻고자 하는 경우\n",
        "print(df.iat[1,1]) # 스칼라 값을 빠르게 얻는 방법"
      ],
      "execution_count": null,
      "outputs": []
    },
    {
      "cell_type": "code",
      "metadata": {
        "id": "WbewvQ5nwh4P"
      },
      "source": [
        "import pandas as pd\n",
        "import numpy as np\n",
        "\n",
        "dates = pd.date_range('20201113', periods=6)\n",
        "\n",
        "df = pd.DataFrame(np.random.randn(6,4), index=dates, columns=list('ABCD'))\n",
        "\n",
        "print(df);print()\n",
        "\n",
        "print(df[df.A > 0]);print() # 데이터를 선택하기 위해 단일 열의 값을 사용\n",
        "print(df[df > 0]);print() # Boolean 조건을 충족하는 데이터프레임에서 값을 선택\n",
        "\n",
        "# 필터링을 위한 메소드 isin() 사용\n",
        "df2 = df.copy()\n",
        "df2['E'] = ['one', 'one', 'two', 'three', 'four', 'three']\n",
        "print(df2);print()\n",
        "print(df2[df2['E'].isin(['two','four'])]);print() # E열에 two, four값이 있는 그 행(인덱스) 출력"
      ],
      "execution_count": null,
      "outputs": []
    }
  ]
}