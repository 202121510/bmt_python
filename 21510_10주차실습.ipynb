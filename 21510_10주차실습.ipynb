{
  "nbformat": 4,
  "nbformat_minor": 0,
  "metadata": {
    "colab": {
      "name": "21510_10주차실습.ipynb",
      "provenance": [],
      "authorship_tag": "ABX9TyMoxq4yEKY0Dv86Y8je71dB",
      "include_colab_link": true
    },
    "kernelspec": {
      "name": "python3",
      "display_name": "Python 3"
    },
    "language_info": {
      "name": "python"
    }
  },
  "cells": [
    {
      "cell_type": "markdown",
      "metadata": {
        "id": "view-in-github",
        "colab_type": "text"
      },
      "source": [
        "<a href=\"https://colab.research.google.com/github/202121510/bmt_python/blob/main/21510_10%EC%A3%BC%EC%B0%A8%EC%8B%A4%EC%8A%B5.ipynb\" target=\"_parent\"><img src=\"https://colab.research.google.com/assets/colab-badge.svg\" alt=\"Open In Colab\"/></a>"
      ]
    },
    {
      "cell_type": "code",
      "metadata": {
        "id": "J7Dqr0JmFakS"
      },
      "source": [
        "import pandas as pd\n",
        "import numpy as np\n",
        "import matplotlib.pyplot as plt\n"
      ],
      "execution_count": 1,
      "outputs": []
    },
    {
      "cell_type": "code",
      "metadata": {
        "id": "ZDyIXK-uHTzi"
      },
      "source": [
        "s = pd.Series([1, 3, 5, np.nan, 6, 8])"
      ],
      "execution_count": 2,
      "outputs": []
    },
    {
      "cell_type": "code",
      "metadata": {
        "colab": {
          "base_uri": "https://localhost:8080/"
        },
        "id": "7zOmyZaVH-kw",
        "outputId": "09a9a19a-43ea-4008-ef16-520ad1dd6fff"
      },
      "source": [
        "s"
      ],
      "execution_count": 3,
      "outputs": [
        {
          "output_type": "execute_result",
          "data": {
            "text/plain": [
              "0    1.0\n",
              "1    3.0\n",
              "2    5.0\n",
              "3    NaN\n",
              "4    6.0\n",
              "5    8.0\n",
              "dtype: float64"
            ]
          },
          "metadata": {
            "tags": []
          },
          "execution_count": 3
        }
      ]
    },
    {
      "cell_type": "code",
      "metadata": {
        "colab": {
          "base_uri": "https://localhost:8080/"
        },
        "id": "KKuLfnW0IAIg",
        "outputId": "d570bdfd-0702-4a29-803b-26d18cf08739"
      },
      "source": [
        "type(s)"
      ],
      "execution_count": 4,
      "outputs": [
        {
          "output_type": "execute_result",
          "data": {
            "text/plain": [
              "pandas.core.series.Series"
            ]
          },
          "metadata": {
            "tags": []
          },
          "execution_count": 4
        }
      ]
    },
    {
      "cell_type": "code",
      "metadata": {
        "id": "kVYApe2NIp3w"
      },
      "source": [
        "dates = pd.date_range('20210507', periods =6)"
      ],
      "execution_count": 8,
      "outputs": []
    },
    {
      "cell_type": "code",
      "metadata": {
        "colab": {
          "base_uri": "https://localhost:8080/"
        },
        "id": "UYm7SU58ItDA",
        "outputId": "588b7fd7-5519-44f5-904f-c2ba57f84784"
      },
      "source": [
        "dates"
      ],
      "execution_count": 9,
      "outputs": [
        {
          "output_type": "execute_result",
          "data": {
            "text/plain": [
              "DatetimeIndex(['2021-05-07', '2021-05-08', '2021-05-09', '2021-05-10',\n",
              "               '2021-05-11', '2021-05-12'],\n",
              "              dtype='datetime64[ns]', freq='D')"
            ]
          },
          "metadata": {
            "tags": []
          },
          "execution_count": 9
        }
      ]
    },
    {
      "cell_type": "code",
      "metadata": {
        "id": "EoLbNeFkJc9J"
      },
      "source": [
        "df = pd.DataFrame(np.random.randn(6,4), index=dates, columns=['국어' , '수학', '영어', '물리']"
      ],
      "execution_count": null,
      "outputs": []
    },
    {
      "cell_type": "code",
      "metadata": {
        "colab": {
          "base_uri": "https://localhost:8080/",
          "height": 225
        },
        "id": "Wa8Y5XvlJ0ZP",
        "outputId": "1590946d-492e-4240-9280-c26918c730c8"
      },
      "source": [
        "df"
      ],
      "execution_count": 17,
      "outputs": [
        {
          "output_type": "execute_result",
          "data": {
            "text/html": [
              "<div>\n",
              "<style scoped>\n",
              "    .dataframe tbody tr th:only-of-type {\n",
              "        vertical-align: middle;\n",
              "    }\n",
              "\n",
              "    .dataframe tbody tr th {\n",
              "        vertical-align: top;\n",
              "    }\n",
              "\n",
              "    .dataframe thead th {\n",
              "        text-align: right;\n",
              "    }\n",
              "</style>\n",
              "<table border=\"1\" class=\"dataframe\">\n",
              "  <thead>\n",
              "    <tr style=\"text-align: right;\">\n",
              "      <th></th>\n",
              "      <th>A</th>\n",
              "      <th>B</th>\n",
              "      <th>C</th>\n",
              "      <th>D</th>\n",
              "    </tr>\n",
              "  </thead>\n",
              "  <tbody>\n",
              "    <tr>\n",
              "      <th>2021-05-07</th>\n",
              "      <td>0.840674</td>\n",
              "      <td>-1.150018</td>\n",
              "      <td>1.420693</td>\n",
              "      <td>2.066543</td>\n",
              "    </tr>\n",
              "    <tr>\n",
              "      <th>2021-05-08</th>\n",
              "      <td>-2.395359</td>\n",
              "      <td>0.007384</td>\n",
              "      <td>1.629295</td>\n",
              "      <td>0.874537</td>\n",
              "    </tr>\n",
              "    <tr>\n",
              "      <th>2021-05-09</th>\n",
              "      <td>0.616231</td>\n",
              "      <td>0.062709</td>\n",
              "      <td>0.110275</td>\n",
              "      <td>-2.292662</td>\n",
              "    </tr>\n",
              "    <tr>\n",
              "      <th>2021-05-10</th>\n",
              "      <td>-1.013408</td>\n",
              "      <td>-1.567914</td>\n",
              "      <td>1.848735</td>\n",
              "      <td>1.758809</td>\n",
              "    </tr>\n",
              "    <tr>\n",
              "      <th>2021-05-11</th>\n",
              "      <td>-1.779805</td>\n",
              "      <td>0.263648</td>\n",
              "      <td>-0.804573</td>\n",
              "      <td>-1.177883</td>\n",
              "    </tr>\n",
              "    <tr>\n",
              "      <th>2021-05-12</th>\n",
              "      <td>0.113433</td>\n",
              "      <td>0.183317</td>\n",
              "      <td>-0.957168</td>\n",
              "      <td>0.586654</td>\n",
              "    </tr>\n",
              "  </tbody>\n",
              "</table>\n",
              "</div>"
            ],
            "text/plain": [
              "                   A         B         C         D\n",
              "2021-05-07  0.840674 -1.150018  1.420693  2.066543\n",
              "2021-05-08 -2.395359  0.007384  1.629295  0.874537\n",
              "2021-05-09  0.616231  0.062709  0.110275 -2.292662\n",
              "2021-05-10 -1.013408 -1.567914  1.848735  1.758809\n",
              "2021-05-11 -1.779805  0.263648 -0.804573 -1.177883\n",
              "2021-05-12  0.113433  0.183317 -0.957168  0.586654"
            ]
          },
          "metadata": {
            "tags": []
          },
          "execution_count": 17
        }
      ]
    },
    {
      "cell_type": "code",
      "metadata": {
        "colab": {
          "base_uri": "https://localhost:8080/",
          "height": 225
        },
        "id": "kadWcp7HKT4O",
        "outputId": "d2ba2b09-549c-4eff-f0f6-f9bb905d6aa9"
      },
      "source": [
        "df = pd.DataFrame(np.random.randn(6,4), index=dates, columns=list('ABCD'))\n",
        "df"
      ],
      "execution_count": 18,
      "outputs": [
        {
          "output_type": "execute_result",
          "data": {
            "text/html": [
              "<div>\n",
              "<style scoped>\n",
              "    .dataframe tbody tr th:only-of-type {\n",
              "        vertical-align: middle;\n",
              "    }\n",
              "\n",
              "    .dataframe tbody tr th {\n",
              "        vertical-align: top;\n",
              "    }\n",
              "\n",
              "    .dataframe thead th {\n",
              "        text-align: right;\n",
              "    }\n",
              "</style>\n",
              "<table border=\"1\" class=\"dataframe\">\n",
              "  <thead>\n",
              "    <tr style=\"text-align: right;\">\n",
              "      <th></th>\n",
              "      <th>A</th>\n",
              "      <th>B</th>\n",
              "      <th>C</th>\n",
              "      <th>D</th>\n",
              "    </tr>\n",
              "  </thead>\n",
              "  <tbody>\n",
              "    <tr>\n",
              "      <th>2021-05-07</th>\n",
              "      <td>-1.218749</td>\n",
              "      <td>-2.220429</td>\n",
              "      <td>0.612965</td>\n",
              "      <td>-0.990758</td>\n",
              "    </tr>\n",
              "    <tr>\n",
              "      <th>2021-05-08</th>\n",
              "      <td>1.271408</td>\n",
              "      <td>-0.376373</td>\n",
              "      <td>-0.361819</td>\n",
              "      <td>0.247638</td>\n",
              "    </tr>\n",
              "    <tr>\n",
              "      <th>2021-05-09</th>\n",
              "      <td>0.835420</td>\n",
              "      <td>-0.447456</td>\n",
              "      <td>0.445518</td>\n",
              "      <td>1.330735</td>\n",
              "    </tr>\n",
              "    <tr>\n",
              "      <th>2021-05-10</th>\n",
              "      <td>1.229534</td>\n",
              "      <td>0.140372</td>\n",
              "      <td>1.248399</td>\n",
              "      <td>0.813568</td>\n",
              "    </tr>\n",
              "    <tr>\n",
              "      <th>2021-05-11</th>\n",
              "      <td>0.083343</td>\n",
              "      <td>-0.512210</td>\n",
              "      <td>0.157435</td>\n",
              "      <td>-0.641269</td>\n",
              "    </tr>\n",
              "    <tr>\n",
              "      <th>2021-05-12</th>\n",
              "      <td>0.978683</td>\n",
              "      <td>0.129337</td>\n",
              "      <td>1.448516</td>\n",
              "      <td>0.539200</td>\n",
              "    </tr>\n",
              "  </tbody>\n",
              "</table>\n",
              "</div>"
            ],
            "text/plain": [
              "                   A         B         C         D\n",
              "2021-05-07 -1.218749 -2.220429  0.612965 -0.990758\n",
              "2021-05-08  1.271408 -0.376373 -0.361819  0.247638\n",
              "2021-05-09  0.835420 -0.447456  0.445518  1.330735\n",
              "2021-05-10  1.229534  0.140372  1.248399  0.813568\n",
              "2021-05-11  0.083343 -0.512210  0.157435 -0.641269\n",
              "2021-05-12  0.978683  0.129337  1.448516  0.539200"
            ]
          },
          "metadata": {
            "tags": []
          },
          "execution_count": 18
        }
      ]
    },
    {
      "cell_type": "code",
      "metadata": {
        "id": "kDsopX3lK_uf"
      },
      "source": [
        "df = pd.DataFrame(np.random.randn(6,4), index=dates, columns=list('ABCD'))"
      ],
      "execution_count": 24,
      "outputs": []
    },
    {
      "cell_type": "code",
      "metadata": {
        "colab": {
          "base_uri": "https://localhost:8080/",
          "height": 225
        },
        "id": "KDDGOBcWLGlv",
        "outputId": "32d3f68a-2a56-4a78-96a9-e959143b7073"
      },
      "source": [
        "df"
      ],
      "execution_count": 25,
      "outputs": [
        {
          "output_type": "execute_result",
          "data": {
            "text/html": [
              "<div>\n",
              "<style scoped>\n",
              "    .dataframe tbody tr th:only-of-type {\n",
              "        vertical-align: middle;\n",
              "    }\n",
              "\n",
              "    .dataframe tbody tr th {\n",
              "        vertical-align: top;\n",
              "    }\n",
              "\n",
              "    .dataframe thead th {\n",
              "        text-align: right;\n",
              "    }\n",
              "</style>\n",
              "<table border=\"1\" class=\"dataframe\">\n",
              "  <thead>\n",
              "    <tr style=\"text-align: right;\">\n",
              "      <th></th>\n",
              "      <th>A</th>\n",
              "      <th>B</th>\n",
              "      <th>C</th>\n",
              "      <th>D</th>\n",
              "    </tr>\n",
              "  </thead>\n",
              "  <tbody>\n",
              "    <tr>\n",
              "      <th>2021-05-07</th>\n",
              "      <td>-0.349312</td>\n",
              "      <td>1.408341</td>\n",
              "      <td>0.400973</td>\n",
              "      <td>-1.302594</td>\n",
              "    </tr>\n",
              "    <tr>\n",
              "      <th>2021-05-08</th>\n",
              "      <td>1.125867</td>\n",
              "      <td>1.441576</td>\n",
              "      <td>-0.199435</td>\n",
              "      <td>0.061488</td>\n",
              "    </tr>\n",
              "    <tr>\n",
              "      <th>2021-05-09</th>\n",
              "      <td>0.337672</td>\n",
              "      <td>-0.424696</td>\n",
              "      <td>-1.773841</td>\n",
              "      <td>1.353820</td>\n",
              "    </tr>\n",
              "    <tr>\n",
              "      <th>2021-05-10</th>\n",
              "      <td>-1.967130</td>\n",
              "      <td>1.992322</td>\n",
              "      <td>0.456664</td>\n",
              "      <td>1.128371</td>\n",
              "    </tr>\n",
              "    <tr>\n",
              "      <th>2021-05-11</th>\n",
              "      <td>-0.090589</td>\n",
              "      <td>1.701829</td>\n",
              "      <td>0.314133</td>\n",
              "      <td>0.760031</td>\n",
              "    </tr>\n",
              "    <tr>\n",
              "      <th>2021-05-12</th>\n",
              "      <td>0.451411</td>\n",
              "      <td>0.057846</td>\n",
              "      <td>-0.671290</td>\n",
              "      <td>-1.286084</td>\n",
              "    </tr>\n",
              "  </tbody>\n",
              "</table>\n",
              "</div>"
            ],
            "text/plain": [
              "                   A         B         C         D\n",
              "2021-05-07 -0.349312  1.408341  0.400973 -1.302594\n",
              "2021-05-08  1.125867  1.441576 -0.199435  0.061488\n",
              "2021-05-09  0.337672 -0.424696 -1.773841  1.353820\n",
              "2021-05-10 -1.967130  1.992322  0.456664  1.128371\n",
              "2021-05-11 -0.090589  1.701829  0.314133  0.760031\n",
              "2021-05-12  0.451411  0.057846 -0.671290 -1.286084"
            ]
          },
          "metadata": {
            "tags": []
          },
          "execution_count": 25
        }
      ]
    },
    {
      "cell_type": "code",
      "metadata": {
        "colab": {
          "base_uri": "https://localhost:8080/",
          "height": 166
        },
        "id": "YfvDR3eRLHtv",
        "outputId": "928d259c-f95f-426a-b5a1-5fb4329f94b2"
      },
      "source": [
        "df2 = pd.DataFrame(\n",
        "    {\n",
        "         'A' :1.,\n",
        "         'B': pd.Timestamp('20210507'),\n",
        "         'C': pd.Series(1, index=list(range(4)), dtype='float32'),\n",
        "         'D': np.array([3] * 4, dtype='int32'),\n",
        "         'E': pd.Categorical([\"test\", \"train\", \"test\", \"train\"]),\n",
        "         'F': 'foo'\n",
        "    }\n",
        ")\n",
        "df2"
      ],
      "execution_count": 21,
      "outputs": [
        {
          "output_type": "execute_result",
          "data": {
            "text/html": [
              "<div>\n",
              "<style scoped>\n",
              "    .dataframe tbody tr th:only-of-type {\n",
              "        vertical-align: middle;\n",
              "    }\n",
              "\n",
              "    .dataframe tbody tr th {\n",
              "        vertical-align: top;\n",
              "    }\n",
              "\n",
              "    .dataframe thead th {\n",
              "        text-align: right;\n",
              "    }\n",
              "</style>\n",
              "<table border=\"1\" class=\"dataframe\">\n",
              "  <thead>\n",
              "    <tr style=\"text-align: right;\">\n",
              "      <th></th>\n",
              "      <th>A</th>\n",
              "      <th>B</th>\n",
              "      <th>C</th>\n",
              "      <th>D</th>\n",
              "      <th>E</th>\n",
              "      <th>F</th>\n",
              "    </tr>\n",
              "  </thead>\n",
              "  <tbody>\n",
              "    <tr>\n",
              "      <th>0</th>\n",
              "      <td>1.0</td>\n",
              "      <td>2021-05-07</td>\n",
              "      <td>1.0</td>\n",
              "      <td>3</td>\n",
              "      <td>test</td>\n",
              "      <td>foo</td>\n",
              "    </tr>\n",
              "    <tr>\n",
              "      <th>1</th>\n",
              "      <td>1.0</td>\n",
              "      <td>2021-05-07</td>\n",
              "      <td>1.0</td>\n",
              "      <td>3</td>\n",
              "      <td>train</td>\n",
              "      <td>foo</td>\n",
              "    </tr>\n",
              "    <tr>\n",
              "      <th>2</th>\n",
              "      <td>1.0</td>\n",
              "      <td>2021-05-07</td>\n",
              "      <td>1.0</td>\n",
              "      <td>3</td>\n",
              "      <td>test</td>\n",
              "      <td>foo</td>\n",
              "    </tr>\n",
              "    <tr>\n",
              "      <th>3</th>\n",
              "      <td>1.0</td>\n",
              "      <td>2021-05-07</td>\n",
              "      <td>1.0</td>\n",
              "      <td>3</td>\n",
              "      <td>train</td>\n",
              "      <td>foo</td>\n",
              "    </tr>\n",
              "  </tbody>\n",
              "</table>\n",
              "</div>"
            ],
            "text/plain": [
              "     A          B    C  D      E    F\n",
              "0  1.0 2021-05-07  1.0  3   test  foo\n",
              "1  1.0 2021-05-07  1.0  3  train  foo\n",
              "2  1.0 2021-05-07  1.0  3   test  foo\n",
              "3  1.0 2021-05-07  1.0  3  train  foo"
            ]
          },
          "metadata": {
            "tags": []
          },
          "execution_count": 21
        }
      ]
    },
    {
      "cell_type": "code",
      "metadata": {
        "colab": {
          "base_uri": "https://localhost:8080/",
          "height": 195
        },
        "id": "SXRaVA1hMlJA",
        "outputId": "58b3260e-0c8d-4c67-c11f-3c9da2ee94d2"
      },
      "source": [
        "df.head()"
      ],
      "execution_count": 27,
      "outputs": [
        {
          "output_type": "execute_result",
          "data": {
            "text/html": [
              "<div>\n",
              "<style scoped>\n",
              "    .dataframe tbody tr th:only-of-type {\n",
              "        vertical-align: middle;\n",
              "    }\n",
              "\n",
              "    .dataframe tbody tr th {\n",
              "        vertical-align: top;\n",
              "    }\n",
              "\n",
              "    .dataframe thead th {\n",
              "        text-align: right;\n",
              "    }\n",
              "</style>\n",
              "<table border=\"1\" class=\"dataframe\">\n",
              "  <thead>\n",
              "    <tr style=\"text-align: right;\">\n",
              "      <th></th>\n",
              "      <th>A</th>\n",
              "      <th>B</th>\n",
              "      <th>C</th>\n",
              "      <th>D</th>\n",
              "    </tr>\n",
              "  </thead>\n",
              "  <tbody>\n",
              "    <tr>\n",
              "      <th>2021-05-07</th>\n",
              "      <td>-0.349312</td>\n",
              "      <td>1.408341</td>\n",
              "      <td>0.400973</td>\n",
              "      <td>-1.302594</td>\n",
              "    </tr>\n",
              "    <tr>\n",
              "      <th>2021-05-08</th>\n",
              "      <td>1.125867</td>\n",
              "      <td>1.441576</td>\n",
              "      <td>-0.199435</td>\n",
              "      <td>0.061488</td>\n",
              "    </tr>\n",
              "    <tr>\n",
              "      <th>2021-05-09</th>\n",
              "      <td>0.337672</td>\n",
              "      <td>-0.424696</td>\n",
              "      <td>-1.773841</td>\n",
              "      <td>1.353820</td>\n",
              "    </tr>\n",
              "    <tr>\n",
              "      <th>2021-05-10</th>\n",
              "      <td>-1.967130</td>\n",
              "      <td>1.992322</td>\n",
              "      <td>0.456664</td>\n",
              "      <td>1.128371</td>\n",
              "    </tr>\n",
              "    <tr>\n",
              "      <th>2021-05-11</th>\n",
              "      <td>-0.090589</td>\n",
              "      <td>1.701829</td>\n",
              "      <td>0.314133</td>\n",
              "      <td>0.760031</td>\n",
              "    </tr>\n",
              "  </tbody>\n",
              "</table>\n",
              "</div>"
            ],
            "text/plain": [
              "                   A         B         C         D\n",
              "2021-05-07 -0.349312  1.408341  0.400973 -1.302594\n",
              "2021-05-08  1.125867  1.441576 -0.199435  0.061488\n",
              "2021-05-09  0.337672 -0.424696 -1.773841  1.353820\n",
              "2021-05-10 -1.967130  1.992322  0.456664  1.128371\n",
              "2021-05-11 -0.090589  1.701829  0.314133  0.760031"
            ]
          },
          "metadata": {
            "tags": []
          },
          "execution_count": 27
        }
      ]
    },
    {
      "cell_type": "code",
      "metadata": {
        "colab": {
          "base_uri": "https://localhost:8080/",
          "height": 195
        },
        "id": "bnY-DsW3NN6u",
        "outputId": "b90346f6-674c-47b7-f6f6-d3b090f8dfc2"
      },
      "source": [
        "df.tail()"
      ],
      "execution_count": 26,
      "outputs": [
        {
          "output_type": "execute_result",
          "data": {
            "text/html": [
              "<div>\n",
              "<style scoped>\n",
              "    .dataframe tbody tr th:only-of-type {\n",
              "        vertical-align: middle;\n",
              "    }\n",
              "\n",
              "    .dataframe tbody tr th {\n",
              "        vertical-align: top;\n",
              "    }\n",
              "\n",
              "    .dataframe thead th {\n",
              "        text-align: right;\n",
              "    }\n",
              "</style>\n",
              "<table border=\"1\" class=\"dataframe\">\n",
              "  <thead>\n",
              "    <tr style=\"text-align: right;\">\n",
              "      <th></th>\n",
              "      <th>A</th>\n",
              "      <th>B</th>\n",
              "      <th>C</th>\n",
              "      <th>D</th>\n",
              "    </tr>\n",
              "  </thead>\n",
              "  <tbody>\n",
              "    <tr>\n",
              "      <th>2021-05-08</th>\n",
              "      <td>1.125867</td>\n",
              "      <td>1.441576</td>\n",
              "      <td>-0.199435</td>\n",
              "      <td>0.061488</td>\n",
              "    </tr>\n",
              "    <tr>\n",
              "      <th>2021-05-09</th>\n",
              "      <td>0.337672</td>\n",
              "      <td>-0.424696</td>\n",
              "      <td>-1.773841</td>\n",
              "      <td>1.353820</td>\n",
              "    </tr>\n",
              "    <tr>\n",
              "      <th>2021-05-10</th>\n",
              "      <td>-1.967130</td>\n",
              "      <td>1.992322</td>\n",
              "      <td>0.456664</td>\n",
              "      <td>1.128371</td>\n",
              "    </tr>\n",
              "    <tr>\n",
              "      <th>2021-05-11</th>\n",
              "      <td>-0.090589</td>\n",
              "      <td>1.701829</td>\n",
              "      <td>0.314133</td>\n",
              "      <td>0.760031</td>\n",
              "    </tr>\n",
              "    <tr>\n",
              "      <th>2021-05-12</th>\n",
              "      <td>0.451411</td>\n",
              "      <td>0.057846</td>\n",
              "      <td>-0.671290</td>\n",
              "      <td>-1.286084</td>\n",
              "    </tr>\n",
              "  </tbody>\n",
              "</table>\n",
              "</div>"
            ],
            "text/plain": [
              "                   A         B         C         D\n",
              "2021-05-08  1.125867  1.441576 -0.199435  0.061488\n",
              "2021-05-09  0.337672 -0.424696 -1.773841  1.353820\n",
              "2021-05-10 -1.967130  1.992322  0.456664  1.128371\n",
              "2021-05-11 -0.090589  1.701829  0.314133  0.760031\n",
              "2021-05-12  0.451411  0.057846 -0.671290 -1.286084"
            ]
          },
          "metadata": {
            "tags": []
          },
          "execution_count": 26
        }
      ]
    },
    {
      "cell_type": "code",
      "metadata": {
        "colab": {
          "base_uri": "https://localhost:8080/",
          "height": 77
        },
        "id": "BTc8sTvJNRXt",
        "outputId": "b43e66a1-94b5-4471-ce57-38f4150d9738"
      },
      "source": [
        "df.head(1)"
      ],
      "execution_count": 28,
      "outputs": [
        {
          "output_type": "execute_result",
          "data": {
            "text/html": [
              "<div>\n",
              "<style scoped>\n",
              "    .dataframe tbody tr th:only-of-type {\n",
              "        vertical-align: middle;\n",
              "    }\n",
              "\n",
              "    .dataframe tbody tr th {\n",
              "        vertical-align: top;\n",
              "    }\n",
              "\n",
              "    .dataframe thead th {\n",
              "        text-align: right;\n",
              "    }\n",
              "</style>\n",
              "<table border=\"1\" class=\"dataframe\">\n",
              "  <thead>\n",
              "    <tr style=\"text-align: right;\">\n",
              "      <th></th>\n",
              "      <th>A</th>\n",
              "      <th>B</th>\n",
              "      <th>C</th>\n",
              "      <th>D</th>\n",
              "    </tr>\n",
              "  </thead>\n",
              "  <tbody>\n",
              "    <tr>\n",
              "      <th>2021-05-07</th>\n",
              "      <td>-0.349312</td>\n",
              "      <td>1.408341</td>\n",
              "      <td>0.400973</td>\n",
              "      <td>-1.302594</td>\n",
              "    </tr>\n",
              "  </tbody>\n",
              "</table>\n",
              "</div>"
            ],
            "text/plain": [
              "                   A         B         C         D\n",
              "2021-05-07 -0.349312  1.408341  0.400973 -1.302594"
            ]
          },
          "metadata": {
            "tags": []
          },
          "execution_count": 28
        }
      ]
    },
    {
      "cell_type": "code",
      "metadata": {
        "colab": {
          "base_uri": "https://localhost:8080/",
          "height": 106
        },
        "id": "54u1TuB5NhSO",
        "outputId": "34b51d8f-06d5-43f9-bfe5-26d0a517c0d5"
      },
      "source": [
        "df.tail(2)"
      ],
      "execution_count": 29,
      "outputs": [
        {
          "output_type": "execute_result",
          "data": {
            "text/html": [
              "<div>\n",
              "<style scoped>\n",
              "    .dataframe tbody tr th:only-of-type {\n",
              "        vertical-align: middle;\n",
              "    }\n",
              "\n",
              "    .dataframe tbody tr th {\n",
              "        vertical-align: top;\n",
              "    }\n",
              "\n",
              "    .dataframe thead th {\n",
              "        text-align: right;\n",
              "    }\n",
              "</style>\n",
              "<table border=\"1\" class=\"dataframe\">\n",
              "  <thead>\n",
              "    <tr style=\"text-align: right;\">\n",
              "      <th></th>\n",
              "      <th>A</th>\n",
              "      <th>B</th>\n",
              "      <th>C</th>\n",
              "      <th>D</th>\n",
              "    </tr>\n",
              "  </thead>\n",
              "  <tbody>\n",
              "    <tr>\n",
              "      <th>2021-05-11</th>\n",
              "      <td>-0.090589</td>\n",
              "      <td>1.701829</td>\n",
              "      <td>0.314133</td>\n",
              "      <td>0.760031</td>\n",
              "    </tr>\n",
              "    <tr>\n",
              "      <th>2021-05-12</th>\n",
              "      <td>0.451411</td>\n",
              "      <td>0.057846</td>\n",
              "      <td>-0.671290</td>\n",
              "      <td>-1.286084</td>\n",
              "    </tr>\n",
              "  </tbody>\n",
              "</table>\n",
              "</div>"
            ],
            "text/plain": [
              "                   A         B         C         D\n",
              "2021-05-11 -0.090589  1.701829  0.314133  0.760031\n",
              "2021-05-12  0.451411  0.057846 -0.671290 -1.286084"
            ]
          },
          "metadata": {
            "tags": []
          },
          "execution_count": 29
        }
      ]
    },
    {
      "cell_type": "code",
      "metadata": {
        "colab": {
          "base_uri": "https://localhost:8080/",
          "height": 225
        },
        "id": "2wIINHnRNjre",
        "outputId": "a60a26ff-42f7-4b40-a2fe-bbd64400c341"
      },
      "source": [
        "df"
      ],
      "execution_count": 30,
      "outputs": [
        {
          "output_type": "execute_result",
          "data": {
            "text/html": [
              "<div>\n",
              "<style scoped>\n",
              "    .dataframe tbody tr th:only-of-type {\n",
              "        vertical-align: middle;\n",
              "    }\n",
              "\n",
              "    .dataframe tbody tr th {\n",
              "        vertical-align: top;\n",
              "    }\n",
              "\n",
              "    .dataframe thead th {\n",
              "        text-align: right;\n",
              "    }\n",
              "</style>\n",
              "<table border=\"1\" class=\"dataframe\">\n",
              "  <thead>\n",
              "    <tr style=\"text-align: right;\">\n",
              "      <th></th>\n",
              "      <th>A</th>\n",
              "      <th>B</th>\n",
              "      <th>C</th>\n",
              "      <th>D</th>\n",
              "    </tr>\n",
              "  </thead>\n",
              "  <tbody>\n",
              "    <tr>\n",
              "      <th>2021-05-07</th>\n",
              "      <td>-0.349312</td>\n",
              "      <td>1.408341</td>\n",
              "      <td>0.400973</td>\n",
              "      <td>-1.302594</td>\n",
              "    </tr>\n",
              "    <tr>\n",
              "      <th>2021-05-08</th>\n",
              "      <td>1.125867</td>\n",
              "      <td>1.441576</td>\n",
              "      <td>-0.199435</td>\n",
              "      <td>0.061488</td>\n",
              "    </tr>\n",
              "    <tr>\n",
              "      <th>2021-05-09</th>\n",
              "      <td>0.337672</td>\n",
              "      <td>-0.424696</td>\n",
              "      <td>-1.773841</td>\n",
              "      <td>1.353820</td>\n",
              "    </tr>\n",
              "    <tr>\n",
              "      <th>2021-05-10</th>\n",
              "      <td>-1.967130</td>\n",
              "      <td>1.992322</td>\n",
              "      <td>0.456664</td>\n",
              "      <td>1.128371</td>\n",
              "    </tr>\n",
              "    <tr>\n",
              "      <th>2021-05-11</th>\n",
              "      <td>-0.090589</td>\n",
              "      <td>1.701829</td>\n",
              "      <td>0.314133</td>\n",
              "      <td>0.760031</td>\n",
              "    </tr>\n",
              "    <tr>\n",
              "      <th>2021-05-12</th>\n",
              "      <td>0.451411</td>\n",
              "      <td>0.057846</td>\n",
              "      <td>-0.671290</td>\n",
              "      <td>-1.286084</td>\n",
              "    </tr>\n",
              "  </tbody>\n",
              "</table>\n",
              "</div>"
            ],
            "text/plain": [
              "                   A         B         C         D\n",
              "2021-05-07 -0.349312  1.408341  0.400973 -1.302594\n",
              "2021-05-08  1.125867  1.441576 -0.199435  0.061488\n",
              "2021-05-09  0.337672 -0.424696 -1.773841  1.353820\n",
              "2021-05-10 -1.967130  1.992322  0.456664  1.128371\n",
              "2021-05-11 -0.090589  1.701829  0.314133  0.760031\n",
              "2021-05-12  0.451411  0.057846 -0.671290 -1.286084"
            ]
          },
          "metadata": {
            "tags": []
          },
          "execution_count": 30
        }
      ]
    },
    {
      "cell_type": "code",
      "metadata": {
        "colab": {
          "base_uri": "https://localhost:8080/"
        },
        "id": "aJj-BuvENtT-",
        "outputId": "8196264a-df07-4041-d221-9beb52fa7e0a"
      },
      "source": [
        "df.index"
      ],
      "execution_count": 31,
      "outputs": [
        {
          "output_type": "execute_result",
          "data": {
            "text/plain": [
              "DatetimeIndex(['2021-05-07', '2021-05-08', '2021-05-09', '2021-05-10',\n",
              "               '2021-05-11', '2021-05-12'],\n",
              "              dtype='datetime64[ns]', freq='D')"
            ]
          },
          "metadata": {
            "tags": []
          },
          "execution_count": 31
        }
      ]
    },
    {
      "cell_type": "code",
      "metadata": {
        "colab": {
          "base_uri": "https://localhost:8080/"
        },
        "id": "vi6hyREsNydt",
        "outputId": "a5385359-4436-4648-97ed-5d5c72da9777"
      },
      "source": [
        "df.columns"
      ],
      "execution_count": 33,
      "outputs": [
        {
          "output_type": "execute_result",
          "data": {
            "text/plain": [
              "Index(['A', 'B', 'C', 'D'], dtype='object')"
            ]
          },
          "metadata": {
            "tags": []
          },
          "execution_count": 33
        }
      ]
    },
    {
      "cell_type": "code",
      "metadata": {
        "colab": {
          "base_uri": "https://localhost:8080/"
        },
        "id": "18cwAfPEN2s-",
        "outputId": "80b413e7-ed3d-46eb-cd2b-bc57ab055fe7"
      },
      "source": [
        "df.values"
      ],
      "execution_count": 34,
      "outputs": [
        {
          "output_type": "execute_result",
          "data": {
            "text/plain": [
              "array([[-0.34931186,  1.40834052,  0.40097286, -1.30259413],\n",
              "       [ 1.12586656,  1.4415765 , -0.19943463,  0.06148781],\n",
              "       [ 0.33767248, -0.42469551, -1.77384076,  1.35381956],\n",
              "       [-1.96713007,  1.9923223 ,  0.4566639 ,  1.12837111],\n",
              "       [-0.09058947,  1.70182896,  0.31413329,  0.76003094],\n",
              "       [ 0.45141052,  0.05784558, -0.67129004, -1.2860839 ]])"
            ]
          },
          "metadata": {
            "tags": []
          },
          "execution_count": 34
        }
      ]
    },
    {
      "cell_type": "code",
      "metadata": {
        "colab": {
          "base_uri": "https://localhost:8080/",
          "height": 284
        },
        "id": "WVjabaWiODz-",
        "outputId": "c071d1fb-6a5e-4476-8cd6-afd65ccf9214"
      },
      "source": [
        "df.describe()"
      ],
      "execution_count": 35,
      "outputs": [
        {
          "output_type": "execute_result",
          "data": {
            "text/html": [
              "<div>\n",
              "<style scoped>\n",
              "    .dataframe tbody tr th:only-of-type {\n",
              "        vertical-align: middle;\n",
              "    }\n",
              "\n",
              "    .dataframe tbody tr th {\n",
              "        vertical-align: top;\n",
              "    }\n",
              "\n",
              "    .dataframe thead th {\n",
              "        text-align: right;\n",
              "    }\n",
              "</style>\n",
              "<table border=\"1\" class=\"dataframe\">\n",
              "  <thead>\n",
              "    <tr style=\"text-align: right;\">\n",
              "      <th></th>\n",
              "      <th>A</th>\n",
              "      <th>B</th>\n",
              "      <th>C</th>\n",
              "      <th>D</th>\n",
              "    </tr>\n",
              "  </thead>\n",
              "  <tbody>\n",
              "    <tr>\n",
              "      <th>count</th>\n",
              "      <td>6.000000</td>\n",
              "      <td>6.000000</td>\n",
              "      <td>6.000000</td>\n",
              "      <td>6.000000</td>\n",
              "    </tr>\n",
              "    <tr>\n",
              "      <th>mean</th>\n",
              "      <td>-0.082014</td>\n",
              "      <td>1.029536</td>\n",
              "      <td>-0.245466</td>\n",
              "      <td>0.119172</td>\n",
              "    </tr>\n",
              "    <tr>\n",
              "      <th>std</th>\n",
              "      <td>1.053075</td>\n",
              "      <td>0.974800</td>\n",
              "      <td>0.865262</td>\n",
              "      <td>1.179239</td>\n",
              "    </tr>\n",
              "    <tr>\n",
              "      <th>min</th>\n",
              "      <td>-1.967130</td>\n",
              "      <td>-0.424696</td>\n",
              "      <td>-1.773841</td>\n",
              "      <td>-1.302594</td>\n",
              "    </tr>\n",
              "    <tr>\n",
              "      <th>25%</th>\n",
              "      <td>-0.284631</td>\n",
              "      <td>0.395469</td>\n",
              "      <td>-0.553326</td>\n",
              "      <td>-0.949191</td>\n",
              "    </tr>\n",
              "    <tr>\n",
              "      <th>50%</th>\n",
              "      <td>0.123542</td>\n",
              "      <td>1.424959</td>\n",
              "      <td>0.057349</td>\n",
              "      <td>0.410759</td>\n",
              "    </tr>\n",
              "    <tr>\n",
              "      <th>75%</th>\n",
              "      <td>0.422976</td>\n",
              "      <td>1.636766</td>\n",
              "      <td>0.379263</td>\n",
              "      <td>1.036286</td>\n",
              "    </tr>\n",
              "    <tr>\n",
              "      <th>max</th>\n",
              "      <td>1.125867</td>\n",
              "      <td>1.992322</td>\n",
              "      <td>0.456664</td>\n",
              "      <td>1.353820</td>\n",
              "    </tr>\n",
              "  </tbody>\n",
              "</table>\n",
              "</div>"
            ],
            "text/plain": [
              "              A         B         C         D\n",
              "count  6.000000  6.000000  6.000000  6.000000\n",
              "mean  -0.082014  1.029536 -0.245466  0.119172\n",
              "std    1.053075  0.974800  0.865262  1.179239\n",
              "min   -1.967130 -0.424696 -1.773841 -1.302594\n",
              "25%   -0.284631  0.395469 -0.553326 -0.949191\n",
              "50%    0.123542  1.424959  0.057349  0.410759\n",
              "75%    0.422976  1.636766  0.379263  1.036286\n",
              "max    1.125867  1.992322  0.456664  1.353820"
            ]
          },
          "metadata": {
            "tags": []
          },
          "execution_count": 35
        }
      ]
    },
    {
      "cell_type": "code",
      "metadata": {
        "colab": {
          "base_uri": "https://localhost:8080/",
          "height": 225
        },
        "id": "1J3RbRIZOL1e",
        "outputId": "47f2c3ef-5144-4603-df53-3c4e07a1a68a"
      },
      "source": [
        "df"
      ],
      "execution_count": 36,
      "outputs": [
        {
          "output_type": "execute_result",
          "data": {
            "text/html": [
              "<div>\n",
              "<style scoped>\n",
              "    .dataframe tbody tr th:only-of-type {\n",
              "        vertical-align: middle;\n",
              "    }\n",
              "\n",
              "    .dataframe tbody tr th {\n",
              "        vertical-align: top;\n",
              "    }\n",
              "\n",
              "    .dataframe thead th {\n",
              "        text-align: right;\n",
              "    }\n",
              "</style>\n",
              "<table border=\"1\" class=\"dataframe\">\n",
              "  <thead>\n",
              "    <tr style=\"text-align: right;\">\n",
              "      <th></th>\n",
              "      <th>A</th>\n",
              "      <th>B</th>\n",
              "      <th>C</th>\n",
              "      <th>D</th>\n",
              "    </tr>\n",
              "  </thead>\n",
              "  <tbody>\n",
              "    <tr>\n",
              "      <th>2021-05-07</th>\n",
              "      <td>-0.349312</td>\n",
              "      <td>1.408341</td>\n",
              "      <td>0.400973</td>\n",
              "      <td>-1.302594</td>\n",
              "    </tr>\n",
              "    <tr>\n",
              "      <th>2021-05-08</th>\n",
              "      <td>1.125867</td>\n",
              "      <td>1.441576</td>\n",
              "      <td>-0.199435</td>\n",
              "      <td>0.061488</td>\n",
              "    </tr>\n",
              "    <tr>\n",
              "      <th>2021-05-09</th>\n",
              "      <td>0.337672</td>\n",
              "      <td>-0.424696</td>\n",
              "      <td>-1.773841</td>\n",
              "      <td>1.353820</td>\n",
              "    </tr>\n",
              "    <tr>\n",
              "      <th>2021-05-10</th>\n",
              "      <td>-1.967130</td>\n",
              "      <td>1.992322</td>\n",
              "      <td>0.456664</td>\n",
              "      <td>1.128371</td>\n",
              "    </tr>\n",
              "    <tr>\n",
              "      <th>2021-05-11</th>\n",
              "      <td>-0.090589</td>\n",
              "      <td>1.701829</td>\n",
              "      <td>0.314133</td>\n",
              "      <td>0.760031</td>\n",
              "    </tr>\n",
              "    <tr>\n",
              "      <th>2021-05-12</th>\n",
              "      <td>0.451411</td>\n",
              "      <td>0.057846</td>\n",
              "      <td>-0.671290</td>\n",
              "      <td>-1.286084</td>\n",
              "    </tr>\n",
              "  </tbody>\n",
              "</table>\n",
              "</div>"
            ],
            "text/plain": [
              "                   A         B         C         D\n",
              "2021-05-07 -0.349312  1.408341  0.400973 -1.302594\n",
              "2021-05-08  1.125867  1.441576 -0.199435  0.061488\n",
              "2021-05-09  0.337672 -0.424696 -1.773841  1.353820\n",
              "2021-05-10 -1.967130  1.992322  0.456664  1.128371\n",
              "2021-05-11 -0.090589  1.701829  0.314133  0.760031\n",
              "2021-05-12  0.451411  0.057846 -0.671290 -1.286084"
            ]
          },
          "metadata": {
            "tags": []
          },
          "execution_count": 36
        }
      ]
    },
    {
      "cell_type": "code",
      "metadata": {
        "colab": {
          "base_uri": "https://localhost:8080/",
          "height": 166
        },
        "id": "_hepJz4uO0_t",
        "outputId": "7bd3b86a-6669-479e-d049-dd04d0ad8a8c"
      },
      "source": [
        "df.T"
      ],
      "execution_count": 37,
      "outputs": [
        {
          "output_type": "execute_result",
          "data": {
            "text/html": [
              "<div>\n",
              "<style scoped>\n",
              "    .dataframe tbody tr th:only-of-type {\n",
              "        vertical-align: middle;\n",
              "    }\n",
              "\n",
              "    .dataframe tbody tr th {\n",
              "        vertical-align: top;\n",
              "    }\n",
              "\n",
              "    .dataframe thead th {\n",
              "        text-align: right;\n",
              "    }\n",
              "</style>\n",
              "<table border=\"1\" class=\"dataframe\">\n",
              "  <thead>\n",
              "    <tr style=\"text-align: right;\">\n",
              "      <th></th>\n",
              "      <th>2021-05-07</th>\n",
              "      <th>2021-05-08</th>\n",
              "      <th>2021-05-09</th>\n",
              "      <th>2021-05-10</th>\n",
              "      <th>2021-05-11</th>\n",
              "      <th>2021-05-12</th>\n",
              "    </tr>\n",
              "  </thead>\n",
              "  <tbody>\n",
              "    <tr>\n",
              "      <th>A</th>\n",
              "      <td>-0.349312</td>\n",
              "      <td>1.125867</td>\n",
              "      <td>0.337672</td>\n",
              "      <td>-1.967130</td>\n",
              "      <td>-0.090589</td>\n",
              "      <td>0.451411</td>\n",
              "    </tr>\n",
              "    <tr>\n",
              "      <th>B</th>\n",
              "      <td>1.408341</td>\n",
              "      <td>1.441576</td>\n",
              "      <td>-0.424696</td>\n",
              "      <td>1.992322</td>\n",
              "      <td>1.701829</td>\n",
              "      <td>0.057846</td>\n",
              "    </tr>\n",
              "    <tr>\n",
              "      <th>C</th>\n",
              "      <td>0.400973</td>\n",
              "      <td>-0.199435</td>\n",
              "      <td>-1.773841</td>\n",
              "      <td>0.456664</td>\n",
              "      <td>0.314133</td>\n",
              "      <td>-0.671290</td>\n",
              "    </tr>\n",
              "    <tr>\n",
              "      <th>D</th>\n",
              "      <td>-1.302594</td>\n",
              "      <td>0.061488</td>\n",
              "      <td>1.353820</td>\n",
              "      <td>1.128371</td>\n",
              "      <td>0.760031</td>\n",
              "      <td>-1.286084</td>\n",
              "    </tr>\n",
              "  </tbody>\n",
              "</table>\n",
              "</div>"
            ],
            "text/plain": [
              "   2021-05-07  2021-05-08  2021-05-09  2021-05-10  2021-05-11  2021-05-12\n",
              "A   -0.349312    1.125867    0.337672   -1.967130   -0.090589    0.451411\n",
              "B    1.408341    1.441576   -0.424696    1.992322    1.701829    0.057846\n",
              "C    0.400973   -0.199435   -1.773841    0.456664    0.314133   -0.671290\n",
              "D   -1.302594    0.061488    1.353820    1.128371    0.760031   -1.286084"
            ]
          },
          "metadata": {
            "tags": []
          },
          "execution_count": 37
        }
      ]
    },
    {
      "cell_type": "code",
      "metadata": {
        "id": "Bm5pQNW_O4Ot"
      },
      "source": [
        ""
      ],
      "execution_count": null,
      "outputs": []
    }
  ]
}