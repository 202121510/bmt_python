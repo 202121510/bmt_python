{
  "nbformat": 4,
  "nbformat_minor": 0,
  "metadata": {
    "colab": {
      "name": "21410_10주차",
      "provenance": [],
      "collapsed_sections": [],
      "authorship_tag": "ABX9TyNBKhg9q6zPr84vgqaAm61g",
      "include_colab_link": true
    },
    "kernelspec": {
      "name": "python3",
      "display_name": "Python 3"
    },
    "language_info": {
      "name": "python"
    }
  },
  "cells": [
    {
      "cell_type": "markdown",
      "metadata": {
        "id": "view-in-github",
        "colab_type": "text"
      },
      "source": [
        "<a href=\"https://colab.research.google.com/github/202121510/bmt_python/blob/main/21410_10%EC%A3%BC%EC%B0%A8.ipynb\" target=\"_parent\"><img src=\"https://colab.research.google.com/assets/colab-badge.svg\" alt=\"Open In Colab\"/></a>"
      ]
    },
    {
      "cell_type": "code",
      "metadata": {
        "id": "waMxhX4gf1oT"
      },
      "source": [
        "import pandas as pd\n",
        "import numpy as np\n",
        "import matplotlib.pyplot as plt"
      ],
      "execution_count": 6,
      "outputs": []
    },
    {
      "cell_type": "code",
      "metadata": {
        "id": "mIzSKVNngah3"
      },
      "source": [
        "row = pd.date_range('20210507', periods=6)\n",
        "col = list('ABCD')\n",
        "df = pd.DataFrame(np.random.randn(6,4), index=row, columns=col)"
      ],
      "execution_count": 8,
      "outputs": []
    },
    {
      "cell_type": "code",
      "metadata": {
        "colab": {
          "base_uri": "https://localhost:8080/",
          "height": 225
        },
        "id": "AyzJJBwhgasP",
        "outputId": "1a3f1b8b-d305-4d27-de41-f077030de94e"
      },
      "source": [
        "df"
      ],
      "execution_count": 12,
      "outputs": [
        {
          "output_type": "execute_result",
          "data": {
            "text/html": [
              "<div>\n",
              "<style scoped>\n",
              "    .dataframe tbody tr th:only-of-type {\n",
              "        vertical-align: middle;\n",
              "    }\n",
              "\n",
              "    .dataframe tbody tr th {\n",
              "        vertical-align: top;\n",
              "    }\n",
              "\n",
              "    .dataframe thead th {\n",
              "        text-align: right;\n",
              "    }\n",
              "</style>\n",
              "<table border=\"1\" class=\"dataframe\">\n",
              "  <thead>\n",
              "    <tr style=\"text-align: right;\">\n",
              "      <th></th>\n",
              "      <th>A</th>\n",
              "      <th>B</th>\n",
              "      <th>C</th>\n",
              "      <th>D</th>\n",
              "      <th>F</th>\n",
              "    </tr>\n",
              "  </thead>\n",
              "  <tbody>\n",
              "    <tr>\n",
              "      <th>2021-05-07</th>\n",
              "      <td>-0.337525</td>\n",
              "      <td>-1.395265</td>\n",
              "      <td>-1.175926</td>\n",
              "      <td>0.012205</td>\n",
              "      <td>1</td>\n",
              "    </tr>\n",
              "    <tr>\n",
              "      <th>2021-05-08</th>\n",
              "      <td>0.507165</td>\n",
              "      <td>-2.182610</td>\n",
              "      <td>0.750142</td>\n",
              "      <td>2.027523</td>\n",
              "      <td>2</td>\n",
              "    </tr>\n",
              "    <tr>\n",
              "      <th>2021-05-09</th>\n",
              "      <td>0.623487</td>\n",
              "      <td>0.738393</td>\n",
              "      <td>-0.915303</td>\n",
              "      <td>0.080721</td>\n",
              "      <td>3</td>\n",
              "    </tr>\n",
              "    <tr>\n",
              "      <th>2021-05-10</th>\n",
              "      <td>0.994649</td>\n",
              "      <td>0.793738</td>\n",
              "      <td>-0.206286</td>\n",
              "      <td>-0.522085</td>\n",
              "      <td>4</td>\n",
              "    </tr>\n",
              "    <tr>\n",
              "      <th>2021-05-11</th>\n",
              "      <td>1.070997</td>\n",
              "      <td>-2.210822</td>\n",
              "      <td>-1.359745</td>\n",
              "      <td>2.421773</td>\n",
              "      <td>5</td>\n",
              "    </tr>\n",
              "    <tr>\n",
              "      <th>2021-05-12</th>\n",
              "      <td>-1.029048</td>\n",
              "      <td>0.063959</td>\n",
              "      <td>0.633346</td>\n",
              "      <td>-1.459818</td>\n",
              "      <td>6</td>\n",
              "    </tr>\n",
              "  </tbody>\n",
              "</table>\n",
              "</div>"
            ],
            "text/plain": [
              "                   A         B         C         D  F\n",
              "2021-05-07 -0.337525 -1.395265 -1.175926  0.012205  1\n",
              "2021-05-08  0.507165 -2.182610  0.750142  2.027523  2\n",
              "2021-05-09  0.623487  0.738393 -0.915303  0.080721  3\n",
              "2021-05-10  0.994649  0.793738 -0.206286 -0.522085  4\n",
              "2021-05-11  1.070997 -2.210822 -1.359745  2.421773  5\n",
              "2021-05-12 -1.029048  0.063959  0.633346 -1.459818  6"
            ]
          },
          "metadata": {
            "tags": []
          },
          "execution_count": 12
        }
      ]
    },
    {
      "cell_type": "code",
      "metadata": {
        "id": "llKDC_h_ga8-"
      },
      "source": [
        "s1 = pd.Series([1, 2, 3, 4, 5, 6], index=pd.date_range('20210507', periods=6))"
      ],
      "execution_count": 10,
      "outputs": []
    },
    {
      "cell_type": "code",
      "metadata": {
        "id": "sPt5V6fFgbH2"
      },
      "source": [
        "df['F'] = s1"
      ],
      "execution_count": 11,
      "outputs": []
    },
    {
      "cell_type": "code",
      "metadata": {
        "colab": {
          "base_uri": "https://localhost:8080/",
          "height": 225
        },
        "id": "KPy0crSOgbUG",
        "outputId": "67a3b37c-3a98-41ac-da5e-e63cf9f961c4"
      },
      "source": [
        "df"
      ],
      "execution_count": 13,
      "outputs": [
        {
          "output_type": "execute_result",
          "data": {
            "text/html": [
              "<div>\n",
              "<style scoped>\n",
              "    .dataframe tbody tr th:only-of-type {\n",
              "        vertical-align: middle;\n",
              "    }\n",
              "\n",
              "    .dataframe tbody tr th {\n",
              "        vertical-align: top;\n",
              "    }\n",
              "\n",
              "    .dataframe thead th {\n",
              "        text-align: right;\n",
              "    }\n",
              "</style>\n",
              "<table border=\"1\" class=\"dataframe\">\n",
              "  <thead>\n",
              "    <tr style=\"text-align: right;\">\n",
              "      <th></th>\n",
              "      <th>A</th>\n",
              "      <th>B</th>\n",
              "      <th>C</th>\n",
              "      <th>D</th>\n",
              "      <th>F</th>\n",
              "    </tr>\n",
              "  </thead>\n",
              "  <tbody>\n",
              "    <tr>\n",
              "      <th>2021-05-07</th>\n",
              "      <td>-0.337525</td>\n",
              "      <td>-1.395265</td>\n",
              "      <td>-1.175926</td>\n",
              "      <td>0.012205</td>\n",
              "      <td>1</td>\n",
              "    </tr>\n",
              "    <tr>\n",
              "      <th>2021-05-08</th>\n",
              "      <td>0.507165</td>\n",
              "      <td>-2.182610</td>\n",
              "      <td>0.750142</td>\n",
              "      <td>2.027523</td>\n",
              "      <td>2</td>\n",
              "    </tr>\n",
              "    <tr>\n",
              "      <th>2021-05-09</th>\n",
              "      <td>0.623487</td>\n",
              "      <td>0.738393</td>\n",
              "      <td>-0.915303</td>\n",
              "      <td>0.080721</td>\n",
              "      <td>3</td>\n",
              "    </tr>\n",
              "    <tr>\n",
              "      <th>2021-05-10</th>\n",
              "      <td>0.994649</td>\n",
              "      <td>0.793738</td>\n",
              "      <td>-0.206286</td>\n",
              "      <td>-0.522085</td>\n",
              "      <td>4</td>\n",
              "    </tr>\n",
              "    <tr>\n",
              "      <th>2021-05-11</th>\n",
              "      <td>1.070997</td>\n",
              "      <td>-2.210822</td>\n",
              "      <td>-1.359745</td>\n",
              "      <td>2.421773</td>\n",
              "      <td>5</td>\n",
              "    </tr>\n",
              "    <tr>\n",
              "      <th>2021-05-12</th>\n",
              "      <td>-1.029048</td>\n",
              "      <td>0.063959</td>\n",
              "      <td>0.633346</td>\n",
              "      <td>-1.459818</td>\n",
              "      <td>6</td>\n",
              "    </tr>\n",
              "  </tbody>\n",
              "</table>\n",
              "</div>"
            ],
            "text/plain": [
              "                   A         B         C         D  F\n",
              "2021-05-07 -0.337525 -1.395265 -1.175926  0.012205  1\n",
              "2021-05-08  0.507165 -2.182610  0.750142  2.027523  2\n",
              "2021-05-09  0.623487  0.738393 -0.915303  0.080721  3\n",
              "2021-05-10  0.994649  0.793738 -0.206286 -0.522085  4\n",
              "2021-05-11  1.070997 -2.210822 -1.359745  2.421773  5\n",
              "2021-05-12 -1.029048  0.063959  0.633346 -1.459818  6"
            ]
          },
          "metadata": {
            "tags": []
          },
          "execution_count": 13
        }
      ]
    },
    {
      "cell_type": "code",
      "metadata": {
        "colab": {
          "base_uri": "https://localhost:8080/",
          "height": 225
        },
        "id": "O-Bn4gQJml5F",
        "outputId": "48a8c38a-2998-4636-de80-863b99e65419"
      },
      "source": [
        "df>0"
      ],
      "execution_count": 15,
      "outputs": [
        {
          "output_type": "execute_result",
          "data": {
            "text/html": [
              "<div>\n",
              "<style scoped>\n",
              "    .dataframe tbody tr th:only-of-type {\n",
              "        vertical-align: middle;\n",
              "    }\n",
              "\n",
              "    .dataframe tbody tr th {\n",
              "        vertical-align: top;\n",
              "    }\n",
              "\n",
              "    .dataframe thead th {\n",
              "        text-align: right;\n",
              "    }\n",
              "</style>\n",
              "<table border=\"1\" class=\"dataframe\">\n",
              "  <thead>\n",
              "    <tr style=\"text-align: right;\">\n",
              "      <th></th>\n",
              "      <th>A</th>\n",
              "      <th>B</th>\n",
              "      <th>C</th>\n",
              "      <th>D</th>\n",
              "      <th>F</th>\n",
              "    </tr>\n",
              "  </thead>\n",
              "  <tbody>\n",
              "    <tr>\n",
              "      <th>2021-05-07</th>\n",
              "      <td>False</td>\n",
              "      <td>False</td>\n",
              "      <td>False</td>\n",
              "      <td>True</td>\n",
              "      <td>True</td>\n",
              "    </tr>\n",
              "    <tr>\n",
              "      <th>2021-05-08</th>\n",
              "      <td>True</td>\n",
              "      <td>False</td>\n",
              "      <td>True</td>\n",
              "      <td>True</td>\n",
              "      <td>True</td>\n",
              "    </tr>\n",
              "    <tr>\n",
              "      <th>2021-05-09</th>\n",
              "      <td>True</td>\n",
              "      <td>True</td>\n",
              "      <td>False</td>\n",
              "      <td>True</td>\n",
              "      <td>True</td>\n",
              "    </tr>\n",
              "    <tr>\n",
              "      <th>2021-05-10</th>\n",
              "      <td>True</td>\n",
              "      <td>True</td>\n",
              "      <td>False</td>\n",
              "      <td>False</td>\n",
              "      <td>True</td>\n",
              "    </tr>\n",
              "    <tr>\n",
              "      <th>2021-05-11</th>\n",
              "      <td>True</td>\n",
              "      <td>False</td>\n",
              "      <td>False</td>\n",
              "      <td>True</td>\n",
              "      <td>True</td>\n",
              "    </tr>\n",
              "    <tr>\n",
              "      <th>2021-05-12</th>\n",
              "      <td>False</td>\n",
              "      <td>True</td>\n",
              "      <td>True</td>\n",
              "      <td>False</td>\n",
              "      <td>True</td>\n",
              "    </tr>\n",
              "  </tbody>\n",
              "</table>\n",
              "</div>"
            ],
            "text/plain": [
              "                A      B      C      D     F\n",
              "2021-05-07  False  False  False   True  True\n",
              "2021-05-08   True  False   True   True  True\n",
              "2021-05-09   True   True  False   True  True\n",
              "2021-05-10   True   True  False  False  True\n",
              "2021-05-11   True  False  False   True  True\n",
              "2021-05-12  False   True   True  False  True"
            ]
          },
          "metadata": {
            "tags": []
          },
          "execution_count": 15
        }
      ]
    },
    {
      "cell_type": "code",
      "metadata": {
        "colab": {
          "base_uri": "https://localhost:8080/",
          "height": 225
        },
        "id": "Q7GgrBmogbkG",
        "outputId": "46016c26-4b33-4aa8-a3c9-ef9ad99df383"
      },
      "source": [
        "df[df>0]"
      ],
      "execution_count": 14,
      "outputs": [
        {
          "output_type": "execute_result",
          "data": {
            "text/html": [
              "<div>\n",
              "<style scoped>\n",
              "    .dataframe tbody tr th:only-of-type {\n",
              "        vertical-align: middle;\n",
              "    }\n",
              "\n",
              "    .dataframe tbody tr th {\n",
              "        vertical-align: top;\n",
              "    }\n",
              "\n",
              "    .dataframe thead th {\n",
              "        text-align: right;\n",
              "    }\n",
              "</style>\n",
              "<table border=\"1\" class=\"dataframe\">\n",
              "  <thead>\n",
              "    <tr style=\"text-align: right;\">\n",
              "      <th></th>\n",
              "      <th>A</th>\n",
              "      <th>B</th>\n",
              "      <th>C</th>\n",
              "      <th>D</th>\n",
              "      <th>F</th>\n",
              "    </tr>\n",
              "  </thead>\n",
              "  <tbody>\n",
              "    <tr>\n",
              "      <th>2021-05-07</th>\n",
              "      <td>NaN</td>\n",
              "      <td>NaN</td>\n",
              "      <td>NaN</td>\n",
              "      <td>0.012205</td>\n",
              "      <td>1</td>\n",
              "    </tr>\n",
              "    <tr>\n",
              "      <th>2021-05-08</th>\n",
              "      <td>0.507165</td>\n",
              "      <td>NaN</td>\n",
              "      <td>0.750142</td>\n",
              "      <td>2.027523</td>\n",
              "      <td>2</td>\n",
              "    </tr>\n",
              "    <tr>\n",
              "      <th>2021-05-09</th>\n",
              "      <td>0.623487</td>\n",
              "      <td>0.738393</td>\n",
              "      <td>NaN</td>\n",
              "      <td>0.080721</td>\n",
              "      <td>3</td>\n",
              "    </tr>\n",
              "    <tr>\n",
              "      <th>2021-05-10</th>\n",
              "      <td>0.994649</td>\n",
              "      <td>0.793738</td>\n",
              "      <td>NaN</td>\n",
              "      <td>NaN</td>\n",
              "      <td>4</td>\n",
              "    </tr>\n",
              "    <tr>\n",
              "      <th>2021-05-11</th>\n",
              "      <td>1.070997</td>\n",
              "      <td>NaN</td>\n",
              "      <td>NaN</td>\n",
              "      <td>2.421773</td>\n",
              "      <td>5</td>\n",
              "    </tr>\n",
              "    <tr>\n",
              "      <th>2021-05-12</th>\n",
              "      <td>NaN</td>\n",
              "      <td>0.063959</td>\n",
              "      <td>0.633346</td>\n",
              "      <td>NaN</td>\n",
              "      <td>6</td>\n",
              "    </tr>\n",
              "  </tbody>\n",
              "</table>\n",
              "</div>"
            ],
            "text/plain": [
              "                   A         B         C         D  F\n",
              "2021-05-07       NaN       NaN       NaN  0.012205  1\n",
              "2021-05-08  0.507165       NaN  0.750142  2.027523  2\n",
              "2021-05-09  0.623487  0.738393       NaN  0.080721  3\n",
              "2021-05-10  0.994649  0.793738       NaN       NaN  4\n",
              "2021-05-11  1.070997       NaN       NaN  2.421773  5\n",
              "2021-05-12       NaN  0.063959  0.633346       NaN  6"
            ]
          },
          "metadata": {
            "tags": []
          },
          "execution_count": 14
        }
      ]
    },
    {
      "cell_type": "code",
      "metadata": {
        "id": "LbVhJ82hgbsm"
      },
      "source": [
        "df2=df"
      ],
      "execution_count": 17,
      "outputs": []
    },
    {
      "cell_type": "code",
      "metadata": {
        "id": "VXSqYVBEsdVB"
      },
      "source": [
        "df2=df .copy()"
      ],
      "execution_count": 38,
      "outputs": []
    },
    {
      "cell_type": "code",
      "metadata": {
        "id": "gUuOaZd1sdih"
      },
      "source": [
        "df2[df2>0] = -df"
      ],
      "execution_count": 39,
      "outputs": []
    },
    {
      "cell_type": "code",
      "metadata": {
        "colab": {
          "base_uri": "https://localhost:8080/",
          "height": 225
        },
        "id": "NaQC5WgFgb7m",
        "outputId": "78937df7-403b-402c-a69c-20134032c512"
      },
      "source": [
        "df2"
      ],
      "execution_count": 18,
      "outputs": [
        {
          "output_type": "execute_result",
          "data": {
            "text/html": [
              "<div>\n",
              "<style scoped>\n",
              "    .dataframe tbody tr th:only-of-type {\n",
              "        vertical-align: middle;\n",
              "    }\n",
              "\n",
              "    .dataframe tbody tr th {\n",
              "        vertical-align: top;\n",
              "    }\n",
              "\n",
              "    .dataframe thead th {\n",
              "        text-align: right;\n",
              "    }\n",
              "</style>\n",
              "<table border=\"1\" class=\"dataframe\">\n",
              "  <thead>\n",
              "    <tr style=\"text-align: right;\">\n",
              "      <th></th>\n",
              "      <th>A</th>\n",
              "      <th>B</th>\n",
              "      <th>C</th>\n",
              "      <th>D</th>\n",
              "      <th>F</th>\n",
              "    </tr>\n",
              "  </thead>\n",
              "  <tbody>\n",
              "    <tr>\n",
              "      <th>2021-05-07</th>\n",
              "      <td>-0.337525</td>\n",
              "      <td>-1.395265</td>\n",
              "      <td>-1.175926</td>\n",
              "      <td>0.012205</td>\n",
              "      <td>1</td>\n",
              "    </tr>\n",
              "    <tr>\n",
              "      <th>2021-05-08</th>\n",
              "      <td>0.507165</td>\n",
              "      <td>-2.182610</td>\n",
              "      <td>0.750142</td>\n",
              "      <td>2.027523</td>\n",
              "      <td>2</td>\n",
              "    </tr>\n",
              "    <tr>\n",
              "      <th>2021-05-09</th>\n",
              "      <td>0.623487</td>\n",
              "      <td>0.738393</td>\n",
              "      <td>-0.915303</td>\n",
              "      <td>0.080721</td>\n",
              "      <td>3</td>\n",
              "    </tr>\n",
              "    <tr>\n",
              "      <th>2021-05-10</th>\n",
              "      <td>0.994649</td>\n",
              "      <td>0.793738</td>\n",
              "      <td>-0.206286</td>\n",
              "      <td>-0.522085</td>\n",
              "      <td>4</td>\n",
              "    </tr>\n",
              "    <tr>\n",
              "      <th>2021-05-11</th>\n",
              "      <td>1.070997</td>\n",
              "      <td>-2.210822</td>\n",
              "      <td>-1.359745</td>\n",
              "      <td>2.421773</td>\n",
              "      <td>5</td>\n",
              "    </tr>\n",
              "    <tr>\n",
              "      <th>2021-05-12</th>\n",
              "      <td>-1.029048</td>\n",
              "      <td>0.063959</td>\n",
              "      <td>0.633346</td>\n",
              "      <td>-1.459818</td>\n",
              "      <td>6</td>\n",
              "    </tr>\n",
              "  </tbody>\n",
              "</table>\n",
              "</div>"
            ],
            "text/plain": [
              "                   A         B         C         D  F\n",
              "2021-05-07 -0.337525 -1.395265 -1.175926  0.012205  1\n",
              "2021-05-08  0.507165 -2.182610  0.750142  2.027523  2\n",
              "2021-05-09  0.623487  0.738393 -0.915303  0.080721  3\n",
              "2021-05-10  0.994649  0.793738 -0.206286 -0.522085  4\n",
              "2021-05-11  1.070997 -2.210822 -1.359745  2.421773  5\n",
              "2021-05-12 -1.029048  0.063959  0.633346 -1.459818  6"
            ]
          },
          "metadata": {
            "tags": []
          },
          "execution_count": 18
        }
      ]
    },
    {
      "cell_type": "code",
      "metadata": {
        "colab": {
          "base_uri": "https://localhost:8080/",
          "height": 225
        },
        "id": "wfx4oJ6QnEBE",
        "outputId": "abefb323-a5c6-44dd-9e84-32c6db8b11bc"
      },
      "source": [
        "df"
      ],
      "execution_count": 19,
      "outputs": [
        {
          "output_type": "execute_result",
          "data": {
            "text/html": [
              "<div>\n",
              "<style scoped>\n",
              "    .dataframe tbody tr th:only-of-type {\n",
              "        vertical-align: middle;\n",
              "    }\n",
              "\n",
              "    .dataframe tbody tr th {\n",
              "        vertical-align: top;\n",
              "    }\n",
              "\n",
              "    .dataframe thead th {\n",
              "        text-align: right;\n",
              "    }\n",
              "</style>\n",
              "<table border=\"1\" class=\"dataframe\">\n",
              "  <thead>\n",
              "    <tr style=\"text-align: right;\">\n",
              "      <th></th>\n",
              "      <th>A</th>\n",
              "      <th>B</th>\n",
              "      <th>C</th>\n",
              "      <th>D</th>\n",
              "      <th>F</th>\n",
              "    </tr>\n",
              "  </thead>\n",
              "  <tbody>\n",
              "    <tr>\n",
              "      <th>2021-05-07</th>\n",
              "      <td>-0.337525</td>\n",
              "      <td>-1.395265</td>\n",
              "      <td>-1.175926</td>\n",
              "      <td>0.012205</td>\n",
              "      <td>1</td>\n",
              "    </tr>\n",
              "    <tr>\n",
              "      <th>2021-05-08</th>\n",
              "      <td>0.507165</td>\n",
              "      <td>-2.182610</td>\n",
              "      <td>0.750142</td>\n",
              "      <td>2.027523</td>\n",
              "      <td>2</td>\n",
              "    </tr>\n",
              "    <tr>\n",
              "      <th>2021-05-09</th>\n",
              "      <td>0.623487</td>\n",
              "      <td>0.738393</td>\n",
              "      <td>-0.915303</td>\n",
              "      <td>0.080721</td>\n",
              "      <td>3</td>\n",
              "    </tr>\n",
              "    <tr>\n",
              "      <th>2021-05-10</th>\n",
              "      <td>0.994649</td>\n",
              "      <td>0.793738</td>\n",
              "      <td>-0.206286</td>\n",
              "      <td>-0.522085</td>\n",
              "      <td>4</td>\n",
              "    </tr>\n",
              "    <tr>\n",
              "      <th>2021-05-11</th>\n",
              "      <td>1.070997</td>\n",
              "      <td>-2.210822</td>\n",
              "      <td>-1.359745</td>\n",
              "      <td>2.421773</td>\n",
              "      <td>5</td>\n",
              "    </tr>\n",
              "    <tr>\n",
              "      <th>2021-05-12</th>\n",
              "      <td>-1.029048</td>\n",
              "      <td>0.063959</td>\n",
              "      <td>0.633346</td>\n",
              "      <td>-1.459818</td>\n",
              "      <td>6</td>\n",
              "    </tr>\n",
              "  </tbody>\n",
              "</table>\n",
              "</div>"
            ],
            "text/plain": [
              "                   A         B         C         D  F\n",
              "2021-05-07 -0.337525 -1.395265 -1.175926  0.012205  1\n",
              "2021-05-08  0.507165 -2.182610  0.750142  2.027523  2\n",
              "2021-05-09  0.623487  0.738393 -0.915303  0.080721  3\n",
              "2021-05-10  0.994649  0.793738 -0.206286 -0.522085  4\n",
              "2021-05-11  1.070997 -2.210822 -1.359745  2.421773  5\n",
              "2021-05-12 -1.029048  0.063959  0.633346 -1.459818  6"
            ]
          },
          "metadata": {
            "tags": []
          },
          "execution_count": 19
        }
      ]
    },
    {
      "cell_type": "code",
      "metadata": {
        "colab": {
          "base_uri": "https://localhost:8080/"
        },
        "id": "DvfOOOL6nELj",
        "outputId": "d5d8606b-1d44-4c2f-dd17-b40a28b4b064"
      },
      "source": [
        "df.mean(0)"
      ],
      "execution_count": 22,
      "outputs": [
        {
          "output_type": "execute_result",
          "data": {
            "text/plain": [
              "A    0.304954\n",
              "B   -0.698768\n",
              "C   -0.378962\n",
              "D    0.426720\n",
              "F    3.500000\n",
              "dtype: float64"
            ]
          },
          "metadata": {
            "tags": []
          },
          "execution_count": 22
        }
      ]
    },
    {
      "cell_type": "code",
      "metadata": {
        "colab": {
          "base_uri": "https://localhost:8080/"
        },
        "id": "dnSh5OmInEVk",
        "outputId": "ec82a66d-5aee-4649-846f-eca86d2be551"
      },
      "source": [
        "df.mean(1)"
      ],
      "execution_count": 21,
      "outputs": [
        {
          "output_type": "execute_result",
          "data": {
            "text/plain": [
              "2021-05-07   -0.379302\n",
              "2021-05-08    0.620444\n",
              "2021-05-09    0.705459\n",
              "2021-05-10    1.012003\n",
              "2021-05-11    0.984440\n",
              "2021-05-12    0.841688\n",
              "Freq: D, dtype: float64"
            ]
          },
          "metadata": {
            "tags": []
          },
          "execution_count": 21
        }
      ]
    },
    {
      "cell_type": "code",
      "metadata": {
        "colab": {
          "base_uri": "https://localhost:8080/"
        },
        "id": "jexhXi4qnEu0",
        "outputId": "c3319959-ecdc-45cb-ea1a-563ff3369ecd"
      },
      "source": [
        "print(df.apply(np.cumsum));print() # 데이터에 함수를 적용\n",
        "# np.cumsum : 배열에서 주어진 축에 따라 누적되는 원소들의 누적 합을 계산하는 함수\n",
        "\n",
        "print(df.apply(lambda x: x.max() - x.min())) # 행에 대해 함수 적용"
      ],
      "execution_count": 23,
      "outputs": [
        {
          "output_type": "stream",
          "text": [
            "                   A         B         C         D   F\n",
            "2021-05-07 -0.337525 -1.395265 -1.175926  0.012205   1\n",
            "2021-05-08  0.169640 -3.577875 -0.425784  2.039728   3\n",
            "2021-05-09  0.793127 -2.839482 -1.341087  2.120449   6\n",
            "2021-05-10  1.787776 -2.045744 -1.547373  1.598364  10\n",
            "2021-05-11  2.858773 -4.256566 -2.907118  4.020137  15\n",
            "2021-05-12  1.829725 -4.192607 -2.273772  2.560319  21\n",
            "\n",
            "A    2.100045\n",
            "B    3.004561\n",
            "C    2.109888\n",
            "D    3.881591\n",
            "F    5.000000\n",
            "dtype: float64\n"
          ],
          "name": "stdout"
        }
      ]
    },
    {
      "cell_type": "code",
      "metadata": {
        "colab": {
          "base_uri": "https://localhost:8080/",
          "height": 225
        },
        "id": "UCrLJpy1nE8U",
        "outputId": "617c6a9c-1dca-4bbe-df58-1090350db41a"
      },
      "source": [
        "df.apply(np.cumsum)"
      ],
      "execution_count": 24,
      "outputs": [
        {
          "output_type": "execute_result",
          "data": {
            "text/html": [
              "<div>\n",
              "<style scoped>\n",
              "    .dataframe tbody tr th:only-of-type {\n",
              "        vertical-align: middle;\n",
              "    }\n",
              "\n",
              "    .dataframe tbody tr th {\n",
              "        vertical-align: top;\n",
              "    }\n",
              "\n",
              "    .dataframe thead th {\n",
              "        text-align: right;\n",
              "    }\n",
              "</style>\n",
              "<table border=\"1\" class=\"dataframe\">\n",
              "  <thead>\n",
              "    <tr style=\"text-align: right;\">\n",
              "      <th></th>\n",
              "      <th>A</th>\n",
              "      <th>B</th>\n",
              "      <th>C</th>\n",
              "      <th>D</th>\n",
              "      <th>F</th>\n",
              "    </tr>\n",
              "  </thead>\n",
              "  <tbody>\n",
              "    <tr>\n",
              "      <th>2021-05-07</th>\n",
              "      <td>-0.337525</td>\n",
              "      <td>-1.395265</td>\n",
              "      <td>-1.175926</td>\n",
              "      <td>0.012205</td>\n",
              "      <td>1</td>\n",
              "    </tr>\n",
              "    <tr>\n",
              "      <th>2021-05-08</th>\n",
              "      <td>0.169640</td>\n",
              "      <td>-3.577875</td>\n",
              "      <td>-0.425784</td>\n",
              "      <td>2.039728</td>\n",
              "      <td>3</td>\n",
              "    </tr>\n",
              "    <tr>\n",
              "      <th>2021-05-09</th>\n",
              "      <td>0.793127</td>\n",
              "      <td>-2.839482</td>\n",
              "      <td>-1.341087</td>\n",
              "      <td>2.120449</td>\n",
              "      <td>6</td>\n",
              "    </tr>\n",
              "    <tr>\n",
              "      <th>2021-05-10</th>\n",
              "      <td>1.787776</td>\n",
              "      <td>-2.045744</td>\n",
              "      <td>-1.547373</td>\n",
              "      <td>1.598364</td>\n",
              "      <td>10</td>\n",
              "    </tr>\n",
              "    <tr>\n",
              "      <th>2021-05-11</th>\n",
              "      <td>2.858773</td>\n",
              "      <td>-4.256566</td>\n",
              "      <td>-2.907118</td>\n",
              "      <td>4.020137</td>\n",
              "      <td>15</td>\n",
              "    </tr>\n",
              "    <tr>\n",
              "      <th>2021-05-12</th>\n",
              "      <td>1.829725</td>\n",
              "      <td>-4.192607</td>\n",
              "      <td>-2.273772</td>\n",
              "      <td>2.560319</td>\n",
              "      <td>21</td>\n",
              "    </tr>\n",
              "  </tbody>\n",
              "</table>\n",
              "</div>"
            ],
            "text/plain": [
              "                   A         B         C         D   F\n",
              "2021-05-07 -0.337525 -1.395265 -1.175926  0.012205   1\n",
              "2021-05-08  0.169640 -3.577875 -0.425784  2.039728   3\n",
              "2021-05-09  0.793127 -2.839482 -1.341087  2.120449   6\n",
              "2021-05-10  1.787776 -2.045744 -1.547373  1.598364  10\n",
              "2021-05-11  2.858773 -4.256566 -2.907118  4.020137  15\n",
              "2021-05-12  1.829725 -4.192607 -2.273772  2.560319  21"
            ]
          },
          "metadata": {
            "tags": []
          },
          "execution_count": 24
        }
      ]
    },
    {
      "cell_type": "code",
      "metadata": {
        "colab": {
          "base_uri": "https://localhost:8080/",
          "height": 225
        },
        "id": "_wBKLxTFnFIk",
        "outputId": "9c8c4275-0ea5-459d-bc74-f9c70ccded5d"
      },
      "source": [
        "df"
      ],
      "execution_count": 25,
      "outputs": [
        {
          "output_type": "execute_result",
          "data": {
            "text/html": [
              "<div>\n",
              "<style scoped>\n",
              "    .dataframe tbody tr th:only-of-type {\n",
              "        vertical-align: middle;\n",
              "    }\n",
              "\n",
              "    .dataframe tbody tr th {\n",
              "        vertical-align: top;\n",
              "    }\n",
              "\n",
              "    .dataframe thead th {\n",
              "        text-align: right;\n",
              "    }\n",
              "</style>\n",
              "<table border=\"1\" class=\"dataframe\">\n",
              "  <thead>\n",
              "    <tr style=\"text-align: right;\">\n",
              "      <th></th>\n",
              "      <th>A</th>\n",
              "      <th>B</th>\n",
              "      <th>C</th>\n",
              "      <th>D</th>\n",
              "      <th>F</th>\n",
              "    </tr>\n",
              "  </thead>\n",
              "  <tbody>\n",
              "    <tr>\n",
              "      <th>2021-05-07</th>\n",
              "      <td>-0.337525</td>\n",
              "      <td>-1.395265</td>\n",
              "      <td>-1.175926</td>\n",
              "      <td>0.012205</td>\n",
              "      <td>1</td>\n",
              "    </tr>\n",
              "    <tr>\n",
              "      <th>2021-05-08</th>\n",
              "      <td>0.507165</td>\n",
              "      <td>-2.182610</td>\n",
              "      <td>0.750142</td>\n",
              "      <td>2.027523</td>\n",
              "      <td>2</td>\n",
              "    </tr>\n",
              "    <tr>\n",
              "      <th>2021-05-09</th>\n",
              "      <td>0.623487</td>\n",
              "      <td>0.738393</td>\n",
              "      <td>-0.915303</td>\n",
              "      <td>0.080721</td>\n",
              "      <td>3</td>\n",
              "    </tr>\n",
              "    <tr>\n",
              "      <th>2021-05-10</th>\n",
              "      <td>0.994649</td>\n",
              "      <td>0.793738</td>\n",
              "      <td>-0.206286</td>\n",
              "      <td>-0.522085</td>\n",
              "      <td>4</td>\n",
              "    </tr>\n",
              "    <tr>\n",
              "      <th>2021-05-11</th>\n",
              "      <td>1.070997</td>\n",
              "      <td>-2.210822</td>\n",
              "      <td>-1.359745</td>\n",
              "      <td>2.421773</td>\n",
              "      <td>5</td>\n",
              "    </tr>\n",
              "    <tr>\n",
              "      <th>2021-05-12</th>\n",
              "      <td>-1.029048</td>\n",
              "      <td>0.063959</td>\n",
              "      <td>0.633346</td>\n",
              "      <td>-1.459818</td>\n",
              "      <td>6</td>\n",
              "    </tr>\n",
              "  </tbody>\n",
              "</table>\n",
              "</div>"
            ],
            "text/plain": [
              "                   A         B         C         D  F\n",
              "2021-05-07 -0.337525 -1.395265 -1.175926  0.012205  1\n",
              "2021-05-08  0.507165 -2.182610  0.750142  2.027523  2\n",
              "2021-05-09  0.623487  0.738393 -0.915303  0.080721  3\n",
              "2021-05-10  0.994649  0.793738 -0.206286 -0.522085  4\n",
              "2021-05-11  1.070997 -2.210822 -1.359745  2.421773  5\n",
              "2021-05-12 -1.029048  0.063959  0.633346 -1.459818  6"
            ]
          },
          "metadata": {
            "tags": []
          },
          "execution_count": 25
        }
      ]
    },
    {
      "cell_type": "code",
      "metadata": {
        "colab": {
          "base_uri": "https://localhost:8080/",
          "height": 225
        },
        "id": "HjY2YAJDnFV8",
        "outputId": "a0b721bb-a0fe-4ab8-980d-df805a8b7658"
      },
      "source": [
        "df.apply(np.cumsum,axis=1)"
      ],
      "execution_count": 33,
      "outputs": [
        {
          "output_type": "execute_result",
          "data": {
            "text/html": [
              "<div>\n",
              "<style scoped>\n",
              "    .dataframe tbody tr th:only-of-type {\n",
              "        vertical-align: middle;\n",
              "    }\n",
              "\n",
              "    .dataframe tbody tr th {\n",
              "        vertical-align: top;\n",
              "    }\n",
              "\n",
              "    .dataframe thead th {\n",
              "        text-align: right;\n",
              "    }\n",
              "</style>\n",
              "<table border=\"1\" class=\"dataframe\">\n",
              "  <thead>\n",
              "    <tr style=\"text-align: right;\">\n",
              "      <th></th>\n",
              "      <th>A</th>\n",
              "      <th>B</th>\n",
              "      <th>C</th>\n",
              "      <th>D</th>\n",
              "      <th>F</th>\n",
              "    </tr>\n",
              "  </thead>\n",
              "  <tbody>\n",
              "    <tr>\n",
              "      <th>2021-05-07</th>\n",
              "      <td>-0.337525</td>\n",
              "      <td>-1.732790</td>\n",
              "      <td>-2.908716</td>\n",
              "      <td>-2.896511</td>\n",
              "      <td>-1.896511</td>\n",
              "    </tr>\n",
              "    <tr>\n",
              "      <th>2021-05-08</th>\n",
              "      <td>0.507165</td>\n",
              "      <td>-1.675445</td>\n",
              "      <td>-0.925303</td>\n",
              "      <td>1.102220</td>\n",
              "      <td>3.102220</td>\n",
              "    </tr>\n",
              "    <tr>\n",
              "      <th>2021-05-09</th>\n",
              "      <td>0.623487</td>\n",
              "      <td>1.361880</td>\n",
              "      <td>0.446577</td>\n",
              "      <td>0.527297</td>\n",
              "      <td>3.527297</td>\n",
              "    </tr>\n",
              "    <tr>\n",
              "      <th>2021-05-10</th>\n",
              "      <td>0.994649</td>\n",
              "      <td>1.788387</td>\n",
              "      <td>1.582101</td>\n",
              "      <td>1.060016</td>\n",
              "      <td>5.060016</td>\n",
              "    </tr>\n",
              "    <tr>\n",
              "      <th>2021-05-11</th>\n",
              "      <td>1.070997</td>\n",
              "      <td>-1.139826</td>\n",
              "      <td>-2.499571</td>\n",
              "      <td>-0.077798</td>\n",
              "      <td>4.922202</td>\n",
              "    </tr>\n",
              "    <tr>\n",
              "      <th>2021-05-12</th>\n",
              "      <td>-1.029048</td>\n",
              "      <td>-0.965089</td>\n",
              "      <td>-0.331743</td>\n",
              "      <td>-1.791561</td>\n",
              "      <td>4.208439</td>\n",
              "    </tr>\n",
              "  </tbody>\n",
              "</table>\n",
              "</div>"
            ],
            "text/plain": [
              "                   A         B         C         D         F\n",
              "2021-05-07 -0.337525 -1.732790 -2.908716 -2.896511 -1.896511\n",
              "2021-05-08  0.507165 -1.675445 -0.925303  1.102220  3.102220\n",
              "2021-05-09  0.623487  1.361880  0.446577  0.527297  3.527297\n",
              "2021-05-10  0.994649  1.788387  1.582101  1.060016  5.060016\n",
              "2021-05-11  1.070997 -1.139826 -2.499571 -0.077798  4.922202\n",
              "2021-05-12 -1.029048 -0.965089 -0.331743 -1.791561  4.208439"
            ]
          },
          "metadata": {
            "tags": []
          },
          "execution_count": 33
        }
      ]
    },
    {
      "cell_type": "code",
      "metadata": {
        "colab": {
          "base_uri": "https://localhost:8080/"
        },
        "id": "ebFTy2_tpawU",
        "outputId": "56599ebe-c163-4c53-e82f-2cbb4aeeb8db"
      },
      "source": [
        "print(df.apply(lambda x: x.max() - x.min())) # 행에 대해 함수 적용"
      ],
      "execution_count": 27,
      "outputs": [
        {
          "output_type": "stream",
          "text": [
            "A    2.100045\n",
            "B    3.004561\n",
            "C    2.109888\n",
            "D    3.881591\n",
            "F    5.000000\n",
            "dtype: float64\n"
          ],
          "name": "stdout"
        }
      ]
    },
    {
      "cell_type": "code",
      "metadata": {
        "colab": {
          "base_uri": "https://localhost:8080/"
        },
        "id": "ImUSziJTtKob",
        "outputId": "b2b537ca-aedd-471e-f407-bb5904ae177e"
      },
      "source": [
        "df.apply(lambda x: x.max() - x.min())"
      ],
      "execution_count": 43,
      "outputs": [
        {
          "output_type": "execute_result",
          "data": {
            "text/plain": [
              "A    0.733472\n",
              "B    2.146863\n",
              "C    1.153460\n",
              "D    2.409568\n",
              "F    5.000000\n",
              "dtype: float64"
            ]
          },
          "metadata": {
            "tags": []
          },
          "execution_count": 43
        }
      ]
    },
    {
      "cell_type": "code",
      "metadata": {
        "id": "UxqSDCO-tfBh"
      },
      "source": [
        "df"
      ],
      "execution_count": null,
      "outputs": []
    },
    {
      "cell_type": "code",
      "metadata": {
        "colab": {
          "base_uri": "https://localhost:8080/"
        },
        "id": "iK_v5Z__pa57",
        "outputId": "16ccc1dc-5499-4da8-c9e9-4be29f5effa4"
      },
      "source": [
        "lambda x : x.max() - x.min"
      ],
      "execution_count": 28,
      "outputs": [
        {
          "output_type": "execute_result",
          "data": {
            "text/plain": [
              "<function __main__.<lambda>>"
            ]
          },
          "metadata": {
            "tags": []
          },
          "execution_count": 28
        }
      ]
    },
    {
      "cell_type": "code",
      "metadata": {
        "colab": {
          "base_uri": "https://localhost:8080/"
        },
        "id": "bNg85WfEpbJK",
        "outputId": "c6b56e3c-09d2-43e0-ccdd-0c904885632d"
      },
      "source": [
        "s = pd.Series(np.random.randint(0, 7, size = 10))\n",
        "print(s);print()\n",
        "print(s.value_counts()) # 유일한 값별 개수 세기"
      ],
      "execution_count": 44,
      "outputs": [
        {
          "output_type": "stream",
          "text": [
            "0    4\n",
            "1    3\n",
            "2    6\n",
            "3    0\n",
            "4    1\n",
            "5    5\n",
            "6    2\n",
            "7    5\n",
            "8    5\n",
            "9    0\n",
            "dtype: int64\n",
            "\n",
            "5    3\n",
            "0    2\n",
            "6    1\n",
            "4    1\n",
            "3    1\n",
            "2    1\n",
            "1    1\n",
            "dtype: int64\n"
          ],
          "name": "stdout"
        }
      ]
    },
    {
      "cell_type": "code",
      "metadata": {
        "colab": {
          "base_uri": "https://localhost:8080/",
          "height": 225
        },
        "id": "DwoD8eHtpbe7",
        "outputId": "0ade65eb-2082-447c-8797-c8aa8a2b7ffd"
      },
      "source": [
        "df"
      ],
      "execution_count": 45,
      "outputs": [
        {
          "output_type": "execute_result",
          "data": {
            "text/html": [
              "<div>\n",
              "<style scoped>\n",
              "    .dataframe tbody tr th:only-of-type {\n",
              "        vertical-align: middle;\n",
              "    }\n",
              "\n",
              "    .dataframe tbody tr th {\n",
              "        vertical-align: top;\n",
              "    }\n",
              "\n",
              "    .dataframe thead th {\n",
              "        text-align: right;\n",
              "    }\n",
              "</style>\n",
              "<table border=\"1\" class=\"dataframe\">\n",
              "  <thead>\n",
              "    <tr style=\"text-align: right;\">\n",
              "      <th></th>\n",
              "      <th>A</th>\n",
              "      <th>B</th>\n",
              "      <th>C</th>\n",
              "      <th>D</th>\n",
              "      <th>F</th>\n",
              "    </tr>\n",
              "  </thead>\n",
              "  <tbody>\n",
              "    <tr>\n",
              "      <th>2021-05-07</th>\n",
              "      <td>-0.337525</td>\n",
              "      <td>-1.395265</td>\n",
              "      <td>-1.175926</td>\n",
              "      <td>-0.012205</td>\n",
              "      <td>-1</td>\n",
              "    </tr>\n",
              "    <tr>\n",
              "      <th>2021-05-08</th>\n",
              "      <td>-0.507165</td>\n",
              "      <td>-2.182610</td>\n",
              "      <td>-0.750142</td>\n",
              "      <td>-2.027523</td>\n",
              "      <td>-2</td>\n",
              "    </tr>\n",
              "    <tr>\n",
              "      <th>2021-05-09</th>\n",
              "      <td>-0.623487</td>\n",
              "      <td>-0.738393</td>\n",
              "      <td>-0.915303</td>\n",
              "      <td>-0.080721</td>\n",
              "      <td>-3</td>\n",
              "    </tr>\n",
              "    <tr>\n",
              "      <th>2021-05-10</th>\n",
              "      <td>-0.994649</td>\n",
              "      <td>-0.793738</td>\n",
              "      <td>-0.206286</td>\n",
              "      <td>-0.522085</td>\n",
              "      <td>-4</td>\n",
              "    </tr>\n",
              "    <tr>\n",
              "      <th>2021-05-11</th>\n",
              "      <td>-1.070997</td>\n",
              "      <td>-2.210822</td>\n",
              "      <td>-1.359745</td>\n",
              "      <td>-2.421773</td>\n",
              "      <td>-5</td>\n",
              "    </tr>\n",
              "    <tr>\n",
              "      <th>2021-05-12</th>\n",
              "      <td>-1.029048</td>\n",
              "      <td>-0.063959</td>\n",
              "      <td>-0.633346</td>\n",
              "      <td>-1.459818</td>\n",
              "      <td>-6</td>\n",
              "    </tr>\n",
              "  </tbody>\n",
              "</table>\n",
              "</div>"
            ],
            "text/plain": [
              "                   A         B         C         D  F\n",
              "2021-05-07 -0.337525 -1.395265 -1.175926 -0.012205 -1\n",
              "2021-05-08 -0.507165 -2.182610 -0.750142 -2.027523 -2\n",
              "2021-05-09 -0.623487 -0.738393 -0.915303 -0.080721 -3\n",
              "2021-05-10 -0.994649 -0.793738 -0.206286 -0.522085 -4\n",
              "2021-05-11 -1.070997 -2.210822 -1.359745 -2.421773 -5\n",
              "2021-05-12 -1.029048 -0.063959 -0.633346 -1.459818 -6"
            ]
          },
          "metadata": {
            "tags": []
          },
          "execution_count": 45
        }
      ]
    },
    {
      "cell_type": "code",
      "metadata": {
        "colab": {
          "base_uri": "https://localhost:8080/"
        },
        "id": "hvmqHAELpbw9",
        "outputId": "fb25ec3c-934d-417f-aff8-89816a23f0c5"
      },
      "source": [
        "s = pd.Series(np.random.randint(1, 7, size = 6000))\n",
        "s.value_counts()"
      ],
      "execution_count": 51,
      "outputs": [
        {
          "output_type": "execute_result",
          "data": {
            "text/plain": [
              "3    1012\n",
              "2    1008\n",
              "4    1006\n",
              "1    1002\n",
              "5     988\n",
              "6     984\n",
              "dtype: int64"
            ]
          },
          "metadata": {
            "tags": []
          },
          "execution_count": 51
        }
      ]
    },
    {
      "cell_type": "code",
      "metadata": {
        "colab": {
          "base_uri": "https://localhost:8080/"
        },
        "id": "s67d-Z-8pcHj",
        "outputId": "87c47e20-7635-40c0-bfaf-d7229e5c6254"
      },
      "source": [
        "# Concat (연결)\n",
        "df = pd.DataFrame(np.random.randn(10, 4)) # 수치 값 / 인덱스 번호 임의(0~) / 컬럼 번호 임의(0~)\n",
        "\n",
        "pieces = [df[:3], df[3:7], df[7:]] # 조각내기\n",
        "\n",
        "print(pd.concat(pieces)) # 합치기"
      ],
      "execution_count": 52,
      "outputs": [
        {
          "output_type": "stream",
          "text": [
            "          0         1         2         3\n",
            "0 -2.180761  0.838893 -1.407548 -0.233561\n",
            "1 -1.201365 -1.096412 -1.321899 -0.331005\n",
            "2 -0.468685 -0.211145 -0.250909 -0.494049\n",
            "3 -0.896355 -0.735015 -0.101807 -0.302950\n",
            "4  0.608437  0.576777  1.108394 -1.096567\n",
            "5 -1.329569 -1.626450 -0.198999  0.580872\n",
            "6 -0.203311  2.077121  1.237536  0.063674\n",
            "7  0.639815  0.813637  1.150552 -1.126748\n",
            "8 -0.881992  0.217789 -0.926764 -0.697181\n",
            "9 -0.547807  0.016375 -0.352052 -0.771524\n"
          ],
          "name": "stdout"
        }
      ]
    },
    {
      "cell_type": "code",
      "metadata": {
        "id": "qICDIgVvpcWb"
      },
      "source": [
        "df = pd.DataFrame(np.random.randn(10, 4))"
      ],
      "execution_count": 53,
      "outputs": []
    },
    {
      "cell_type": "code",
      "metadata": {
        "colab": {
          "base_uri": "https://localhost:8080/",
          "height": 343
        },
        "id": "52jaqXFFpciT",
        "outputId": "edef88de-3b70-496d-e795-5e5fc40ab55e"
      },
      "source": [
        "df"
      ],
      "execution_count": 54,
      "outputs": [
        {
          "output_type": "execute_result",
          "data": {
            "text/html": [
              "<div>\n",
              "<style scoped>\n",
              "    .dataframe tbody tr th:only-of-type {\n",
              "        vertical-align: middle;\n",
              "    }\n",
              "\n",
              "    .dataframe tbody tr th {\n",
              "        vertical-align: top;\n",
              "    }\n",
              "\n",
              "    .dataframe thead th {\n",
              "        text-align: right;\n",
              "    }\n",
              "</style>\n",
              "<table border=\"1\" class=\"dataframe\">\n",
              "  <thead>\n",
              "    <tr style=\"text-align: right;\">\n",
              "      <th></th>\n",
              "      <th>0</th>\n",
              "      <th>1</th>\n",
              "      <th>2</th>\n",
              "      <th>3</th>\n",
              "    </tr>\n",
              "  </thead>\n",
              "  <tbody>\n",
              "    <tr>\n",
              "      <th>0</th>\n",
              "      <td>0.441516</td>\n",
              "      <td>1.259196</td>\n",
              "      <td>-1.007266</td>\n",
              "      <td>0.293932</td>\n",
              "    </tr>\n",
              "    <tr>\n",
              "      <th>1</th>\n",
              "      <td>0.714656</td>\n",
              "      <td>0.434635</td>\n",
              "      <td>-0.735645</td>\n",
              "      <td>1.754128</td>\n",
              "    </tr>\n",
              "    <tr>\n",
              "      <th>2</th>\n",
              "      <td>1.986436</td>\n",
              "      <td>0.088709</td>\n",
              "      <td>0.064067</td>\n",
              "      <td>0.914761</td>\n",
              "    </tr>\n",
              "    <tr>\n",
              "      <th>3</th>\n",
              "      <td>0.423731</td>\n",
              "      <td>-2.101542</td>\n",
              "      <td>-1.220208</td>\n",
              "      <td>0.439542</td>\n",
              "    </tr>\n",
              "    <tr>\n",
              "      <th>4</th>\n",
              "      <td>0.995568</td>\n",
              "      <td>0.114378</td>\n",
              "      <td>-1.337874</td>\n",
              "      <td>0.209648</td>\n",
              "    </tr>\n",
              "    <tr>\n",
              "      <th>5</th>\n",
              "      <td>0.449151</td>\n",
              "      <td>0.016817</td>\n",
              "      <td>0.273023</td>\n",
              "      <td>-1.043340</td>\n",
              "    </tr>\n",
              "    <tr>\n",
              "      <th>6</th>\n",
              "      <td>2.168347</td>\n",
              "      <td>0.419844</td>\n",
              "      <td>0.157062</td>\n",
              "      <td>1.995708</td>\n",
              "    </tr>\n",
              "    <tr>\n",
              "      <th>7</th>\n",
              "      <td>1.157191</td>\n",
              "      <td>0.168504</td>\n",
              "      <td>-0.438049</td>\n",
              "      <td>0.459209</td>\n",
              "    </tr>\n",
              "    <tr>\n",
              "      <th>8</th>\n",
              "      <td>0.387241</td>\n",
              "      <td>-1.886006</td>\n",
              "      <td>-0.651633</td>\n",
              "      <td>-0.960846</td>\n",
              "    </tr>\n",
              "    <tr>\n",
              "      <th>9</th>\n",
              "      <td>0.337488</td>\n",
              "      <td>0.540259</td>\n",
              "      <td>-0.832810</td>\n",
              "      <td>-0.767925</td>\n",
              "    </tr>\n",
              "  </tbody>\n",
              "</table>\n",
              "</div>"
            ],
            "text/plain": [
              "          0         1         2         3\n",
              "0  0.441516  1.259196 -1.007266  0.293932\n",
              "1  0.714656  0.434635 -0.735645  1.754128\n",
              "2  1.986436  0.088709  0.064067  0.914761\n",
              "3  0.423731 -2.101542 -1.220208  0.439542\n",
              "4  0.995568  0.114378 -1.337874  0.209648\n",
              "5  0.449151  0.016817  0.273023 -1.043340\n",
              "6  2.168347  0.419844  0.157062  1.995708\n",
              "7  1.157191  0.168504 -0.438049  0.459209\n",
              "8  0.387241 -1.886006 -0.651633 -0.960846\n",
              "9  0.337488  0.540259 -0.832810 -0.767925"
            ]
          },
          "metadata": {
            "tags": []
          },
          "execution_count": 54
        }
      ]
    },
    {
      "cell_type": "code",
      "metadata": {
        "id": "g1ZTu3Oepcua"
      },
      "source": [
        "# pieces = [df[:3], df[3:7], df[7:]] # 조각내기\n",
        "pieces = [df[:3], df[3:7], df[7:]]"
      ],
      "execution_count": 56,
      "outputs": []
    },
    {
      "cell_type": "code",
      "metadata": {
        "colab": {
          "base_uri": "https://localhost:8080/",
          "height": 343
        },
        "id": "AxUhn_jGpdCD",
        "outputId": "13ce5066-d3da-44ad-b89f-e495604adc5e"
      },
      "source": [
        "pd.concat(pieces)"
      ],
      "execution_count": 58,
      "outputs": [
        {
          "output_type": "execute_result",
          "data": {
            "text/html": [
              "<div>\n",
              "<style scoped>\n",
              "    .dataframe tbody tr th:only-of-type {\n",
              "        vertical-align: middle;\n",
              "    }\n",
              "\n",
              "    .dataframe tbody tr th {\n",
              "        vertical-align: top;\n",
              "    }\n",
              "\n",
              "    .dataframe thead th {\n",
              "        text-align: right;\n",
              "    }\n",
              "</style>\n",
              "<table border=\"1\" class=\"dataframe\">\n",
              "  <thead>\n",
              "    <tr style=\"text-align: right;\">\n",
              "      <th></th>\n",
              "      <th>0</th>\n",
              "      <th>1</th>\n",
              "      <th>2</th>\n",
              "      <th>3</th>\n",
              "    </tr>\n",
              "  </thead>\n",
              "  <tbody>\n",
              "    <tr>\n",
              "      <th>0</th>\n",
              "      <td>0.441516</td>\n",
              "      <td>1.259196</td>\n",
              "      <td>-1.007266</td>\n",
              "      <td>0.293932</td>\n",
              "    </tr>\n",
              "    <tr>\n",
              "      <th>1</th>\n",
              "      <td>0.714656</td>\n",
              "      <td>0.434635</td>\n",
              "      <td>-0.735645</td>\n",
              "      <td>1.754128</td>\n",
              "    </tr>\n",
              "    <tr>\n",
              "      <th>2</th>\n",
              "      <td>1.986436</td>\n",
              "      <td>0.088709</td>\n",
              "      <td>0.064067</td>\n",
              "      <td>0.914761</td>\n",
              "    </tr>\n",
              "    <tr>\n",
              "      <th>3</th>\n",
              "      <td>0.423731</td>\n",
              "      <td>-2.101542</td>\n",
              "      <td>-1.220208</td>\n",
              "      <td>0.439542</td>\n",
              "    </tr>\n",
              "    <tr>\n",
              "      <th>4</th>\n",
              "      <td>0.995568</td>\n",
              "      <td>0.114378</td>\n",
              "      <td>-1.337874</td>\n",
              "      <td>0.209648</td>\n",
              "    </tr>\n",
              "    <tr>\n",
              "      <th>5</th>\n",
              "      <td>0.449151</td>\n",
              "      <td>0.016817</td>\n",
              "      <td>0.273023</td>\n",
              "      <td>-1.043340</td>\n",
              "    </tr>\n",
              "    <tr>\n",
              "      <th>6</th>\n",
              "      <td>2.168347</td>\n",
              "      <td>0.419844</td>\n",
              "      <td>0.157062</td>\n",
              "      <td>1.995708</td>\n",
              "    </tr>\n",
              "    <tr>\n",
              "      <th>7</th>\n",
              "      <td>1.157191</td>\n",
              "      <td>0.168504</td>\n",
              "      <td>-0.438049</td>\n",
              "      <td>0.459209</td>\n",
              "    </tr>\n",
              "    <tr>\n",
              "      <th>8</th>\n",
              "      <td>0.387241</td>\n",
              "      <td>-1.886006</td>\n",
              "      <td>-0.651633</td>\n",
              "      <td>-0.960846</td>\n",
              "    </tr>\n",
              "    <tr>\n",
              "      <th>9</th>\n",
              "      <td>0.337488</td>\n",
              "      <td>0.540259</td>\n",
              "      <td>-0.832810</td>\n",
              "      <td>-0.767925</td>\n",
              "    </tr>\n",
              "  </tbody>\n",
              "</table>\n",
              "</div>"
            ],
            "text/plain": [
              "          0         1         2         3\n",
              "0  0.441516  1.259196 -1.007266  0.293932\n",
              "1  0.714656  0.434635 -0.735645  1.754128\n",
              "2  1.986436  0.088709  0.064067  0.914761\n",
              "3  0.423731 -2.101542 -1.220208  0.439542\n",
              "4  0.995568  0.114378 -1.337874  0.209648\n",
              "5  0.449151  0.016817  0.273023 -1.043340\n",
              "6  2.168347  0.419844  0.157062  1.995708\n",
              "7  1.157191  0.168504 -0.438049  0.459209\n",
              "8  0.387241 -1.886006 -0.651633 -0.960846\n",
              "9  0.337488  0.540259 -0.832810 -0.767925"
            ]
          },
          "metadata": {
            "tags": []
          },
          "execution_count": 58
        }
      ]
    },
    {
      "cell_type": "code",
      "metadata": {
        "id": "P6ysI8N_wZ54"
      },
      "source": [
        "left = pd.DataFrame(\n",
        "    {\n",
        "        'a':['foo', 'foo'],\n",
        "      'lval': [1, 2]\n",
        "     }\n",
        ")\n",
        "right = pd.DataFrame({'key':['foo', 'foo'], 'rval': [4, 5]})"
      ],
      "execution_count": 66,
      "outputs": []
    },
    {
      "cell_type": "code",
      "metadata": {
        "colab": {
          "base_uri": "https://localhost:8080/",
          "height": 106
        },
        "id": "VVTprswNwaBx",
        "outputId": "6528bde6-205f-4f92-b98c-6c5da983edf3"
      },
      "source": [
        "left"
      ],
      "execution_count": 67,
      "outputs": [
        {
          "output_type": "execute_result",
          "data": {
            "text/html": [
              "<div>\n",
              "<style scoped>\n",
              "    .dataframe tbody tr th:only-of-type {\n",
              "        vertical-align: middle;\n",
              "    }\n",
              "\n",
              "    .dataframe tbody tr th {\n",
              "        vertical-align: top;\n",
              "    }\n",
              "\n",
              "    .dataframe thead th {\n",
              "        text-align: right;\n",
              "    }\n",
              "</style>\n",
              "<table border=\"1\" class=\"dataframe\">\n",
              "  <thead>\n",
              "    <tr style=\"text-align: right;\">\n",
              "      <th></th>\n",
              "      <th>a</th>\n",
              "      <th>lval</th>\n",
              "    </tr>\n",
              "  </thead>\n",
              "  <tbody>\n",
              "    <tr>\n",
              "      <th>0</th>\n",
              "      <td>foo</td>\n",
              "      <td>1</td>\n",
              "    </tr>\n",
              "    <tr>\n",
              "      <th>1</th>\n",
              "      <td>foo</td>\n",
              "      <td>2</td>\n",
              "    </tr>\n",
              "  </tbody>\n",
              "</table>\n",
              "</div>"
            ],
            "text/plain": [
              "     a  lval\n",
              "0  foo     1\n",
              "1  foo     2"
            ]
          },
          "metadata": {
            "tags": []
          },
          "execution_count": 67
        }
      ]
    },
    {
      "cell_type": "code",
      "metadata": {
        "colab": {
          "base_uri": "https://localhost:8080/",
          "height": 106
        },
        "id": "_TNShn42wxIA",
        "outputId": "35cddc2b-ecb7-40c3-eb6f-36362c8b2f17"
      },
      "source": [
        "right"
      ],
      "execution_count": 68,
      "outputs": [
        {
          "output_type": "execute_result",
          "data": {
            "text/html": [
              "<div>\n",
              "<style scoped>\n",
              "    .dataframe tbody tr th:only-of-type {\n",
              "        vertical-align: middle;\n",
              "    }\n",
              "\n",
              "    .dataframe tbody tr th {\n",
              "        vertical-align: top;\n",
              "    }\n",
              "\n",
              "    .dataframe thead th {\n",
              "        text-align: right;\n",
              "    }\n",
              "</style>\n",
              "<table border=\"1\" class=\"dataframe\">\n",
              "  <thead>\n",
              "    <tr style=\"text-align: right;\">\n",
              "      <th></th>\n",
              "      <th>key</th>\n",
              "      <th>rval</th>\n",
              "    </tr>\n",
              "  </thead>\n",
              "  <tbody>\n",
              "    <tr>\n",
              "      <th>0</th>\n",
              "      <td>foo</td>\n",
              "      <td>4</td>\n",
              "    </tr>\n",
              "    <tr>\n",
              "      <th>1</th>\n",
              "      <td>foo</td>\n",
              "      <td>5</td>\n",
              "    </tr>\n",
              "  </tbody>\n",
              "</table>\n",
              "</div>"
            ],
            "text/plain": [
              "   key  rval\n",
              "0  foo     4\n",
              "1  foo     5"
            ]
          },
          "metadata": {
            "tags": []
          },
          "execution_count": 68
        }
      ]
    },
    {
      "cell_type": "code",
      "metadata": {
        "id": "L_3ybPvIwxRX"
      },
      "source": [
        "pd_merge = pd.merge(left, right, on = 'key')"
      ],
      "execution_count": 65,
      "outputs": []
    },
    {
      "cell_type": "code",
      "metadata": {
        "id": "J3Ux7edvwxZP"
      },
      "source": [
        "df = pd.DataFrame(\n",
        "    {\n",
        "        'A' : ['foo', 'bar', 'foo', 'bar', 'foo', 'bar', 'foo', 'bar'],\n",
        "        'B' : ['one', 'one', 'two', 'three', 'two', 'two', 'one', 'three'],\n",
        "        'C' : np.random.randn(8),\n",
        "        'D' : np.random.randn(8)\n",
        "    }\n",
        ")"
      ],
      "execution_count": 69,
      "outputs": []
    },
    {
      "cell_type": "code",
      "metadata": {
        "colab": {
          "base_uri": "https://localhost:8080/",
          "height": 284
        },
        "id": "JiBCtEBFwxo3",
        "outputId": "1d7d2839-2c86-415c-eedb-1f2defaf3886"
      },
      "source": [
        "df"
      ],
      "execution_count": 70,
      "outputs": [
        {
          "output_type": "execute_result",
          "data": {
            "text/html": [
              "<div>\n",
              "<style scoped>\n",
              "    .dataframe tbody tr th:only-of-type {\n",
              "        vertical-align: middle;\n",
              "    }\n",
              "\n",
              "    .dataframe tbody tr th {\n",
              "        vertical-align: top;\n",
              "    }\n",
              "\n",
              "    .dataframe thead th {\n",
              "        text-align: right;\n",
              "    }\n",
              "</style>\n",
              "<table border=\"1\" class=\"dataframe\">\n",
              "  <thead>\n",
              "    <tr style=\"text-align: right;\">\n",
              "      <th></th>\n",
              "      <th>A</th>\n",
              "      <th>B</th>\n",
              "      <th>C</th>\n",
              "      <th>D</th>\n",
              "    </tr>\n",
              "  </thead>\n",
              "  <tbody>\n",
              "    <tr>\n",
              "      <th>0</th>\n",
              "      <td>foo</td>\n",
              "      <td>one</td>\n",
              "      <td>0.249957</td>\n",
              "      <td>0.304465</td>\n",
              "    </tr>\n",
              "    <tr>\n",
              "      <th>1</th>\n",
              "      <td>bar</td>\n",
              "      <td>one</td>\n",
              "      <td>0.504494</td>\n",
              "      <td>-0.840203</td>\n",
              "    </tr>\n",
              "    <tr>\n",
              "      <th>2</th>\n",
              "      <td>foo</td>\n",
              "      <td>two</td>\n",
              "      <td>-0.745592</td>\n",
              "      <td>1.441565</td>\n",
              "    </tr>\n",
              "    <tr>\n",
              "      <th>3</th>\n",
              "      <td>bar</td>\n",
              "      <td>three</td>\n",
              "      <td>-1.119969</td>\n",
              "      <td>0.333134</td>\n",
              "    </tr>\n",
              "    <tr>\n",
              "      <th>4</th>\n",
              "      <td>foo</td>\n",
              "      <td>two</td>\n",
              "      <td>-1.077706</td>\n",
              "      <td>0.875315</td>\n",
              "    </tr>\n",
              "    <tr>\n",
              "      <th>5</th>\n",
              "      <td>bar</td>\n",
              "      <td>two</td>\n",
              "      <td>0.364815</td>\n",
              "      <td>0.098921</td>\n",
              "    </tr>\n",
              "    <tr>\n",
              "      <th>6</th>\n",
              "      <td>foo</td>\n",
              "      <td>one</td>\n",
              "      <td>-0.356299</td>\n",
              "      <td>1.449261</td>\n",
              "    </tr>\n",
              "    <tr>\n",
              "      <th>7</th>\n",
              "      <td>bar</td>\n",
              "      <td>three</td>\n",
              "      <td>-0.416158</td>\n",
              "      <td>-1.596182</td>\n",
              "    </tr>\n",
              "  </tbody>\n",
              "</table>\n",
              "</div>"
            ],
            "text/plain": [
              "     A      B         C         D\n",
              "0  foo    one  0.249957  0.304465\n",
              "1  bar    one  0.504494 -0.840203\n",
              "2  foo    two -0.745592  1.441565\n",
              "3  bar  three -1.119969  0.333134\n",
              "4  foo    two -1.077706  0.875315\n",
              "5  bar    two  0.364815  0.098921\n",
              "6  foo    one -0.356299  1.449261\n",
              "7  bar  three -0.416158 -1.596182"
            ]
          },
          "metadata": {
            "tags": []
          },
          "execution_count": 70
        }
      ]
    },
    {
      "cell_type": "code",
      "metadata": {
        "colab": {
          "base_uri": "https://localhost:8080/",
          "height": 136
        },
        "id": "eERFW126wxxf",
        "outputId": "6a4cfe95-7707-48b3-b79a-55b75a419ad9"
      },
      "source": [
        "a = df.groupby('A').sum()\n",
        "a"
      ],
      "execution_count": 71,
      "outputs": [
        {
          "output_type": "execute_result",
          "data": {
            "text/html": [
              "<div>\n",
              "<style scoped>\n",
              "    .dataframe tbody tr th:only-of-type {\n",
              "        vertical-align: middle;\n",
              "    }\n",
              "\n",
              "    .dataframe tbody tr th {\n",
              "        vertical-align: top;\n",
              "    }\n",
              "\n",
              "    .dataframe thead th {\n",
              "        text-align: right;\n",
              "    }\n",
              "</style>\n",
              "<table border=\"1\" class=\"dataframe\">\n",
              "  <thead>\n",
              "    <tr style=\"text-align: right;\">\n",
              "      <th></th>\n",
              "      <th>C</th>\n",
              "      <th>D</th>\n",
              "    </tr>\n",
              "    <tr>\n",
              "      <th>A</th>\n",
              "      <th></th>\n",
              "      <th></th>\n",
              "    </tr>\n",
              "  </thead>\n",
              "  <tbody>\n",
              "    <tr>\n",
              "      <th>bar</th>\n",
              "      <td>-0.666817</td>\n",
              "      <td>-2.004330</td>\n",
              "    </tr>\n",
              "    <tr>\n",
              "      <th>foo</th>\n",
              "      <td>-1.929639</td>\n",
              "      <td>4.070606</td>\n",
              "    </tr>\n",
              "  </tbody>\n",
              "</table>\n",
              "</div>"
            ],
            "text/plain": [
              "            C         D\n",
              "A                      \n",
              "bar -0.666817 -2.004330\n",
              "foo -1.929639  4.070606"
            ]
          },
          "metadata": {
            "tags": []
          },
          "execution_count": 71
        }
      ]
    },
    {
      "cell_type": "code",
      "metadata": {
        "colab": {
          "base_uri": "https://localhost:8080/"
        },
        "id": "iyOLRoFIy8B5",
        "outputId": "a038dce5-1e77-47b0-f230-401843ae403e"
      },
      "source": [
        "x = [1, 2, 3]\n",
        "y = [4, 5, 6]\n",
        "zipped = zip(x,y)\n",
        "list(zipped)\n",
        "x2, y2 = zip(*zip(x,y))\n",
        "print(x2)\n",
        "print(y2)"
      ],
      "execution_count": 72,
      "outputs": [
        {
          "output_type": "stream",
          "text": [
            "(1, 2, 3)\n",
            "(4, 5, 6)\n"
          ],
          "name": "stdout"
        }
      ]
    },
    {
      "cell_type": "code",
      "metadata": {
        "colab": {
          "base_uri": "https://localhost:8080/"
        },
        "id": "1S3b5Oe1y8I_",
        "outputId": "2c682600-9d7c-4e35-fbd4-74edc50012cc"
      },
      "source": [
        "x = [1, 2, 3]\n",
        "y = [4, 5, 6]\n",
        "zipped = zip(x,y)\n",
        "list(zipped)\n",
        "x2, y2 = zip(*zip(x,y))\n",
        "print(x2)\n",
        "print(y2)"
      ],
      "execution_count": 74,
      "outputs": [
        {
          "output_type": "stream",
          "text": [
            "(1, 2, 3)\n",
            "(4, 5, 6)\n"
          ],
          "name": "stdout"
        }
      ]
    },
    {
      "cell_type": "code",
      "metadata": {
        "colab": {
          "base_uri": "https://localhost:8080/",
          "height": 492
        },
        "id": "gMmtSr63y8Qf",
        "outputId": "77a20fdd-d684-46a8-b6a2-d7af2ab27a63"
      },
      "source": [
        "a = df.groupby('A','B').sum()\n",
        "a"
      ],
      "execution_count": 75,
      "outputs": [
        {
          "output_type": "error",
          "ename": "ValueError",
          "evalue": "ignored",
          "traceback": [
            "\u001b[0;31m---------------------------------------------------------------------------\u001b[0m",
            "\u001b[0;31mKeyError\u001b[0m                                  Traceback (most recent call last)",
            "\u001b[0;32m/usr/local/lib/python3.7/dist-packages/pandas/core/generic.py\u001b[0m in \u001b[0;36m_get_axis_number\u001b[0;34m(cls, axis)\u001b[0m\n\u001b[1;32m    367\u001b[0m         \u001b[0;32mtry\u001b[0m\u001b[0;34m:\u001b[0m\u001b[0;34m\u001b[0m\u001b[0;34m\u001b[0m\u001b[0m\n\u001b[0;32m--> 368\u001b[0;31m             \u001b[0;32mreturn\u001b[0m \u001b[0mcls\u001b[0m\u001b[0;34m.\u001b[0m\u001b[0m_AXIS_TO_AXIS_NUMBER\u001b[0m\u001b[0;34m[\u001b[0m\u001b[0maxis\u001b[0m\u001b[0;34m]\u001b[0m\u001b[0;34m\u001b[0m\u001b[0;34m\u001b[0m\u001b[0m\n\u001b[0m\u001b[1;32m    369\u001b[0m         \u001b[0;32mexcept\u001b[0m \u001b[0mKeyError\u001b[0m\u001b[0;34m:\u001b[0m\u001b[0;34m\u001b[0m\u001b[0;34m\u001b[0m\u001b[0m\n",
            "\u001b[0;31mKeyError\u001b[0m: 'B'",
            "\nDuring handling of the above exception, another exception occurred:\n",
            "\u001b[0;31mValueError\u001b[0m                                Traceback (most recent call last)",
            "\u001b[0;32m<ipython-input-75-942857e68984>\u001b[0m in \u001b[0;36m<module>\u001b[0;34m()\u001b[0m\n\u001b[0;32m----> 1\u001b[0;31m \u001b[0ma\u001b[0m \u001b[0;34m=\u001b[0m \u001b[0mdf\u001b[0m\u001b[0;34m.\u001b[0m\u001b[0mgroupby\u001b[0m\u001b[0;34m(\u001b[0m\u001b[0;34m'A'\u001b[0m\u001b[0;34m,\u001b[0m\u001b[0;34m'B'\u001b[0m\u001b[0;34m)\u001b[0m\u001b[0;34m.\u001b[0m\u001b[0msum\u001b[0m\u001b[0;34m(\u001b[0m\u001b[0;34m)\u001b[0m\u001b[0;34m\u001b[0m\u001b[0;34m\u001b[0m\u001b[0m\n\u001b[0m\u001b[1;32m      2\u001b[0m \u001b[0ma\u001b[0m\u001b[0;34m\u001b[0m\u001b[0;34m\u001b[0m\u001b[0m\n",
            "\u001b[0;32m/usr/local/lib/python3.7/dist-packages/pandas/core/frame.py\u001b[0m in \u001b[0;36mgroupby\u001b[0;34m(self, by, axis, level, as_index, sort, group_keys, squeeze, observed, dropna)\u001b[0m\n\u001b[1;32m   6511\u001b[0m         \u001b[0;32mif\u001b[0m \u001b[0mlevel\u001b[0m \u001b[0;32mis\u001b[0m \u001b[0;32mNone\u001b[0m \u001b[0;32mand\u001b[0m \u001b[0mby\u001b[0m \u001b[0;32mis\u001b[0m \u001b[0;32mNone\u001b[0m\u001b[0;34m:\u001b[0m\u001b[0;34m\u001b[0m\u001b[0;34m\u001b[0m\u001b[0m\n\u001b[1;32m   6512\u001b[0m             \u001b[0;32mraise\u001b[0m \u001b[0mTypeError\u001b[0m\u001b[0;34m(\u001b[0m\u001b[0;34m\"You have to supply one of 'by' and 'level'\"\u001b[0m\u001b[0;34m)\u001b[0m\u001b[0;34m\u001b[0m\u001b[0;34m\u001b[0m\u001b[0m\n\u001b[0;32m-> 6513\u001b[0;31m         \u001b[0maxis\u001b[0m \u001b[0;34m=\u001b[0m \u001b[0mself\u001b[0m\u001b[0;34m.\u001b[0m\u001b[0m_get_axis_number\u001b[0m\u001b[0;34m(\u001b[0m\u001b[0maxis\u001b[0m\u001b[0;34m)\u001b[0m\u001b[0;34m\u001b[0m\u001b[0;34m\u001b[0m\u001b[0m\n\u001b[0m\u001b[1;32m   6514\u001b[0m \u001b[0;34m\u001b[0m\u001b[0m\n\u001b[1;32m   6515\u001b[0m         return DataFrameGroupBy(\n",
            "\u001b[0;32m/usr/local/lib/python3.7/dist-packages/pandas/core/generic.py\u001b[0m in \u001b[0;36m_get_axis_number\u001b[0;34m(cls, axis)\u001b[0m\n\u001b[1;32m    368\u001b[0m             \u001b[0;32mreturn\u001b[0m \u001b[0mcls\u001b[0m\u001b[0;34m.\u001b[0m\u001b[0m_AXIS_TO_AXIS_NUMBER\u001b[0m\u001b[0;34m[\u001b[0m\u001b[0maxis\u001b[0m\u001b[0;34m]\u001b[0m\u001b[0;34m\u001b[0m\u001b[0;34m\u001b[0m\u001b[0m\n\u001b[1;32m    369\u001b[0m         \u001b[0;32mexcept\u001b[0m \u001b[0mKeyError\u001b[0m\u001b[0;34m:\u001b[0m\u001b[0;34m\u001b[0m\u001b[0;34m\u001b[0m\u001b[0m\n\u001b[0;32m--> 370\u001b[0;31m             \u001b[0;32mraise\u001b[0m \u001b[0mValueError\u001b[0m\u001b[0;34m(\u001b[0m\u001b[0;34mf\"No axis named {axis} for object type {cls.__name__}\"\u001b[0m\u001b[0;34m)\u001b[0m\u001b[0;34m\u001b[0m\u001b[0;34m\u001b[0m\u001b[0m\n\u001b[0m\u001b[1;32m    371\u001b[0m \u001b[0;34m\u001b[0m\u001b[0m\n\u001b[1;32m    372\u001b[0m     \u001b[0;34m@\u001b[0m\u001b[0mclassmethod\u001b[0m\u001b[0;34m\u001b[0m\u001b[0;34m\u001b[0m\u001b[0m\n",
            "\u001b[0;31mValueError\u001b[0m: No axis named B for object type DataFrame"
          ]
        }
      ]
    },
    {
      "cell_type": "code",
      "metadata": {
        "id": "R7rFDfu-y8jn"
      },
      "source": [
        "df = pd.DataFrame(\n",
        "    {\n",
        "        'A' : ['one', 'one', 'two', 'three'] * 3,\n",
        "        'B' : ['A', 'B', 'C'] * 4,\n",
        "        'C' : ['foo', 'foo', 'foo', 'bar', 'bar', 'bar' ] * 2,\n",
        "        'D' : np.random.randn(12),\n",
        "        'E' : np.random.randn(12)\n",
        "    }\n",
        ")"
      ],
      "execution_count": 77,
      "outputs": []
    },
    {
      "cell_type": "code",
      "metadata": {
        "colab": {
          "base_uri": "https://localhost:8080/",
          "height": 343
        },
        "id": "sb9Wtelj1oRP",
        "outputId": "290ef2f9-65fd-47be-cb63-1e59dcbdc80c"
      },
      "source": [
        "pd.pivot_table(df, values = 'D', index = ['A', 'B'], columns = ['C'])"
      ],
      "execution_count": 78,
      "outputs": [
        {
          "output_type": "execute_result",
          "data": {
            "text/html": [
              "<div>\n",
              "<style scoped>\n",
              "    .dataframe tbody tr th:only-of-type {\n",
              "        vertical-align: middle;\n",
              "    }\n",
              "\n",
              "    .dataframe tbody tr th {\n",
              "        vertical-align: top;\n",
              "    }\n",
              "\n",
              "    .dataframe thead th {\n",
              "        text-align: right;\n",
              "    }\n",
              "</style>\n",
              "<table border=\"1\" class=\"dataframe\">\n",
              "  <thead>\n",
              "    <tr style=\"text-align: right;\">\n",
              "      <th></th>\n",
              "      <th>C</th>\n",
              "      <th>bar</th>\n",
              "      <th>foo</th>\n",
              "    </tr>\n",
              "    <tr>\n",
              "      <th>A</th>\n",
              "      <th>B</th>\n",
              "      <th></th>\n",
              "      <th></th>\n",
              "    </tr>\n",
              "  </thead>\n",
              "  <tbody>\n",
              "    <tr>\n",
              "      <th rowspan=\"3\" valign=\"top\">one</th>\n",
              "      <th>A</th>\n",
              "      <td>-0.517732</td>\n",
              "      <td>-1.509591</td>\n",
              "    </tr>\n",
              "    <tr>\n",
              "      <th>B</th>\n",
              "      <td>-1.301172</td>\n",
              "      <td>-0.482196</td>\n",
              "    </tr>\n",
              "    <tr>\n",
              "      <th>C</th>\n",
              "      <td>-2.009374</td>\n",
              "      <td>0.520836</td>\n",
              "    </tr>\n",
              "    <tr>\n",
              "      <th rowspan=\"3\" valign=\"top\">three</th>\n",
              "      <th>A</th>\n",
              "      <td>-0.501599</td>\n",
              "      <td>NaN</td>\n",
              "    </tr>\n",
              "    <tr>\n",
              "      <th>B</th>\n",
              "      <td>NaN</td>\n",
              "      <td>1.164336</td>\n",
              "    </tr>\n",
              "    <tr>\n",
              "      <th>C</th>\n",
              "      <td>-2.774782</td>\n",
              "      <td>NaN</td>\n",
              "    </tr>\n",
              "    <tr>\n",
              "      <th rowspan=\"3\" valign=\"top\">two</th>\n",
              "      <th>A</th>\n",
              "      <td>NaN</td>\n",
              "      <td>-0.561012</td>\n",
              "    </tr>\n",
              "    <tr>\n",
              "      <th>B</th>\n",
              "      <td>-0.691781</td>\n",
              "      <td>NaN</td>\n",
              "    </tr>\n",
              "    <tr>\n",
              "      <th>C</th>\n",
              "      <td>NaN</td>\n",
              "      <td>0.319351</td>\n",
              "    </tr>\n",
              "  </tbody>\n",
              "</table>\n",
              "</div>"
            ],
            "text/plain": [
              "C             bar       foo\n",
              "A     B                    \n",
              "one   A -0.517732 -1.509591\n",
              "      B -1.301172 -0.482196\n",
              "      C -2.009374  0.520836\n",
              "three A -0.501599       NaN\n",
              "      B       NaN  1.164336\n",
              "      C -2.774782       NaN\n",
              "two   A       NaN -0.561012\n",
              "      B -0.691781       NaN\n",
              "      C       NaN  0.319351"
            ]
          },
          "metadata": {
            "tags": []
          },
          "execution_count": 78
        }
      ]
    },
    {
      "cell_type": "code",
      "metadata": {
        "id": "0K4YlxMU1oa2"
      },
      "source": [
        ""
      ],
      "execution_count": null,
      "outputs": []
    },
    {
      "cell_type": "code",
      "metadata": {
        "id": "Rs9DUiza1oq1"
      },
      "source": [
        ""
      ],
      "execution_count": null,
      "outputs": []
    }
  ]
}