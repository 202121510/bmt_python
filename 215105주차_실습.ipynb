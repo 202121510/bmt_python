{
  "nbformat": 4,
  "nbformat_minor": 0,
  "metadata": {
    "colab": {
      "name": "215105주차 실습.ipynb",
      "provenance": [],
      "collapsed_sections": [],
      "authorship_tag": "ABX9TyNlAfslpITUaQz4FpW5mz9n",
      "include_colab_link": true
    },
    "kernelspec": {
      "name": "python3",
      "display_name": "Python 3"
    },
    "language_info": {
      "name": "python"
    }
  },
  "cells": [
    {
      "cell_type": "markdown",
      "metadata": {
        "id": "view-in-github",
        "colab_type": "text"
      },
      "source": [
        "<a href=\"https://colab.research.google.com/github/202121510/bmt_python/blob/main/215105%EC%A3%BC%EC%B0%A8_%EC%8B%A4%EC%8A%B5.ipynb\" target=\"_parent\"><img src=\"https://colab.research.google.com/assets/colab-badge.svg\" alt=\"Open In Colab\"/></a>"
      ]
    },
    {
      "cell_type": "code",
      "metadata": {
        "id": "PTwzl9081jIl"
      },
      "source": [
        "corona = '''\n",
        "코로나(corona)는 라틴말로 왕관을 뜻하며 통상 태양을 둘러싼 외곽의 빛(광환)을 지칭한다.\n",
        "코로나 바이러스라는 이름은 전자현미경으로 이 바이러스를 관찰했을 때 마치 코로나와 유사한 모양을 띠어 붙여진 이름이다.\n",
        "이번에 중국의 우환에서 시작된 코로나 바이러스는 2019년에 발견된 새로운 코로나 바이러스라는 뜻으로 2019-nCov로 붙여졌다.\n",
        "nCov는 novel(새로운) Cov(코로나 바이러스)라는 뜻이다.\n",
        "'''"
      ],
      "execution_count": 3,
      "outputs": []
    },
    {
      "cell_type": "code",
      "metadata": {
        "colab": {
          "base_uri": "https://localhost:8080/",
          "height": 106
        },
        "id": "ENkbmsd92Iop",
        "outputId": "b71dbcca-3bf5-4e6b-db48-b8d5ee90ec16"
      },
      "source": [
        "corona"
      ],
      "execution_count": 4,
      "outputs": [
        {
          "output_type": "execute_result",
          "data": {
            "application/vnd.google.colaboratory.intrinsic+json": {
              "type": "string"
            },
            "text/plain": [
              "'\\n코로나(corona)는 라틴말로 왕관을 뜻하며 통상 태양을 둘러싼 외곽의 빛(광환)을 지칭한다.\\n코로나 바이러스라는 이름은 전자현미경으로 이 바이러스를 관찰했을 때 마치 코로나와 유사한 모양을 띠어 붙여진 이름이다.\\n이번에 중국의 우환에서 시작된 코로나 바이러스는 2019년에 발견된 새로운 코로나 바이러스라는 뜻으로 2019-nCov로 붙여졌다.\\nnCov는 novel(새로운) Cov(코로나 바이러스)라는 뜻이다.\\n'"
            ]
          },
          "metadata": {
            "tags": []
          },
          "execution_count": 4
        }
      ]
    },
    {
      "cell_type": "code",
      "metadata": {
        "colab": {
          "base_uri": "https://localhost:8080/"
        },
        "id": "rAm6sAUI2LtY",
        "outputId": "e404f453-6a34-4518-b067-eff082018c9f"
      },
      "source": [
        "print('-'*50)"
      ],
      "execution_count": 5,
      "outputs": [
        {
          "output_type": "stream",
          "text": [
            "--------------------------------------------------\n"
          ],
          "name": "stdout"
        }
      ]
    },
    {
      "cell_type": "code",
      "metadata": {
        "colab": {
          "base_uri": "https://localhost:8080/"
        },
        "id": "KH-2Nfrp2p3t",
        "outputId": "9c2f763d-a3a5-4ad0-af88-d64df4ced5dd"
      },
      "source": [
        "sentence = corona.count('.')\n",
        "sentence"
      ],
      "execution_count": 7,
      "outputs": [
        {
          "output_type": "execute_result",
          "data": {
            "text/plain": [
              "4"
            ]
          },
          "metadata": {
            "tags": []
          },
          "execution_count": 7
        }
      ]
    },
    {
      "cell_type": "code",
      "metadata": {
        "colab": {
          "base_uri": "https://localhost:8080/"
        },
        "id": "iN_pZUMO3IPN",
        "outputId": "1054fadb-41df-447c-fd3f-f32b2a6cac24"
      },
      "source": [
        "print(f'{sentence}개의 문장으로 이루어짐')"
      ],
      "execution_count": 9,
      "outputs": [
        {
          "output_type": "stream",
          "text": [
            "4개의 문장으로 이루어짐\n"
          ],
          "name": "stdout"
        }
      ]
    },
    {
      "cell_type": "code",
      "metadata": {
        "colab": {
          "base_uri": "https://localhost:8080/",
          "height": 106
        },
        "id": "ubcIM77U3a88",
        "outputId": "1ab7fac8-d719-4e3a-840d-1d5cbc1dbc57"
      },
      "source": [
        "temp = corona.replace('\\n','') \n",
        "temp"
      ],
      "execution_count": 17,
      "outputs": [
        {
          "output_type": "execute_result",
          "data": {
            "application/vnd.google.colaboratory.intrinsic+json": {
              "type": "string"
            },
            "text/plain": [
              "'코로나(corona)는 라틴말로 왕관을 뜻하며 통상 태양을 둘러싼 외곽의 빛(광환)을 지칭한다.코로나 바이러스라는 이름은 전자현미경으로 이 바이러스를 관찰했을 때 마치 코로나와 유사한 모양을 띠어 붙여진 이름이다.이번에 중국의 우환에서 시작된 코로나 바이러스는 2019년에 발견된 새로운 코로나 바이러스라는 뜻으로 2019-nCov로 붙여졌다.nCov는 novel(새로운) Cov(코로나 바이러스)라는 뜻이다.'"
            ]
          },
          "metadata": {
            "tags": []
          },
          "execution_count": 17
        }
      ]
    },
    {
      "cell_type": "code",
      "metadata": {
        "colab": {
          "base_uri": "https://localhost:8080/"
        },
        "id": "AjQ9G3Bd38BK",
        "outputId": "06dd4688-9381-4818-ce0f-6a50e8d53951"
      },
      "source": [
        "corona.replace('\\n','').split(',')"
      ],
      "execution_count": 22,
      "outputs": [
        {
          "output_type": "execute_result",
          "data": {
            "text/plain": [
              "['코로나(corona)는 라틴말로 왕관을 뜻하며 통상 태양을 둘러싼 외곽의 빛(광환)을 지칭한다.코로나 바이러스라는 이름은 전자현미경으로 이 바이러스를 관찰했을 때 마치 코로나와 유사한 모양을 띠어 붙여진 이름이다.이번에 중국의 우환에서 시작된 코로나 바이러스는 2019년에 발견된 새로운 코로나 바이러스라는 뜻으로 2019-nCov로 붙여졌다.nCov는 novel(새로운) Cov(코로나 바이러스)라는 뜻이다.']"
            ]
          },
          "metadata": {
            "tags": []
          },
          "execution_count": 22
        }
      ]
    },
    {
      "cell_type": "code",
      "metadata": {
        "colab": {
          "base_uri": "https://localhost:8080/"
        },
        "id": "Tlv8GB4o4OdM",
        "outputId": "917d6db1-7a8b-4ff2-d56b-0e63fa13c5e4"
      },
      "source": [
        "str_word = input('찾으려는 단어 입력 : ')"
      ],
      "execution_count": 26,
      "outputs": [
        {
          "output_type": "stream",
          "text": [
            "찾으려는 단어 입력 : 코로나\n"
          ],
          "name": "stdout"
        }
      ]
    },
    {
      "cell_type": "code",
      "metadata": {
        "colab": {
          "base_uri": "https://localhost:8080/"
        },
        "id": "1EtZhxaI5LdO",
        "outputId": "b58593c4-0f58-4ec6-9355-a126419843ea"
      },
      "source": [
        "corona.count(str_word)"
      ],
      "execution_count": 27,
      "outputs": [
        {
          "output_type": "execute_result",
          "data": {
            "text/plain": [
              "6"
            ]
          },
          "metadata": {
            "tags": []
          },
          "execution_count": 27
        }
      ]
    },
    {
      "cell_type": "code",
      "metadata": {
        "colab": {
          "base_uri": "https://localhost:8080/"
        },
        "id": "mcpAVUak6KTz",
        "outputId": "539014de-49d9-44f4-94b0-eb1a988e116e"
      },
      "source": [
        "lst = []\n",
        "lst"
      ],
      "execution_count": 29,
      "outputs": [
        {
          "output_type": "execute_result",
          "data": {
            "text/plain": [
              "[]"
            ]
          },
          "metadata": {
            "tags": []
          },
          "execution_count": 29
        }
      ]
    },
    {
      "cell_type": "code",
      "metadata": {
        "colab": {
          "base_uri": "https://localhost:8080/"
        },
        "id": "rgR9kpnF7yJ9",
        "outputId": "83129b77-a0a3-4a57-8898-4d7f48b655c3"
      },
      "source": [
        "lst1 = list()\n",
        "lst1"
      ],
      "execution_count": 32,
      "outputs": [
        {
          "output_type": "execute_result",
          "data": {
            "text/plain": [
              "[]"
            ]
          },
          "metadata": {
            "tags": []
          },
          "execution_count": 32
        }
      ]
    },
    {
      "cell_type": "code",
      "metadata": {
        "colab": {
          "base_uri": "https://localhost:8080/"
        },
        "id": "-CbbbSGn73P6",
        "outputId": "e13f1033-e3ad-47ca-d153-ca78e249a6b9"
      },
      "source": [
        "lst2 = [10, 20, 30]\n",
        "lst"
      ],
      "execution_count": 34,
      "outputs": [
        {
          "output_type": "execute_result",
          "data": {
            "text/plain": [
              "[10, 20, 30]"
            ]
          },
          "metadata": {
            "tags": []
          },
          "execution_count": 34
        }
      ]
    },
    {
      "cell_type": "code",
      "metadata": {
        "id": "4bt_T2e68A0b"
      },
      "source": [
        "lst = lst2"
      ],
      "execution_count": 35,
      "outputs": []
    },
    {
      "cell_type": "code",
      "metadata": {
        "colab": {
          "base_uri": "https://localhost:8080/"
        },
        "id": "jKlD93le8IYd",
        "outputId": "ace9285d-c6f1-4cdf-9530-7e95f3758be7"
      },
      "source": [
        "lst"
      ],
      "execution_count": 36,
      "outputs": [
        {
          "output_type": "execute_result",
          "data": {
            "text/plain": [
              "[10, 20, 30]"
            ]
          },
          "metadata": {
            "tags": []
          },
          "execution_count": 36
        }
      ]
    },
    {
      "cell_type": "code",
      "metadata": {
        "colab": {
          "base_uri": "https://localhost:8080/"
        },
        "id": "bRA31PPX8KVe",
        "outputId": "adea33ec-d71d-42f5-84ac-9b058c2bf65a"
      },
      "source": [
        "lst2"
      ],
      "execution_count": 37,
      "outputs": [
        {
          "output_type": "execute_result",
          "data": {
            "text/plain": [
              "[10, 20, 30]"
            ]
          },
          "metadata": {
            "tags": []
          },
          "execution_count": 37
        }
      ]
    },
    {
      "cell_type": "code",
      "metadata": {
        "id": "7gsWA_Cv8LpR"
      },
      "source": [
        "lst2[0] = 100"
      ],
      "execution_count": 38,
      "outputs": []
    },
    {
      "cell_type": "code",
      "metadata": {
        "colab": {
          "base_uri": "https://localhost:8080/"
        },
        "id": "YU4aXj788Ram",
        "outputId": "4374fa35-c608-48d1-8388-726858f84af6"
      },
      "source": [
        "lst"
      ],
      "execution_count": 39,
      "outputs": [
        {
          "output_type": "execute_result",
          "data": {
            "text/plain": [
              "[100, 20, 30]"
            ]
          },
          "metadata": {
            "tags": []
          },
          "execution_count": 39
        }
      ]
    },
    {
      "cell_type": "code",
      "metadata": {
        "id": "FwOiE7dR8UuZ"
      },
      "source": [
        "lst = lst2.copy()"
      ],
      "execution_count": 40,
      "outputs": []
    },
    {
      "cell_type": "code",
      "metadata": {
        "colab": {
          "base_uri": "https://localhost:8080/"
        },
        "id": "Yc2F0VFq8cdm",
        "outputId": "674ef0dc-7912-4231-99b8-0fb7ecb44f39"
      },
      "source": [
        "lst2"
      ],
      "execution_count": 41,
      "outputs": [
        {
          "output_type": "execute_result",
          "data": {
            "text/plain": [
              "[100, 20, 30]"
            ]
          },
          "metadata": {
            "tags": []
          },
          "execution_count": 41
        }
      ]
    },
    {
      "cell_type": "code",
      "metadata": {
        "colab": {
          "base_uri": "https://localhost:8080/"
        },
        "id": "yObiFRrv8dpi",
        "outputId": "965b044c-a485-4004-e7ba-e75a15ac1747"
      },
      "source": [
        "lst"
      ],
      "execution_count": 42,
      "outputs": [
        {
          "output_type": "execute_result",
          "data": {
            "text/plain": [
              "[100, 20, 30]"
            ]
          },
          "metadata": {
            "tags": []
          },
          "execution_count": 42
        }
      ]
    },
    {
      "cell_type": "code",
      "metadata": {
        "id": "HNSpj93l8eU4"
      },
      "source": [
        "lst[0] = 10"
      ],
      "execution_count": 43,
      "outputs": []
    },
    {
      "cell_type": "code",
      "metadata": {
        "colab": {
          "base_uri": "https://localhost:8080/"
        },
        "id": "msDpXkF38gsv",
        "outputId": "4f7d0dec-f60c-408a-f86b-57aae07137ad"
      },
      "source": [
        "lst2"
      ],
      "execution_count": 44,
      "outputs": [
        {
          "output_type": "execute_result",
          "data": {
            "text/plain": [
              "[100, 20, 30]"
            ]
          },
          "metadata": {
            "tags": []
          },
          "execution_count": 44
        }
      ]
    },
    {
      "cell_type": "code",
      "metadata": {
        "colab": {
          "base_uri": "https://localhost:8080/"
        },
        "id": "LNa0X7S28hVL",
        "outputId": "d94af7c8-6267-4d1d-9ce0-87cee150f188"
      },
      "source": [
        "lst"
      ],
      "execution_count": 46,
      "outputs": [
        {
          "output_type": "execute_result",
          "data": {
            "text/plain": [
              "[10, 20, 30]"
            ]
          },
          "metadata": {
            "tags": []
          },
          "execution_count": 46
        }
      ]
    },
    {
      "cell_type": "code",
      "metadata": {
        "colab": {
          "base_uri": "https://localhost:8080/"
        },
        "id": "RlfZWlux8iSO",
        "outputId": "6a84d72a-e021-474a-ca55-ee39d3e4e374"
      },
      "source": [
        "lst[0]"
      ],
      "execution_count": 47,
      "outputs": [
        {
          "output_type": "execute_result",
          "data": {
            "text/plain": [
              "10"
            ]
          },
          "metadata": {
            "tags": []
          },
          "execution_count": 47
        }
      ]
    },
    {
      "cell_type": "code",
      "metadata": {
        "colab": {
          "base_uri": "https://localhost:8080/"
        },
        "id": "NL7NBMmg9HuO",
        "outputId": "b9ee7214-533d-41af-f099-0d0cb5786d9b"
      },
      "source": [
        "lst[-1]"
      ],
      "execution_count": 48,
      "outputs": [
        {
          "output_type": "execute_result",
          "data": {
            "text/plain": [
              "30"
            ]
          },
          "metadata": {
            "tags": []
          },
          "execution_count": 48
        }
      ]
    },
    {
      "cell_type": "code",
      "metadata": {
        "colab": {
          "base_uri": "https://localhost:8080/"
        },
        "id": "4dTTnyU29Jrc",
        "outputId": "745eba48-291c-4620-c63e-18d2a2884f58"
      },
      "source": [
        "lst[:]"
      ],
      "execution_count": 49,
      "outputs": [
        {
          "output_type": "execute_result",
          "data": {
            "text/plain": [
              "[10, 20, 30]"
            ]
          },
          "metadata": {
            "tags": []
          },
          "execution_count": 49
        }
      ]
    },
    {
      "cell_type": "code",
      "metadata": {
        "colab": {
          "base_uri": "https://localhost:8080/"
        },
        "id": "fsCn6qrJ9NGY",
        "outputId": "e34c99e1-6b77-4f48-de78-98798e30d62b"
      },
      "source": [
        "lst[:2]"
      ],
      "execution_count": 52,
      "outputs": [
        {
          "output_type": "execute_result",
          "data": {
            "text/plain": [
              "[10, 20]"
            ]
          },
          "metadata": {
            "tags": []
          },
          "execution_count": 52
        }
      ]
    },
    {
      "cell_type": "code",
      "metadata": {
        "colab": {
          "base_uri": "https://localhost:8080/"
        },
        "id": "Z4hVtNbr9QPV",
        "outputId": "940d1063-f00b-4219-829c-03b3573229f4"
      },
      "source": [
        "lst[1:]"
      ],
      "execution_count": 55,
      "outputs": [
        {
          "output_type": "execute_result",
          "data": {
            "text/plain": [
              "[20, 30]"
            ]
          },
          "metadata": {
            "tags": []
          },
          "execution_count": 55
        }
      ]
    },
    {
      "cell_type": "code",
      "metadata": {
        "id": "h_mPVvms9Y8a"
      },
      "source": [
        "lst1 = [10,20]\n",
        "lst2 = [100, 200]"
      ],
      "execution_count": 56,
      "outputs": []
    },
    {
      "cell_type": "code",
      "metadata": {
        "colab": {
          "base_uri": "https://localhost:8080/"
        },
        "id": "dgXc6oFX9kUF",
        "outputId": "74bb9cc1-ded1-43a7-88cd-1df16e220c9d"
      },
      "source": [
        "lst3 = lst1 + lst2\n",
        "lst3"
      ],
      "execution_count": 57,
      "outputs": [
        {
          "output_type": "execute_result",
          "data": {
            "text/plain": [
              "[10, 20, 100, 200]"
            ]
          },
          "metadata": {
            "tags": []
          },
          "execution_count": 57
        }
      ]
    },
    {
      "cell_type": "code",
      "metadata": {
        "colab": {
          "base_uri": "https://localhost:8080/"
        },
        "id": "wziqd60B9ofG",
        "outputId": "49df4a07-feff-4734-fa17-a70b534e0269"
      },
      "source": [
        "lst4 = lst3 * 3\n",
        "lst4"
      ],
      "execution_count": 58,
      "outputs": [
        {
          "output_type": "execute_result",
          "data": {
            "text/plain": [
              "[10, 20, 100, 200, 10, 20, 100, 200, 10, 20, 100, 200]"
            ]
          },
          "metadata": {
            "tags": []
          },
          "execution_count": 58
        }
      ]
    },
    {
      "cell_type": "code",
      "metadata": {
        "id": "6KjbKWbK9x3d"
      },
      "source": [
        "lst = ['a', 'b', 'c']"
      ],
      "execution_count": 59,
      "outputs": []
    },
    {
      "cell_type": "code",
      "metadata": {
        "id": "UEVZhFjO97jo"
      },
      "source": [
        "lst.append('d')"
      ],
      "execution_count": 60,
      "outputs": []
    },
    {
      "cell_type": "code",
      "metadata": {
        "colab": {
          "base_uri": "https://localhost:8080/"
        },
        "id": "euh8g0OP-bUi",
        "outputId": "d9ce82d7-6f2b-4fa0-898a-5bac59cf6ddb"
      },
      "source": [
        "lst"
      ],
      "execution_count": 61,
      "outputs": [
        {
          "output_type": "execute_result",
          "data": {
            "text/plain": [
              "['a', 'b', 'c', 'd']"
            ]
          },
          "metadata": {
            "tags": []
          },
          "execution_count": 61
        }
      ]
    },
    {
      "cell_type": "code",
      "metadata": {
        "id": "lxKmbT86-c9p"
      },
      "source": [
        "lst.append(100)"
      ],
      "execution_count": 66,
      "outputs": []
    },
    {
      "cell_type": "code",
      "metadata": {
        "colab": {
          "base_uri": "https://localhost:8080/"
        },
        "id": "kQ1AaDot-jud",
        "outputId": "da222e92-bc5d-40b1-eaaa-cfdf4e8a3986"
      },
      "source": [
        "lst"
      ],
      "execution_count": 63,
      "outputs": [
        {
          "output_type": "execute_result",
          "data": {
            "text/plain": [
              "['a', 'b', 'c', 'd', '100']"
            ]
          },
          "metadata": {
            "tags": []
          },
          "execution_count": 63
        }
      ]
    },
    {
      "cell_type": "code",
      "metadata": {
        "colab": {
          "base_uri": "https://localhost:8080/",
          "height": 35
        },
        "id": "Bn8c4lSA-koh",
        "outputId": "5224be55-5fe4-476c-8436-4420fdf13709"
      },
      "source": [
        "lst.pop()"
      ],
      "execution_count": 65,
      "outputs": [
        {
          "output_type": "execute_result",
          "data": {
            "application/vnd.google.colaboratory.intrinsic+json": {
              "type": "string"
            },
            "text/plain": [
              "'100'"
            ]
          },
          "metadata": {
            "tags": []
          },
          "execution_count": 65
        }
      ]
    },
    {
      "cell_type": "code",
      "metadata": {
        "colab": {
          "base_uri": "https://localhost:8080/"
        },
        "id": "iKLutCYC-q7D",
        "outputId": "eaad2377-573e-4bb3-bc23-541af4ad1cb4"
      },
      "source": [
        "lst.pop()"
      ],
      "execution_count": 67,
      "outputs": [
        {
          "output_type": "execute_result",
          "data": {
            "text/plain": [
              "100"
            ]
          },
          "metadata": {
            "tags": []
          },
          "execution_count": 67
        }
      ]
    },
    {
      "cell_type": "code",
      "metadata": {
        "colab": {
          "base_uri": "https://localhost:8080/"
        },
        "id": "EwEhyP2b-34H",
        "outputId": "57c3db76-45bd-459f-b4c8-d36400b4c4c9"
      },
      "source": [
        "lst"
      ],
      "execution_count": 68,
      "outputs": [
        {
          "output_type": "execute_result",
          "data": {
            "text/plain": [
              "['a', 'b', 'c', 'd']"
            ]
          },
          "metadata": {
            "tags": []
          },
          "execution_count": 68
        }
      ]
    },
    {
      "cell_type": "code",
      "metadata": {
        "colab": {
          "base_uri": "https://localhost:8080/",
          "height": 35
        },
        "id": "BNNU9h3u-5Br",
        "outputId": "b44fd8a0-f50c-4bfa-ba5e-71c92ea608fb"
      },
      "source": [
        "lst.pop()"
      ],
      "execution_count": 69,
      "outputs": [
        {
          "output_type": "execute_result",
          "data": {
            "application/vnd.google.colaboratory.intrinsic+json": {
              "type": "string"
            },
            "text/plain": [
              "'d'"
            ]
          },
          "metadata": {
            "tags": []
          },
          "execution_count": 69
        }
      ]
    },
    {
      "cell_type": "code",
      "metadata": {
        "colab": {
          "base_uri": "https://localhost:8080/"
        },
        "id": "e2fzI2vP-7Bm",
        "outputId": "3d349dc5-3f38-464c-ccc2-685816a3d674"
      },
      "source": [
        "lst"
      ],
      "execution_count": 70,
      "outputs": [
        {
          "output_type": "execute_result",
          "data": {
            "text/plain": [
              "['a', 'b', 'c']"
            ]
          },
          "metadata": {
            "tags": []
          },
          "execution_count": 70
        }
      ]
    },
    {
      "cell_type": "code",
      "metadata": {
        "colab": {
          "base_uri": "https://localhost:8080/"
        },
        "id": "HbgXMhFd-8C-",
        "outputId": "52d728a0-376f-4309-a0a5-f0bb653642d6"
      },
      "source": [
        "lst.index('b')"
      ],
      "execution_count": 73,
      "outputs": [
        {
          "output_type": "execute_result",
          "data": {
            "text/plain": [
              "1"
            ]
          },
          "metadata": {
            "tags": []
          },
          "execution_count": 73
        }
      ]
    },
    {
      "cell_type": "code",
      "metadata": {
        "colab": {
          "base_uri": "https://localhost:8080/",
          "height": 35
        },
        "id": "MCxjETyq_Hd1",
        "outputId": "30af16e1-4fd5-4b95-9028-d75893c00634"
      },
      "source": [
        "lst[1]"
      ],
      "execution_count": 74,
      "outputs": [
        {
          "output_type": "execute_result",
          "data": {
            "application/vnd.google.colaboratory.intrinsic+json": {
              "type": "string"
            },
            "text/plain": [
              "'b'"
            ]
          },
          "metadata": {
            "tags": []
          },
          "execution_count": 74
        }
      ]
    },
    {
      "cell_type": "code",
      "metadata": {
        "id": "o0iuyXF3_KkR"
      },
      "source": [
        "lst = ['c', 'a', 'b']"
      ],
      "execution_count": 75,
      "outputs": []
    },
    {
      "cell_type": "code",
      "metadata": {
        "colab": {
          "base_uri": "https://localhost:8080/"
        },
        "id": "NJdY_2HXB3qN",
        "outputId": "7ee0c296-f2e9-460b-d05d-ae0f76d65c97"
      },
      "source": [
        "lst.sort()\n",
        "lst"
      ],
      "execution_count": 78,
      "outputs": [
        {
          "output_type": "execute_result",
          "data": {
            "text/plain": [
              "['a', 'b', 'c']"
            ]
          },
          "metadata": {
            "tags": []
          },
          "execution_count": 78
        }
      ]
    },
    {
      "cell_type": "code",
      "metadata": {
        "colab": {
          "base_uri": "https://localhost:8080/"
        },
        "id": "CDUj6NANB6cZ",
        "outputId": "9d6ac8de-3523-4029-8453-f9af56d11413"
      },
      "source": [
        "lst.sort(reverse=True)\n",
        "lst"
      ],
      "execution_count": 82,
      "outputs": [
        {
          "output_type": "execute_result",
          "data": {
            "text/plain": [
              "['c', 'b', 'a']"
            ]
          },
          "metadata": {
            "tags": []
          },
          "execution_count": 82
        }
      ]
    },
    {
      "cell_type": "code",
      "metadata": {
        "id": "T3TZuclpB7mH"
      },
      "source": [
        "lst = ['c', 'a', 'b']\n",
        "lst.reverse()"
      ],
      "execution_count": 83,
      "outputs": []
    },
    {
      "cell_type": "code",
      "metadata": {
        "colab": {
          "base_uri": "https://localhost:8080/"
        },
        "id": "P9hO9jC0C58n",
        "outputId": "756e94e0-c932-4ad9-ff36-d34f5b8042ed"
      },
      "source": [
        "lst"
      ],
      "execution_count": 84,
      "outputs": [
        {
          "output_type": "execute_result",
          "data": {
            "text/plain": [
              "['b', 'a', 'c']"
            ]
          },
          "metadata": {
            "tags": []
          },
          "execution_count": 84
        }
      ]
    },
    {
      "cell_type": "code",
      "metadata": {
        "id": "YfSxBXEHC7FG"
      },
      "source": [
        "tp = (10, 20, 30)"
      ],
      "execution_count": 85,
      "outputs": []
    },
    {
      "cell_type": "code",
      "metadata": {
        "colab": {
          "base_uri": "https://localhost:8080/"
        },
        "id": "-h8f0HRVDR1J",
        "outputId": "fd979107-6a40-444d-e114-b9c47e06b5de"
      },
      "source": [
        "tp[0]"
      ],
      "execution_count": 86,
      "outputs": [
        {
          "output_type": "execute_result",
          "data": {
            "text/plain": [
              "10"
            ]
          },
          "metadata": {
            "tags": []
          },
          "execution_count": 86
        }
      ]
    },
    {
      "cell_type": "code",
      "metadata": {
        "colab": {
          "base_uri": "https://localhost:8080/"
        },
        "id": "2YE7ALLeDTJe",
        "outputId": "3779b845-bd79-4456-b13a-82afe2526a58"
      },
      "source": [
        "tp[1:]"
      ],
      "execution_count": 88,
      "outputs": [
        {
          "output_type": "execute_result",
          "data": {
            "text/plain": [
              "(20, 30)"
            ]
          },
          "metadata": {
            "tags": []
          },
          "execution_count": 88
        }
      ]
    },
    {
      "cell_type": "code",
      "metadata": {
        "id": "KRkAJ5D_DYVp"
      },
      "source": [
        "tp1 = (10,20)\n",
        "tp2 = (30,40)"
      ],
      "execution_count": 89,
      "outputs": []
    },
    {
      "cell_type": "code",
      "metadata": {
        "colab": {
          "base_uri": "https://localhost:8080/"
        },
        "id": "wFwHrdvCDgm8",
        "outputId": "2e7efe95-1a81-4d56-8ab5-61c80fb9f689"
      },
      "source": [
        "tp1"
      ],
      "execution_count": 90,
      "outputs": [
        {
          "output_type": "execute_result",
          "data": {
            "text/plain": [
              "(10, 20)"
            ]
          },
          "metadata": {
            "tags": []
          },
          "execution_count": 90
        }
      ]
    },
    {
      "cell_type": "code",
      "metadata": {
        "colab": {
          "base_uri": "https://localhost:8080/"
        },
        "id": "rIHYFziPDhxh",
        "outputId": "80ecf359-7b51-4fde-8b98-870cd690c403"
      },
      "source": [
        "tp2"
      ],
      "execution_count": 91,
      "outputs": [
        {
          "output_type": "execute_result",
          "data": {
            "text/plain": [
              "(30, 40)"
            ]
          },
          "metadata": {
            "tags": []
          },
          "execution_count": 91
        }
      ]
    },
    {
      "cell_type": "code",
      "metadata": {
        "id": "MxqcE3E8DjaQ"
      },
      "source": [
        "tp3 = tp1 + tp2"
      ],
      "execution_count": 92,
      "outputs": []
    },
    {
      "cell_type": "code",
      "metadata": {
        "colab": {
          "base_uri": "https://localhost:8080/"
        },
        "id": "vWg864NKDn3s",
        "outputId": "0f3750fd-d5d0-46ac-f514-1f5faca51441"
      },
      "source": [
        "tp3"
      ],
      "execution_count": 93,
      "outputs": [
        {
          "output_type": "execute_result",
          "data": {
            "text/plain": [
              "(10, 20, 30, 40)"
            ]
          },
          "metadata": {
            "tags": []
          },
          "execution_count": 93
        }
      ]
    },
    {
      "cell_type": "code",
      "metadata": {
        "id": "gFZRb88LDpF-"
      },
      "source": [
        "tp4 = tp3*3"
      ],
      "execution_count": 94,
      "outputs": []
    },
    {
      "cell_type": "code",
      "metadata": {
        "colab": {
          "base_uri": "https://localhost:8080/"
        },
        "id": "oe9texGhDsSA",
        "outputId": "3e3aa1af-a481-4806-a487-e4e0875379eb"
      },
      "source": [
        "tp4"
      ],
      "execution_count": 95,
      "outputs": [
        {
          "output_type": "execute_result",
          "data": {
            "text/plain": [
              "(10, 20, 30, 40, 10, 20, 30, 40, 10, 20, 30, 40)"
            ]
          },
          "metadata": {
            "tags": []
          },
          "execution_count": 95
        }
      ]
    },
    {
      "cell_type": "code",
      "metadata": {
        "id": "pCo9inj6Ds7d"
      },
      "source": [
        "tpx, tpy, tpz = (10, 20, 30)"
      ],
      "execution_count": 100,
      "outputs": []
    },
    {
      "cell_type": "code",
      "metadata": {
        "colab": {
          "base_uri": "https://localhost:8080/"
        },
        "id": "eutRurDkD0kU",
        "outputId": "a67155ba-7657-4480-dbf3-91bc4b7aa329"
      },
      "source": [
        "tpx"
      ],
      "execution_count": 98,
      "outputs": [
        {
          "output_type": "execute_result",
          "data": {
            "text/plain": [
              "10"
            ]
          },
          "metadata": {
            "tags": []
          },
          "execution_count": 98
        }
      ]
    },
    {
      "cell_type": "code",
      "metadata": {
        "colab": {
          "base_uri": "https://localhost:8080/"
        },
        "id": "JRXHi6a7D5OA",
        "outputId": "4eed84ad-1c0b-411e-f1ba-772d72a0cf87"
      },
      "source": [
        "tpy"
      ],
      "execution_count": 99,
      "outputs": [
        {
          "output_type": "execute_result",
          "data": {
            "text/plain": [
              "20"
            ]
          },
          "metadata": {
            "tags": []
          },
          "execution_count": 99
        }
      ]
    },
    {
      "cell_type": "code",
      "metadata": {
        "colab": {
          "base_uri": "https://localhost:8080/"
        },
        "id": "roa9yiIlD6On",
        "outputId": "09e61841-9f85-4d8c-ae84-cb3686aa4183"
      },
      "source": [
        "tpz"
      ],
      "execution_count": 101,
      "outputs": [
        {
          "output_type": "execute_result",
          "data": {
            "text/plain": [
              "30"
            ]
          },
          "metadata": {
            "tags": []
          },
          "execution_count": 101
        }
      ]
    },
    {
      "cell_type": "code",
      "metadata": {
        "colab": {
          "base_uri": "https://localhost:8080/"
        },
        "id": "2fcqoDHdEDpY",
        "outputId": "1273cf03-4a64-4d0c-fa87-6e27a8ba30d5"
      },
      "source": [
        "dt = {'a' : 200,\n",
        "      'b' : 150,\n",
        "      'c' : 100\n",
        "      }\n",
        "\n",
        "dt"
      ],
      "execution_count": 102,
      "outputs": [
        {
          "output_type": "execute_result",
          "data": {
            "text/plain": [
              "{'a': 200, 'b': 150, 'c': 100}"
            ]
          },
          "metadata": {
            "tags": []
          },
          "execution_count": 102
        }
      ]
    },
    {
      "cell_type": "code",
      "metadata": {
        "colab": {
          "base_uri": "https://localhost:8080/"
        },
        "id": "42dEQk_jFLWs",
        "outputId": "31cac6ca-475e-450b-ee2c-3bc75e64811d"
      },
      "source": [
        "dt.keys()"
      ],
      "execution_count": 103,
      "outputs": [
        {
          "output_type": "execute_result",
          "data": {
            "text/plain": [
              "dict_keys(['a', 'b', 'c'])"
            ]
          },
          "metadata": {
            "tags": []
          },
          "execution_count": 103
        }
      ]
    },
    {
      "cell_type": "code",
      "metadata": {
        "colab": {
          "base_uri": "https://localhost:8080/"
        },
        "id": "g6qlQ-ZyFSps",
        "outputId": "f010a5cd-74a6-4201-b0ab-942bad1682c3"
      },
      "source": [
        "list(dt.keys())"
      ],
      "execution_count": 104,
      "outputs": [
        {
          "output_type": "execute_result",
          "data": {
            "text/plain": [
              "['a', 'b', 'c']"
            ]
          },
          "metadata": {
            "tags": []
          },
          "execution_count": 104
        }
      ]
    },
    {
      "cell_type": "code",
      "metadata": {
        "colab": {
          "base_uri": "https://localhost:8080/"
        },
        "id": "5jzzPQE8Fas-",
        "outputId": "2e93a335-8d80-4d99-d41b-357f2ab14d95"
      },
      "source": [
        "dt.values()"
      ],
      "execution_count": 105,
      "outputs": [
        {
          "output_type": "execute_result",
          "data": {
            "text/plain": [
              "dict_values([200, 150, 100])"
            ]
          },
          "metadata": {
            "tags": []
          },
          "execution_count": 105
        }
      ]
    },
    {
      "cell_type": "code",
      "metadata": {
        "colab": {
          "base_uri": "https://localhost:8080/"
        },
        "id": "mMrnaBtTF1Tl",
        "outputId": "7dd40037-50bd-4715-9774-d39c4e1786f7"
      },
      "source": [
        "dt"
      ],
      "execution_count": 111,
      "outputs": [
        {
          "output_type": "execute_result",
          "data": {
            "text/plain": [
              "{'a': 200, 'b': 150, 'c': 100}"
            ]
          },
          "metadata": {
            "tags": []
          },
          "execution_count": 111
        }
      ]
    },
    {
      "cell_type": "code",
      "metadata": {
        "id": "623dxh43F6PK"
      },
      "source": [
        "dt['d'] = 30"
      ],
      "execution_count": 113,
      "outputs": []
    },
    {
      "cell_type": "code",
      "metadata": {
        "colab": {
          "base_uri": "https://localhost:8080/"
        },
        "id": "vNhMcfpvGHB-",
        "outputId": "115a65c4-3d94-4437-e35d-d314a54602b6"
      },
      "source": [
        "dt"
      ],
      "execution_count": 114,
      "outputs": [
        {
          "output_type": "execute_result",
          "data": {
            "text/plain": [
              "{'a': 200, 'b': 150, 'c': 100, 'd': 30}"
            ]
          },
          "metadata": {
            "tags": []
          },
          "execution_count": 114
        }
      ]
    },
    {
      "cell_type": "code",
      "metadata": {
        "id": "Lh2x3fGAGJ7C"
      },
      "source": [
        "a = (1, 2, 2, 3)\n",
        "b = [10, 20, 30, 30]"
      ],
      "execution_count": 115,
      "outputs": []
    },
    {
      "cell_type": "code",
      "metadata": {
        "colab": {
          "base_uri": "https://localhost:8080/"
        },
        "id": "cwtSiCd5HEar",
        "outputId": "6ed75379-bf36-4fd0-fe39-1ef1b877e0a5"
      },
      "source": [
        "type(a), type(b)"
      ],
      "execution_count": 116,
      "outputs": [
        {
          "output_type": "execute_result",
          "data": {
            "text/plain": [
              "(tuple, list)"
            ]
          },
          "metadata": {
            "tags": []
          },
          "execution_count": 116
        }
      ]
    },
    {
      "cell_type": "code",
      "metadata": {
        "colab": {
          "base_uri": "https://localhost:8080/"
        },
        "id": "0OBGapCWHH_e",
        "outputId": "0d3856c4-2c69-44e1-8983-ffd6ba6f1c29"
      },
      "source": [
        "c = set(a)\n",
        "c"
      ],
      "execution_count": 117,
      "outputs": [
        {
          "output_type": "execute_result",
          "data": {
            "text/plain": [
              "{1, 2, 3}"
            ]
          },
          "metadata": {
            "tags": []
          },
          "execution_count": 117
        }
      ]
    },
    {
      "cell_type": "code",
      "metadata": {
        "colab": {
          "base_uri": "https://localhost:8080/"
        },
        "id": "EKQo-EmCHV2y",
        "outputId": "a5cf5372-af94-439f-8626-c18457f36b7a"
      },
      "source": [
        "type(c)"
      ],
      "execution_count": 118,
      "outputs": [
        {
          "output_type": "execute_result",
          "data": {
            "text/plain": [
              "set"
            ]
          },
          "metadata": {
            "tags": []
          },
          "execution_count": 118
        }
      ]
    },
    {
      "cell_type": "code",
      "metadata": {
        "id": "PKCUA3LrHdxW"
      },
      "source": [
        "d = set(b)"
      ],
      "execution_count": 119,
      "outputs": []
    },
    {
      "cell_type": "code",
      "metadata": {
        "colab": {
          "base_uri": "https://localhost:8080/"
        },
        "id": "Ged_5ZgJHftq",
        "outputId": "84b32d18-96a0-4f9b-cf01-d3377c7034cd"
      },
      "source": [
        "d"
      ],
      "execution_count": 120,
      "outputs": [
        {
          "output_type": "execute_result",
          "data": {
            "text/plain": [
              "{10, 20, 30}"
            ]
          },
          "metadata": {
            "tags": []
          },
          "execution_count": 120
        }
      ]
    },
    {
      "cell_type": "code",
      "metadata": {
        "id": "AsqiS9e7Hgyu"
      },
      "source": [
        "a = set(a)\n",
        "b = set(b)"
      ],
      "execution_count": 122,
      "outputs": []
    },
    {
      "cell_type": "code",
      "metadata": {
        "colab": {
          "base_uri": "https://localhost:8080/"
        },
        "id": "pxhrLMMhHq9H",
        "outputId": "bfe0bb85-7932-407e-d6fe-1fd2d1bc0601"
      },
      "source": [
        "a"
      ],
      "execution_count": 123,
      "outputs": [
        {
          "output_type": "execute_result",
          "data": {
            "text/plain": [
              "{1, 2, 3}"
            ]
          },
          "metadata": {
            "tags": []
          },
          "execution_count": 123
        }
      ]
    },
    {
      "cell_type": "code",
      "metadata": {
        "colab": {
          "base_uri": "https://localhost:8080/"
        },
        "id": "fMNMQ5qkHwpZ",
        "outputId": "e0f371c4-a4ed-4667-e090-8494146adffd"
      },
      "source": [
        "b"
      ],
      "execution_count": 124,
      "outputs": [
        {
          "output_type": "execute_result",
          "data": {
            "text/plain": [
              "{10, 20, 30}"
            ]
          },
          "metadata": {
            "tags": []
          },
          "execution_count": 124
        }
      ]
    },
    {
      "cell_type": "code",
      "metadata": {
        "id": "dyw2zxsYHxOs"
      },
      "source": [
        "a.add(1)"
      ],
      "execution_count": 127,
      "outputs": []
    },
    {
      "cell_type": "code",
      "metadata": {
        "colab": {
          "base_uri": "https://localhost:8080/"
        },
        "id": "bJnMVrlFH2Na",
        "outputId": "4fef71ab-1a0e-4d8c-b0a5-f7763edbd830"
      },
      "source": [
        "a"
      ],
      "execution_count": 128,
      "outputs": [
        {
          "output_type": "execute_result",
          "data": {
            "text/plain": [
              "{1, 2, 3}"
            ]
          },
          "metadata": {
            "tags": []
          },
          "execution_count": 128
        }
      ]
    },
    {
      "cell_type": "code",
      "metadata": {
        "colab": {
          "base_uri": "https://localhost:8080/"
        },
        "id": "FEEcYsIhH5D2",
        "outputId": "1a41a273-88d3-4432-f766-8e521cf0b601"
      },
      "source": [
        "b"
      ],
      "execution_count": 129,
      "outputs": [
        {
          "output_type": "execute_result",
          "data": {
            "text/plain": [
              "{10, 20, 30}"
            ]
          },
          "metadata": {
            "tags": []
          },
          "execution_count": 129
        }
      ]
    },
    {
      "cell_type": "code",
      "metadata": {
        "id": "zHSpAWruICQ5"
      },
      "source": [
        "b.update({100,200,300})"
      ],
      "execution_count": 130,
      "outputs": []
    },
    {
      "cell_type": "code",
      "metadata": {
        "colab": {
          "base_uri": "https://localhost:8080/"
        },
        "id": "J0caWD17IGzk",
        "outputId": "46be38f0-f48d-456d-c857-994cbf833430"
      },
      "source": [
        "b"
      ],
      "execution_count": 131,
      "outputs": [
        {
          "output_type": "execute_result",
          "data": {
            "text/plain": [
              "{10, 20, 30, 100, 200, 300}"
            ]
          },
          "metadata": {
            "tags": []
          },
          "execution_count": 131
        }
      ]
    },
    {
      "cell_type": "code",
      "metadata": {
        "id": "CVdACcOvINGz"
      },
      "source": [
        "a.add(100)"
      ],
      "execution_count": 133,
      "outputs": []
    },
    {
      "cell_type": "code",
      "metadata": {
        "colab": {
          "base_uri": "https://localhost:8080/"
        },
        "id": "eD2tq5wAITH9",
        "outputId": "ac8dbc6f-f8ab-4001-aee0-77403e2c988f"
      },
      "source": [
        "a"
      ],
      "execution_count": 134,
      "outputs": [
        {
          "output_type": "execute_result",
          "data": {
            "text/plain": [
              "{1, 2, 3, 100}"
            ]
          },
          "metadata": {
            "tags": []
          },
          "execution_count": 134
        }
      ]
    },
    {
      "cell_type": "code",
      "metadata": {
        "id": "agURXMl5IX33"
      },
      "source": [
        "a.remove(100)"
      ],
      "execution_count": 135,
      "outputs": []
    },
    {
      "cell_type": "code",
      "metadata": {
        "colab": {
          "base_uri": "https://localhost:8080/"
        },
        "id": "B71hL1sLIZ6y",
        "outputId": "57dbda1a-a6e3-4766-f853-e8a84d613539"
      },
      "source": [
        "a"
      ],
      "execution_count": 136,
      "outputs": [
        {
          "output_type": "execute_result",
          "data": {
            "text/plain": [
              "{1, 2, 3}"
            ]
          },
          "metadata": {
            "tags": []
          },
          "execution_count": 136
        }
      ]
    },
    {
      "cell_type": "code",
      "metadata": {
        "id": "pS4D4mC9Iajs"
      },
      "source": [
        "a.clear()"
      ],
      "execution_count": 137,
      "outputs": []
    },
    {
      "cell_type": "code",
      "metadata": {
        "colab": {
          "base_uri": "https://localhost:8080/"
        },
        "id": "GCDnlv5tIcYy",
        "outputId": "b18e5802-9505-4c8b-f11b-95649f3d0c97"
      },
      "source": [
        "a"
      ],
      "execution_count": 138,
      "outputs": [
        {
          "output_type": "execute_result",
          "data": {
            "text/plain": [
              "set()"
            ]
          },
          "metadata": {
            "tags": []
          },
          "execution_count": 138
        }
      ]
    },
    {
      "cell_type": "code",
      "metadata": {
        "id": "sQmsdVCJIc0W"
      },
      "source": [
        "a.update({100,200,300})"
      ],
      "execution_count": 140,
      "outputs": []
    },
    {
      "cell_type": "code",
      "metadata": {
        "colab": {
          "base_uri": "https://localhost:8080/"
        },
        "id": "LIqWhZ1LIjAj",
        "outputId": "ea41c6fe-4615-4701-b5d6-e38847113719"
      },
      "source": [
        "a & b"
      ],
      "execution_count": 141,
      "outputs": [
        {
          "output_type": "execute_result",
          "data": {
            "text/plain": [
              "{100, 200, 300}"
            ]
          },
          "metadata": {
            "tags": []
          },
          "execution_count": 141
        }
      ]
    },
    {
      "cell_type": "code",
      "metadata": {
        "colab": {
          "base_uri": "https://localhost:8080/"
        },
        "id": "6RD5p5dpIvYi",
        "outputId": "2939daf3-043c-41b4-e29f-bdf2a0900590"
      },
      "source": [
        "a"
      ],
      "execution_count": 142,
      "outputs": [
        {
          "output_type": "execute_result",
          "data": {
            "text/plain": [
              "{100, 200, 300}"
            ]
          },
          "metadata": {
            "tags": []
          },
          "execution_count": 142
        }
      ]
    },
    {
      "cell_type": "code",
      "metadata": {
        "colab": {
          "base_uri": "https://localhost:8080/"
        },
        "id": "SK7h802BIyIo",
        "outputId": "3d48ec8b-b4f3-4db3-a60b-90a317ebb916"
      },
      "source": [
        "b"
      ],
      "execution_count": 143,
      "outputs": [
        {
          "output_type": "execute_result",
          "data": {
            "text/plain": [
              "{10, 20, 30, 100, 200, 300}"
            ]
          },
          "metadata": {
            "tags": []
          },
          "execution_count": 143
        }
      ]
    },
    {
      "cell_type": "code",
      "metadata": {
        "colab": {
          "base_uri": "https://localhost:8080/"
        },
        "id": "VoER7FGaIyyA",
        "outputId": "b4d3ef99-85e4-4af2-8535-26d2cc498782"
      },
      "source": [
        "a | b"
      ],
      "execution_count": 145,
      "outputs": [
        {
          "output_type": "execute_result",
          "data": {
            "text/plain": [
              "{10, 20, 30, 100, 200, 300}"
            ]
          },
          "metadata": {
            "tags": []
          },
          "execution_count": 145
        }
      ]
    },
    {
      "cell_type": "code",
      "metadata": {
        "colab": {
          "base_uri": "https://localhost:8080/"
        },
        "id": "lIMRDrCnI1vy",
        "outputId": "43aa6995-e10d-444d-c350-79403ede5bc7"
      },
      "source": [
        "a - b"
      ],
      "execution_count": 146,
      "outputs": [
        {
          "output_type": "execute_result",
          "data": {
            "text/plain": [
              "set()"
            ]
          },
          "metadata": {
            "tags": []
          },
          "execution_count": 146
        }
      ]
    },
    {
      "cell_type": "code",
      "metadata": {
        "colab": {
          "base_uri": "https://localhost:8080/"
        },
        "id": "2_aoOUtDI-oT",
        "outputId": "12296d46-7dde-4cfd-8dcb-ccc8cc3fb5f6"
      },
      "source": [
        "b - a"
      ],
      "execution_count": 147,
      "outputs": [
        {
          "output_type": "execute_result",
          "data": {
            "text/plain": [
              "{10, 20, 30}"
            ]
          },
          "metadata": {
            "tags": []
          },
          "execution_count": 147
        }
      ]
    },
    {
      "cell_type": "code",
      "metadata": {
        "id": "ZvsRDN1HI_kM"
      },
      "source": [
        "lst = [10, 50, 30]\n",
        "tp = ('a', 'b', 'c')"
      ],
      "execution_count": 149,
      "outputs": []
    },
    {
      "cell_type": "code",
      "metadata": {
        "colab": {
          "base_uri": "https://localhost:8080/"
        },
        "id": "9K7Pl-ooJUDW",
        "outputId": "9d30dd32-4bd7-40c6-941f-9ca19666461d"
      },
      "source": [
        "for i in lst:\n",
        "  print(i)"
      ],
      "execution_count": 150,
      "outputs": [
        {
          "output_type": "stream",
          "text": [
            "10\n",
            "50\n",
            "30\n"
          ],
          "name": "stdout"
        }
      ]
    },
    {
      "cell_type": "code",
      "metadata": {
        "colab": {
          "base_uri": "https://localhost:8080/"
        },
        "id": "Itpk7rEGJhc7",
        "outputId": "217c81fb-37bd-44e6-bef7-414fcaf27e62"
      },
      "source": [
        "for i in tp:\n",
        "  print(i)"
      ],
      "execution_count": 151,
      "outputs": [
        {
          "output_type": "stream",
          "text": [
            "a\n",
            "b\n",
            "c\n"
          ],
          "name": "stdout"
        }
      ]
    },
    {
      "cell_type": "code",
      "metadata": {
        "colab": {
          "base_uri": "https://localhost:8080/"
        },
        "id": "Fp9p4g1HJoiS",
        "outputId": "eff66552-5de7-458e-f85a-47a5875182f9"
      },
      "source": [
        "tp, lst"
      ],
      "execution_count": 154,
      "outputs": [
        {
          "output_type": "execute_result",
          "data": {
            "text/plain": [
              "(('a', 'b', 'c'), [10, 50, 30])"
            ]
          },
          "metadata": {
            "tags": []
          },
          "execution_count": 154
        }
      ]
    },
    {
      "cell_type": "code",
      "metadata": {
        "colab": {
          "base_uri": "https://localhost:8080/"
        },
        "id": "3057cpczJvUg",
        "outputId": "bcb47c63-f364-425b-dddf-1948dce94562"
      },
      "source": [
        "zip(tp,lst)"
      ],
      "execution_count": 155,
      "outputs": [
        {
          "output_type": "execute_result",
          "data": {
            "text/plain": [
              "<zip at 0x7fd455f646e0>"
            ]
          },
          "metadata": {
            "tags": []
          },
          "execution_count": 155
        }
      ]
    },
    {
      "cell_type": "code",
      "metadata": {
        "colab": {
          "base_uri": "https://localhost:8080/"
        },
        "id": "9MPxA8gOJ7az",
        "outputId": "3b6efc81-6ad3-497d-b6af-c701dc4c4e0d"
      },
      "source": [
        "zip(tp, lst)"
      ],
      "execution_count": 156,
      "outputs": [
        {
          "output_type": "execute_result",
          "data": {
            "text/plain": [
              "<zip at 0x7fd455f645f0>"
            ]
          },
          "metadata": {
            "tags": []
          },
          "execution_count": 156
        }
      ]
    },
    {
      "cell_type": "code",
      "metadata": {
        "colab": {
          "base_uri": "https://localhost:8080/"
        },
        "id": "5i22OupNKECR",
        "outputId": "af615047-ee9b-4d43-e628-9e871ffe432c"
      },
      "source": [
        "for i in zip(tp, lst):\n",
        "  print(i)"
      ],
      "execution_count": 159,
      "outputs": [
        {
          "output_type": "stream",
          "text": [
            "('a', 10)\n",
            "('b', 50)\n",
            "('c', 30)\n"
          ],
          "name": "stdout"
        }
      ]
    },
    {
      "cell_type": "code",
      "metadata": {
        "id": "p5YGcdAfKNyC"
      },
      "source": [
        "dt = dict(zip(tp,lst))"
      ],
      "execution_count": 160,
      "outputs": []
    },
    {
      "cell_type": "code",
      "metadata": {
        "colab": {
          "base_uri": "https://localhost:8080/"
        },
        "id": "_STZ-VYmKiPP",
        "outputId": "74916fca-4811-4599-f6f9-48ce1b642469"
      },
      "source": [
        "dt"
      ],
      "execution_count": 161,
      "outputs": [
        {
          "output_type": "execute_result",
          "data": {
            "text/plain": [
              "{'a': 10, 'b': 50, 'c': 30}"
            ]
          },
          "metadata": {
            "tags": []
          },
          "execution_count": 161
        }
      ]
    },
    {
      "cell_type": "code",
      "metadata": {
        "colab": {
          "base_uri": "https://localhost:8080/"
        },
        "id": "lj3FtF0rKjMx",
        "outputId": "1ef05399-965a-457c-af85-5d4af16b4864"
      },
      "source": [
        "for i in dt:\n",
        "  print(f'{i} : {dt[i]}')"
      ],
      "execution_count": 164,
      "outputs": [
        {
          "output_type": "stream",
          "text": [
            "a : 10\n",
            "b : 50\n",
            "c : 30\n"
          ],
          "name": "stdout"
        }
      ]
    },
    {
      "cell_type": "code",
      "metadata": {
        "id": "IizmNI8pKvuW"
      },
      "source": [
        "# 부산 3월 기온\n",
        "temp = [10.8,  8.5,  8.7,  7.9,  5.1,\n",
        "         8.1,  8.2, 10.4,   11,  9.9,\n",
        "         7.8,  9.5, 11.6,  8.2,  7.7,\n",
        "         6.6, 11.1, 12.2, 12.6, 10.4,\n",
        "        13.7, 14.1, 12.6, 11.5,   13,\n",
        "        14.5, 13.7,  9.4, 10.4, 11.6, 12.9]"
      ],
      "execution_count": 165,
      "outputs": []
    },
    {
      "cell_type": "code",
      "metadata": {
        "colab": {
          "base_uri": "https://localhost:8080/"
        },
        "id": "cXl4Yue6LZaw",
        "outputId": "9ba20c91-57fa-4f76-a66b-c7c76dd8ed82"
      },
      "source": [
        "max(temp)"
      ],
      "execution_count": 166,
      "outputs": [
        {
          "output_type": "execute_result",
          "data": {
            "text/plain": [
              "14.5"
            ]
          },
          "metadata": {
            "tags": []
          },
          "execution_count": 166
        }
      ]
    },
    {
      "cell_type": "code",
      "metadata": {
        "colab": {
          "base_uri": "https://localhost:8080/"
        },
        "id": "5d7MC75yLbAG",
        "outputId": "52e61400-3e54-4244-feec-28188bbedc79"
      },
      "source": [
        "print(f'최고기온 : {max(temp) : 6.2f}')"
      ],
      "execution_count": 167,
      "outputs": [
        {
          "output_type": "stream",
          "text": [
            "최고기온 :  14.50\n"
          ],
          "name": "stdout"
        }
      ]
    },
    {
      "cell_type": "code",
      "metadata": {
        "colab": {
          "base_uri": "https://localhost:8080/"
        },
        "id": "62BF8DiHLrIs",
        "outputId": "7f8ecdac-2c19-4429-8640-e5a70f98a253"
      },
      "source": [
        "print(f'최저기온 : {min(temp) : 6.2f}')"
      ],
      "execution_count": 168,
      "outputs": [
        {
          "output_type": "stream",
          "text": [
            "최저기온 :   5.10\n"
          ],
          "name": "stdout"
        }
      ]
    },
    {
      "cell_type": "code",
      "metadata": {
        "id": "7g5ZjiRDMCFj"
      },
      "source": [
        "avg = sum(temp) / len(temp)"
      ],
      "execution_count": 169,
      "outputs": []
    },
    {
      "cell_type": "code",
      "metadata": {
        "colab": {
          "base_uri": "https://localhost:8080/"
        },
        "id": "cgwMtIl9MJI_",
        "outputId": "d8e5e1d7-a69e-42cd-e350-07cffb09b263"
      },
      "source": [
        "avg"
      ],
      "execution_count": 170,
      "outputs": [
        {
          "output_type": "execute_result",
          "data": {
            "text/plain": [
              "10.441935483870964"
            ]
          },
          "metadata": {
            "tags": []
          },
          "execution_count": 170
        }
      ]
    },
    {
      "cell_type": "code",
      "metadata": {
        "colab": {
          "base_uri": "https://localhost:8080/"
        },
        "id": "iACrxanaMKuz",
        "outputId": "015d3153-4857-4709-b7c3-a153846ae9ec"
      },
      "source": [
        "print(f'평균기온 {avg : 6.2f}도')"
      ],
      "execution_count": 173,
      "outputs": [
        {
          "output_type": "stream",
          "text": [
            "평균기온  10.44도\n"
          ],
          "name": "stdout"
        }
      ]
    },
    {
      "cell_type": "code",
      "metadata": {
        "id": "dWOsT8pWMQTd"
      },
      "source": [
        ""
      ],
      "execution_count": null,
      "outputs": []
    }
  ]
}