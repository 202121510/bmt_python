{
  "nbformat": 4,
  "nbformat_minor": 0,
  "metadata": {
    "colab": {
      "name": "21410 7주차",
      "provenance": [],
      "collapsed_sections": [],
      "authorship_tag": "ABX9TyOeZIcBUNPVe7aJYop2URM/",
      "include_colab_link": true
    },
    "kernelspec": {
      "name": "python3",
      "display_name": "Python 3"
    },
    "language_info": {
      "name": "python"
    }
  },
  "cells": [
    {
      "cell_type": "markdown",
      "metadata": {
        "id": "view-in-github",
        "colab_type": "text"
      },
      "source": [
        "<a href=\"https://colab.research.google.com/github/202121510/bmt_python/blob/main/21410_7%EC%A3%BC%EC%B0%A8.ipynb\" target=\"_parent\"><img src=\"https://colab.research.google.com/assets/colab-badge.svg\" alt=\"Open In Colab\"/></a>"
      ]
    },
    {
      "cell_type": "code",
      "metadata": {
        "id": "D4zeJqCEeEJU"
      },
      "source": [
        "xlist = range(10)"
      ],
      "execution_count": null,
      "outputs": []
    },
    {
      "cell_type": "code",
      "metadata": {
        "colab": {
          "base_uri": "https://localhost:8080/"
        },
        "id": "EAK4K_1Oe3aI",
        "outputId": "963ee8f3-e671-4adb-8f4e-a7cbd585ebaa"
      },
      "source": [
        "list(xlist)"
      ],
      "execution_count": null,
      "outputs": [
        {
          "output_type": "execute_result",
          "data": {
            "text/plain": [
              "[0, 1, 2, 3, 4, 5, 6, 7, 8, 9]"
            ]
          },
          "metadata": {
            "tags": []
          },
          "execution_count": 7
        }
      ]
    },
    {
      "cell_type": "code",
      "metadata": {
        "colab": {
          "base_uri": "https://localhost:8080/"
        },
        "id": "2nqGYMTee3jm",
        "outputId": "6be7a786-a8be-46b8-f431-09733b2a9478"
      },
      "source": [
        "for item in list(range(5)):\n",
        "  print(item, end=' ')"
      ],
      "execution_count": null,
      "outputs": [
        {
          "output_type": "stream",
          "text": [
            "0 1 2 3 4 "
          ],
          "name": "stdout"
        }
      ]
    },
    {
      "cell_type": "code",
      "metadata": {
        "colab": {
          "base_uri": "https://localhost:8080/"
        },
        "id": "FHY8SQUse3nm",
        "outputId": "e0b67fdc-cb29-4f04-dd6a-4eff7857beb6"
      },
      "source": [
        "for item in range(5):\n",
        "  print(item, end=' ')"
      ],
      "execution_count": null,
      "outputs": [
        {
          "output_type": "stream",
          "text": [
            "0 1 2 3 4 "
          ],
          "name": "stdout"
        }
      ]
    },
    {
      "cell_type": "code",
      "metadata": {
        "id": "OdJ_KjXVfVDu"
      },
      "source": [
        "xlist = ['1', '2']\n",
        "xlist = [int(item) for item in xlist]"
      ],
      "execution_count": null,
      "outputs": []
    },
    {
      "cell_type": "code",
      "metadata": {
        "colab": {
          "base_uri": "https://localhost:8080/"
        },
        "id": "DNry_mYPfVdF",
        "outputId": "4446d152-6652-4878-93d5-3eb9dec64a81"
      },
      "source": [
        "xlist"
      ],
      "execution_count": null,
      "outputs": [
        {
          "output_type": "execute_result",
          "data": {
            "text/plain": [
              "[1, 2]"
            ]
          },
          "metadata": {
            "tags": []
          },
          "execution_count": 16
        }
      ]
    },
    {
      "cell_type": "code",
      "metadata": {
        "colab": {
          "base_uri": "https://localhost:8080/"
        },
        "id": "aR7M1WynfVpt",
        "outputId": "fbddeff5-3e84-4a23-8867-4118d2c7ad8d"
      },
      "source": [
        "i = 1\n",
        "\n",
        "while i <=5:\n",
        "  print(i)\n",
        "  i = i+1"
      ],
      "execution_count": null,
      "outputs": [
        {
          "output_type": "stream",
          "text": [
            "1\n",
            "2\n",
            "3\n",
            "4\n",
            "5\n"
          ],
          "name": "stdout"
        }
      ]
    },
    {
      "cell_type": "code",
      "metadata": {
        "colab": {
          "base_uri": "https://localhost:8080/"
        },
        "id": "1iex0-XQfV11",
        "outputId": "117ac5a2-5ac5-4fde-90e2-3b503c681632"
      },
      "source": [
        "i = 0\n",
        "\n",
        "while i <= 5 :\n",
        "  i = i + 1\n",
        "  if i == 2 : continue\n",
        "  \n",
        "  print(i)\n",
        "\n",
        "  if i == 4 : break"
      ],
      "execution_count": null,
      "outputs": [
        {
          "output_type": "stream",
          "text": [
            "1\n",
            "3\n",
            "4\n"
          ],
          "name": "stdout"
        }
      ]
    },
    {
      "cell_type": "code",
      "metadata": {
        "colab": {
          "base_uri": "https://localhost:8080/"
        },
        "id": "DYW-DKIIfWI9",
        "outputId": "d70fb485-3898-4636-b48e-dea8f58c8c12"
      },
      "source": [
        "lst_even = list()\n",
        "lst_odd = []\n",
        "\n",
        "for i in range(5) :\n",
        "  num = int(input('숫자 입력 : '))\n",
        "\n",
        "  if num % 2 == 0 :\n",
        "    lst_even.append(num)\n",
        "  else :\n",
        "    lst_odd.append(num)\n",
        "\n",
        "print(f'짝수 : {lst_even}')\n",
        "print(f'홀수 : {lst_odd}')"
      ],
      "execution_count": null,
      "outputs": [
        {
          "output_type": "stream",
          "text": [
            "숫자 입력 : 1\n",
            "숫자 입력 : 2\n",
            "숫자 입력 : 3\n",
            "숫자 입력 : 4\n",
            "숫자 입력 : 5\n",
            "짝수 : [2, 4]\n",
            "홀수 : [1, 3, 5]\n"
          ],
          "name": "stdout"
        }
      ]
    },
    {
      "cell_type": "code",
      "metadata": {
        "colab": {
          "base_uri": "https://localhost:8080/"
        },
        "id": "V_E4nM_YfWWV",
        "outputId": "bb49897b-8911-4dc0-ba90-089ad4505071"
      },
      "source": [
        "lst_even"
      ],
      "execution_count": null,
      "outputs": [
        {
          "output_type": "execute_result",
          "data": {
            "text/plain": [
              "[2, 4]"
            ]
          },
          "metadata": {
            "tags": []
          },
          "execution_count": 28
        }
      ]
    },
    {
      "cell_type": "code",
      "metadata": {
        "id": "GrXqg1QspXzK"
      },
      "source": [
        "area = { '서울시':57, '부산시':62, '대구시':59,\n",
        "         '인천시':59, '강화군':58, '서해5도':64,\n",
        "         '광주시':62, '대전시':60, '울산시':53,\n",
        "         '세종시':58 }\n",
        "\n",
        "report = { '위험':'설사, 구토 등 식중독 의심 증상이 있으면 의료기관을 방문하여 의사 지시에 따름',\n",
        "           '경고':'조리도구는 세척, 소독 등을 거쳐 세균 오염을 방지하고 유통기한, 보관 방법 등을 확인하여 음식물 조리, 보관에 각별히 주의하여야 함',\n",
        "           '주의':'조리 음식은 중심부까지 75도(어패류 85도)로 1분 이상 완전히 익히고 외부로 운반할 때에는 가급적 아이스박스 등을 이용하여 10도 이하에서 보관 및 운반',\n",
        "           '관심':'화장실 사용 후, 귀가 후, 조리 전에 손 씻기를 생활화'\n",
        "           }"
      ],
      "execution_count": null,
      "outputs": []
    },
    {
      "cell_type": "code",
      "metadata": {
        "colab": {
          "base_uri": "https://localhost:8080/",
          "height": 424
        },
        "id": "69mBY1z9pYRJ",
        "outputId": "93af6e87-9dc6-4d21-b9e3-7490d2cf37df"
      },
      "source": [
        "areashow = {}\n",
        "\n",
        "for key, value in area.items():\n",
        "  if value >= 86: check = '위험'\n",
        "  elif value >= 71 : check = '경고'\n",
        "  elif value >= 55 : check = '주의'\n",
        "  else : check = '관심'\n",
        "\n",
        "  areashow[key] = check\n",
        "\n",
        "  print(areashow)\n",
        "print('지역목록',list(area.keys()))\n",
        "indata = input('지역목록의 지역을 입력하세요 : ')\n",
        "\n",
        "report[areashow[indata]]"
      ],
      "execution_count": null,
      "outputs": [
        {
          "output_type": "stream",
          "text": [
            "{'서울시': '주의'}\n",
            "{'서울시': '주의', '부산시': '주의'}\n",
            "{'서울시': '주의', '부산시': '주의', '대구시': '주의'}\n",
            "{'서울시': '주의', '부산시': '주의', '대구시': '주의', '인천시': '주의'}\n",
            "{'서울시': '주의', '부산시': '주의', '대구시': '주의', '인천시': '주의', '강화군': '주의'}\n",
            "{'서울시': '주의', '부산시': '주의', '대구시': '주의', '인천시': '주의', '강화군': '주의', '서해5도': '주의'}\n",
            "{'서울시': '주의', '부산시': '주의', '대구시': '주의', '인천시': '주의', '강화군': '주의', '서해5도': '주의', '광주시': '주의'}\n",
            "{'서울시': '주의', '부산시': '주의', '대구시': '주의', '인천시': '주의', '강화군': '주의', '서해5도': '주의', '광주시': '주의', '대전시': '주의'}\n",
            "{'서울시': '주의', '부산시': '주의', '대구시': '주의', '인천시': '주의', '강화군': '주의', '서해5도': '주의', '광주시': '주의', '대전시': '주의', '울산시': '관심'}\n",
            "{'서울시': '주의', '부산시': '주의', '대구시': '주의', '인천시': '주의', '강화군': '주의', '서해5도': '주의', '광주시': '주의', '대전시': '주의', '울산시': '관심', '세종시': '주의'}\n",
            "지역목록 ['서울시', '부산시', '대구시', '인천시', '강화군', '서해5도', '광주시', '대전시', '울산시', '세종시']\n",
            "지역목록의 지역을 입력하세요 : 부산시\n"
          ],
          "name": "stdout"
        },
        {
          "output_type": "error",
          "ename": "AttributeError",
          "evalue": "ignored",
          "traceback": [
            "\u001b[0;31m---------------------------------------------------------------------------\u001b[0m",
            "\u001b[0;31mAttributeError\u001b[0m                            Traceback (most recent call last)",
            "\u001b[0;32m<ipython-input-43-69e1c957eefd>\u001b[0m in \u001b[0;36m<module>\u001b[0;34m()\u001b[0m\n\u001b[1;32m     13\u001b[0m \u001b[0mindata\u001b[0m \u001b[0;34m=\u001b[0m \u001b[0minput\u001b[0m\u001b[0;34m(\u001b[0m\u001b[0;34m'지역목록의 지역을 입력하세요 : '\u001b[0m\u001b[0;34m)\u001b[0m\u001b[0;34m\u001b[0m\u001b[0;34m\u001b[0m\u001b[0m\n\u001b[1;32m     14\u001b[0m \u001b[0;34m\u001b[0m\u001b[0m\n\u001b[0;32m---> 15\u001b[0;31m \u001b[0mreport\u001b[0m\u001b[0;34m[\u001b[0m\u001b[0mareashow\u001b[0m\u001b[0;34m[\u001b[0m\u001b[0mindata\u001b[0m\u001b[0;34m]\u001b[0m\u001b[0;34m]\u001b[0m\u001b[0;34m.\u001b[0m\u001b[0mvalue\u001b[0m\u001b[0;34m\u001b[0m\u001b[0;34m\u001b[0m\u001b[0m\n\u001b[0m",
            "\u001b[0;31mAttributeError\u001b[0m: 'str' object has no attribute 'value'"
          ]
        }
      ]
    },
    {
      "cell_type": "code",
      "metadata": {
        "id": "xN9g-U5UsFCq"
      },
      "source": [
        "areashow"
      ],
      "execution_count": null,
      "outputs": []
    },
    {
      "cell_type": "code",
      "metadata": {
        "id": "QJRG4M7IsGrx"
      },
      "source": [
        ""
      ],
      "execution_count": null,
      "outputs": []
    },
    {
      "cell_type": "code",
      "metadata": {
        "id": "_3HhK3RqsWj5"
      },
      "source": [
        ""
      ],
      "execution_count": null,
      "outputs": []
    },
    {
      "cell_type": "code",
      "metadata": {
        "id": "jkIhWEf2sG6J"
      },
      "source": [
        ""
      ],
      "execution_count": null,
      "outputs": []
    },
    {
      "cell_type": "code",
      "metadata": {
        "id": "mLCJbNZUsHJZ"
      },
      "source": [
        ""
      ],
      "execution_count": null,
      "outputs": []
    }
  ]
}