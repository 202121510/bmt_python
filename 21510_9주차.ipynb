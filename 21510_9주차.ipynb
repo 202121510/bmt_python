{
  "nbformat": 4,
  "nbformat_minor": 0,
  "metadata": {
    "colab": {
      "name": "21510_9주차.ipynb",
      "provenance": [],
      "toc_visible": true,
      "mount_file_id": "1D33l1gpdM3Zpczo_M9iE877ET0bn3eNM",
      "authorship_tag": "ABX9TyO7p3AXA1BDTwooHm1L10We",
      "include_colab_link": true
    },
    "kernelspec": {
      "name": "python3",
      "display_name": "Python 3"
    },
    "language_info": {
      "name": "python"
    }
  },
  "cells": [
    {
      "cell_type": "markdown",
      "metadata": {
        "id": "view-in-github",
        "colab_type": "text"
      },
      "source": [
        "<a href=\"https://colab.research.google.com/github/202121510/bmt_python/blob/main/21510_9%EC%A3%BC%EC%B0%A8.ipynb\" target=\"_parent\"><img src=\"https://colab.research.google.com/assets/colab-badge.svg\" alt=\"Open In Colab\"/></a>"
      ]
    },
    {
      "cell_type": "code",
      "metadata": {
        "colab": {
          "base_uri": "https://localhost:8080/",
          "height": 257
        },
        "id": "TwyKLjzMFJ8L",
        "outputId": "3f260f73-85b3-4e6a-aa1f-3cfc639d2ca4"
      },
      "source": [
        "path = '/content/drive/My Drive/DATA/'\n",
        "\n",
        "fp = open(path+'지역평균기온.txt')\n",
        "data = fp.read()\n",
        "fp.close()\n",
        "print(data)"
      ],
      "execution_count": 1,
      "outputs": [
        {
          "output_type": "error",
          "ename": "FileNotFoundError",
          "evalue": "ignored",
          "traceback": [
            "\u001b[0;31m---------------------------------------------------------------------------\u001b[0m",
            "\u001b[0;31mFileNotFoundError\u001b[0m                         Traceback (most recent call last)",
            "\u001b[0;32m<ipython-input-1-0b4c96e7d514>\u001b[0m in \u001b[0;36m<module>\u001b[0;34m()\u001b[0m\n\u001b[1;32m      1\u001b[0m \u001b[0mpath\u001b[0m \u001b[0;34m=\u001b[0m \u001b[0;34m'/content/drive/My Drive/DATA/'\u001b[0m\u001b[0;34m\u001b[0m\u001b[0;34m\u001b[0m\u001b[0m\n\u001b[1;32m      2\u001b[0m \u001b[0;34m\u001b[0m\u001b[0m\n\u001b[0;32m----> 3\u001b[0;31m \u001b[0mfp\u001b[0m \u001b[0;34m=\u001b[0m \u001b[0mopen\u001b[0m\u001b[0;34m(\u001b[0m\u001b[0mpath\u001b[0m\u001b[0;34m+\u001b[0m\u001b[0;34m'지역평균기온.txt'\u001b[0m\u001b[0;34m)\u001b[0m\u001b[0;34m\u001b[0m\u001b[0;34m\u001b[0m\u001b[0m\n\u001b[0m\u001b[1;32m      4\u001b[0m \u001b[0mdata\u001b[0m \u001b[0;34m=\u001b[0m \u001b[0mfp\u001b[0m\u001b[0;34m.\u001b[0m\u001b[0mread\u001b[0m\u001b[0;34m(\u001b[0m\u001b[0;34m)\u001b[0m\u001b[0;34m\u001b[0m\u001b[0;34m\u001b[0m\u001b[0m\n\u001b[1;32m      5\u001b[0m \u001b[0mfp\u001b[0m\u001b[0;34m.\u001b[0m\u001b[0mclose\u001b[0m\u001b[0;34m(\u001b[0m\u001b[0;34m)\u001b[0m\u001b[0;34m\u001b[0m\u001b[0;34m\u001b[0m\u001b[0m\n",
            "\u001b[0;31mFileNotFoundError\u001b[0m: [Errno 2] No such file or directory: '/content/drive/My Drive/DATA/지역평균기온.txt'"
          ]
        }
      ]
    },
    {
      "cell_type": "code",
      "metadata": {
        "colab": {
          "base_uri": "https://localhost:8080/",
          "height": 257
        },
        "id": "uX0n28ewFRJT",
        "outputId": "78d57d9f-ae55-4523-a363-2fea3f15df2e"
      },
      "source": [
        "path = '/content/drive/My Drive/DATA/'\n",
        "\n",
        "fp = open(path+'지역평균기온.txt', 'r', encoding='utf-8')\n",
        "data = fp.readlines()\n",
        "fp.close()\n",
        "\n",
        "dt = {}\n",
        "for line in data :\n",
        "  line = line.replace('\\n','')\n",
        "  items = line.split(',')\n",
        "  dt[items[0]] = int(items[1])\n",
        "\n",
        "dt"
      ],
      "execution_count": 3,
      "outputs": [
        {
          "output_type": "error",
          "ename": "FileNotFoundError",
          "evalue": "ignored",
          "traceback": [
            "\u001b[0;31m---------------------------------------------------------------------------\u001b[0m",
            "\u001b[0;31mFileNotFoundError\u001b[0m                         Traceback (most recent call last)",
            "\u001b[0;32m<ipython-input-3-fca8fe3b043c>\u001b[0m in \u001b[0;36m<module>\u001b[0;34m()\u001b[0m\n\u001b[1;32m      1\u001b[0m \u001b[0mpath\u001b[0m \u001b[0;34m=\u001b[0m \u001b[0;34m'/content/drive/My Drive/DATA/'\u001b[0m\u001b[0;34m\u001b[0m\u001b[0;34m\u001b[0m\u001b[0m\n\u001b[1;32m      2\u001b[0m \u001b[0;34m\u001b[0m\u001b[0m\n\u001b[0;32m----> 3\u001b[0;31m \u001b[0mfp\u001b[0m \u001b[0;34m=\u001b[0m \u001b[0mopen\u001b[0m\u001b[0;34m(\u001b[0m\u001b[0mpath\u001b[0m\u001b[0;34m+\u001b[0m\u001b[0;34m'지역평균기온.txt'\u001b[0m\u001b[0;34m,\u001b[0m \u001b[0;34m'r'\u001b[0m\u001b[0;34m,\u001b[0m \u001b[0mencoding\u001b[0m\u001b[0;34m=\u001b[0m\u001b[0;34m'utf-8'\u001b[0m\u001b[0;34m)\u001b[0m\u001b[0;34m\u001b[0m\u001b[0;34m\u001b[0m\u001b[0m\n\u001b[0m\u001b[1;32m      4\u001b[0m \u001b[0mdata\u001b[0m \u001b[0;34m=\u001b[0m \u001b[0mfp\u001b[0m\u001b[0;34m.\u001b[0m\u001b[0mreadlines\u001b[0m\u001b[0;34m(\u001b[0m\u001b[0;34m)\u001b[0m\u001b[0;34m\u001b[0m\u001b[0;34m\u001b[0m\u001b[0m\n\u001b[1;32m      5\u001b[0m \u001b[0mfp\u001b[0m\u001b[0;34m.\u001b[0m\u001b[0mclose\u001b[0m\u001b[0;34m(\u001b[0m\u001b[0;34m)\u001b[0m\u001b[0;34m\u001b[0m\u001b[0;34m\u001b[0m\u001b[0m\n",
            "\u001b[0;31mFileNotFoundError\u001b[0m: [Errno 2] No such file or directory: '/content/drive/My Drive/DATA/지역평균기온.txt'"
          ]
        }
      ]
    },
    {
      "cell_type": "code",
      "metadata": {
        "colab": {
          "base_uri": "https://localhost:8080/"
        },
        "id": "syqScpirHdyR",
        "outputId": "f758b3c5-f6c2-4250-af87-3eaebec184c6"
      },
      "source": [
        "# Colab에서 한글 글꼴 쓰기\n",
        "!sudo apt-get install -y fonts-nanum\n",
        "!sudo fc-cache -fv\n",
        "!rm ~/.cache/matplotlib -rf\n",
        "# 이후 런타임 재실행"
      ],
      "execution_count": 4,
      "outputs": [
        {
          "output_type": "stream",
          "text": [
            "Reading package lists... Done\n",
            "Building dependency tree       \n",
            "Reading state information... Done\n",
            "fonts-nanum is already the newest version (20170925-1).\n",
            "The following package was automatically installed and is no longer required:\n",
            "  libnvidia-common-460\n",
            "Use 'sudo apt autoremove' to remove it.\n",
            "0 upgraded, 0 newly installed, 0 to remove and 34 not upgraded.\n",
            "/usr/share/fonts: caching, new cache contents: 0 fonts, 1 dirs\n",
            "/usr/share/fonts/truetype: caching, new cache contents: 0 fonts, 3 dirs\n",
            "/usr/share/fonts/truetype/humor-sans: caching, new cache contents: 1 fonts, 0 dirs\n",
            "/usr/share/fonts/truetype/liberation: caching, new cache contents: 16 fonts, 0 dirs\n",
            "/usr/share/fonts/truetype/nanum: caching, new cache contents: 10 fonts, 0 dirs\n",
            "/usr/local/share/fonts: caching, new cache contents: 0 fonts, 0 dirs\n",
            "/root/.local/share/fonts: skipping, no such directory\n",
            "/root/.fonts: skipping, no such directory\n",
            "/var/cache/fontconfig: cleaning cache directory\n",
            "/root/.cache/fontconfig: not cleaning non-existent cache directory\n",
            "/root/.fontconfig: not cleaning non-existent cache directory\n",
            "fc-cache: succeeded\n"
          ],
          "name": "stdout"
        }
      ]
    },
    {
      "cell_type": "code",
      "metadata": {
        "colab": {
          "base_uri": "https://localhost:8080/",
          "height": 239
        },
        "id": "NzqsGi0gIyRb",
        "outputId": "fe4e2f8a-f98d-4137-8f10-a651ed8d46cd"
      },
      "source": [
        "fp = open('test.csv')\n",
        "data = fp.readlines()\n",
        "fp.close()\n",
        "\n",
        "dt = {}\n",
        "\n",
        "for line in data : \n",
        "  line = line.replace('\\n', '')\n",
        "  items = line.split(',')\n",
        "  dt[items[0]] = int(items[1])\n",
        "print(dt)\n",
        "\n",
        "area = list(dt.keys())\n",
        "temp = list(dt.values())\n",
        "print(area)\n",
        "print(temp)\n",
        "\n",
        "# 그래프 그리기\n",
        "\n",
        "import matplotlib.pyplot as plt\n",
        "\n",
        "plt.rc('font', family='NanumBarunGothic') # 한글 글꼴 설정\n",
        "\n",
        "plt.figure(figsize=(10, 5))\n",
        "plt.plot(area, temp, 'go--', color='skyblue')\n",
        "plt.scatter([a, b, c, d,] [1, 2, 3, 4])\n",
        "plt.title('지역평균기온')\n",
        "plt.show()"
      ],
      "execution_count": 5,
      "outputs": [
        {
          "output_type": "error",
          "ename": "FileNotFoundError",
          "evalue": "ignored",
          "traceback": [
            "\u001b[0;31m---------------------------------------------------------------------------\u001b[0m",
            "\u001b[0;31mFileNotFoundError\u001b[0m                         Traceback (most recent call last)",
            "\u001b[0;32m<ipython-input-5-ee00fb4e3b6e>\u001b[0m in \u001b[0;36m<module>\u001b[0;34m()\u001b[0m\n\u001b[0;32m----> 1\u001b[0;31m \u001b[0mfp\u001b[0m \u001b[0;34m=\u001b[0m \u001b[0mopen\u001b[0m\u001b[0;34m(\u001b[0m\u001b[0;34m'test.csv'\u001b[0m\u001b[0;34m)\u001b[0m\u001b[0;34m\u001b[0m\u001b[0;34m\u001b[0m\u001b[0m\n\u001b[0m\u001b[1;32m      2\u001b[0m \u001b[0mdata\u001b[0m \u001b[0;34m=\u001b[0m \u001b[0mfp\u001b[0m\u001b[0;34m.\u001b[0m\u001b[0mreadlines\u001b[0m\u001b[0;34m(\u001b[0m\u001b[0;34m)\u001b[0m\u001b[0;34m\u001b[0m\u001b[0;34m\u001b[0m\u001b[0m\n\u001b[1;32m      3\u001b[0m \u001b[0mfp\u001b[0m\u001b[0;34m.\u001b[0m\u001b[0mclose\u001b[0m\u001b[0;34m(\u001b[0m\u001b[0;34m)\u001b[0m\u001b[0;34m\u001b[0m\u001b[0;34m\u001b[0m\u001b[0m\n\u001b[1;32m      4\u001b[0m \u001b[0;34m\u001b[0m\u001b[0m\n\u001b[1;32m      5\u001b[0m \u001b[0mdt\u001b[0m \u001b[0;34m=\u001b[0m \u001b[0;34m{\u001b[0m\u001b[0;34m}\u001b[0m\u001b[0;34m\u001b[0m\u001b[0;34m\u001b[0m\u001b[0m\n",
            "\u001b[0;31mFileNotFoundError\u001b[0m: [Errno 2] No such file or directory: 'test.csv'"
          ]
        }
      ]
    },
    {
      "cell_type": "code",
      "metadata": {
        "id": "FjplGI-eJvTi"
      },
      "source": [
        "import pandas as pd\n",
        "import numpy as np\n",
        "import matplotlib.pyplot as plt"
      ],
      "execution_count": 6,
      "outputs": []
    },
    {
      "cell_type": "code",
      "metadata": {
        "id": "t8h7xzXhQy05"
      },
      "source": [
        "s = pd.Series([1, 3, 5, np.nan, 6, 8])"
      ],
      "execution_count": 9,
      "outputs": []
    },
    {
      "cell_type": "code",
      "metadata": {
        "colab": {
          "base_uri": "https://localhost:8080/"
        },
        "id": "FWzZokHXRbjn",
        "outputId": "d244cd22-eabe-4de5-9f67-701341fc26cd"
      },
      "source": [
        "s"
      ],
      "execution_count": 10,
      "outputs": [
        {
          "output_type": "execute_result",
          "data": {
            "text/plain": [
              "0    1.0\n",
              "1    3.0\n",
              "2    5.0\n",
              "3    NaN\n",
              "4    6.0\n",
              "5    8.0\n",
              "dtype: float64"
            ]
          },
          "metadata": {
            "tags": []
          },
          "execution_count": 10
        }
      ]
    },
    {
      "cell_type": "code",
      "metadata": {
        "id": "jY5Uc57uRfPy"
      },
      "source": [
        "dates = pd.date_range('20210430', periods=6)"
      ],
      "execution_count": 11,
      "outputs": []
    },
    {
      "cell_type": "code",
      "metadata": {
        "colab": {
          "base_uri": "https://localhost:8080/"
        },
        "id": "_GPc4iUMSB22",
        "outputId": "6730154a-f4db-461c-e1c1-9d1cc0e0d47f"
      },
      "source": [
        "dates"
      ],
      "execution_count": 12,
      "outputs": [
        {
          "output_type": "execute_result",
          "data": {
            "text/plain": [
              "DatetimeIndex(['2021-04-30', '2021-05-01', '2021-05-02', '2021-05-03',\n",
              "               '2021-05-04', '2021-05-05'],\n",
              "              dtype='datetime64[ns]', freq='D')"
            ]
          },
          "metadata": {
            "tags": []
          },
          "execution_count": 12
        }
      ]
    },
    {
      "cell_type": "code",
      "metadata": {
        "colab": {
          "base_uri": "https://localhost:8080/"
        },
        "id": "LP7KX1DESEoI",
        "outputId": "f98be5ea-30d9-4b89-ab1c-ef1f3dd80404"
      },
      "source": [
        "type(dates)"
      ],
      "execution_count": 13,
      "outputs": [
        {
          "output_type": "execute_result",
          "data": {
            "text/plain": [
              "pandas.core.indexes.datetimes.DatetimeIndex"
            ]
          },
          "metadata": {
            "tags": []
          },
          "execution_count": 13
        }
      ]
    },
    {
      "cell_type": "code",
      "metadata": {
        "id": "5StsBJLnSI-z"
      },
      "source": [
        "df = pd.DataFrame(np.random.randn(6,4))index=dates, columns=list('ABCD'))"
      ],
      "execution_count": 15,
      "outputs": []
    },
    {
      "cell_type": "code",
      "metadata": {
        "colab": {
          "base_uri": "https://localhost:8080/"
        },
        "id": "PqNvOEXdSnE2",
        "outputId": "acd3539a-cc5d-41d8-aef3-4cab4feeeb35"
      },
      "source": [
        "np.random.randn(6,4)"
      ],
      "execution_count": 16,
      "outputs": [
        {
          "output_type": "execute_result",
          "data": {
            "text/plain": [
              "array([[ 0.67461245,  1.16957738,  1.68874431, -0.29943496],\n",
              "       [-0.23734873, -0.73201032,  0.2348087 ,  0.27964669],\n",
              "       [ 0.20668616, -0.02795131, -1.296497  , -0.2308007 ],\n",
              "       [-0.71214524,  0.35768114, -1.5362524 , -0.07791528],\n",
              "       [-0.14415833, -1.07822124, -0.03308049,  0.34770998],\n",
              "       [-0.54480376,  0.03172797,  1.41071795,  0.64571634]])"
            ]
          },
          "metadata": {
            "tags": []
          },
          "execution_count": 16
        }
      ]
    },
    {
      "cell_type": "code",
      "metadata": {
        "colab": {
          "base_uri": "https://localhost:8080/",
          "height": 225
        },
        "id": "m1AAFiAvSyLR",
        "outputId": "762250a1-1fbb-4b77-d907-171df8f87127"
      },
      "source": [
        "df"
      ],
      "execution_count": 17,
      "outputs": [
        {
          "output_type": "execute_result",
          "data": {
            "text/html": [
              "<div>\n",
              "<style scoped>\n",
              "    .dataframe tbody tr th:only-of-type {\n",
              "        vertical-align: middle;\n",
              "    }\n",
              "\n",
              "    .dataframe tbody tr th {\n",
              "        vertical-align: top;\n",
              "    }\n",
              "\n",
              "    .dataframe thead th {\n",
              "        text-align: right;\n",
              "    }\n",
              "</style>\n",
              "<table border=\"1\" class=\"dataframe\">\n",
              "  <thead>\n",
              "    <tr style=\"text-align: right;\">\n",
              "      <th></th>\n",
              "      <th>0</th>\n",
              "      <th>1</th>\n",
              "      <th>2</th>\n",
              "      <th>3</th>\n",
              "    </tr>\n",
              "  </thead>\n",
              "  <tbody>\n",
              "    <tr>\n",
              "      <th>0</th>\n",
              "      <td>1.306262</td>\n",
              "      <td>-0.632854</td>\n",
              "      <td>-1.686159</td>\n",
              "      <td>-1.011392</td>\n",
              "    </tr>\n",
              "    <tr>\n",
              "      <th>1</th>\n",
              "      <td>0.361037</td>\n",
              "      <td>1.224120</td>\n",
              "      <td>-1.118365</td>\n",
              "      <td>-0.331094</td>\n",
              "    </tr>\n",
              "    <tr>\n",
              "      <th>2</th>\n",
              "      <td>1.398578</td>\n",
              "      <td>2.479112</td>\n",
              "      <td>0.445781</td>\n",
              "      <td>0.752028</td>\n",
              "    </tr>\n",
              "    <tr>\n",
              "      <th>3</th>\n",
              "      <td>-1.093826</td>\n",
              "      <td>1.779145</td>\n",
              "      <td>1.025211</td>\n",
              "      <td>-1.124533</td>\n",
              "    </tr>\n",
              "    <tr>\n",
              "      <th>4</th>\n",
              "      <td>1.684339</td>\n",
              "      <td>-1.230221</td>\n",
              "      <td>0.314730</td>\n",
              "      <td>-1.632097</td>\n",
              "    </tr>\n",
              "    <tr>\n",
              "      <th>5</th>\n",
              "      <td>0.274662</td>\n",
              "      <td>1.423425</td>\n",
              "      <td>0.400817</td>\n",
              "      <td>-0.431467</td>\n",
              "    </tr>\n",
              "  </tbody>\n",
              "</table>\n",
              "</div>"
            ],
            "text/plain": [
              "          0         1         2         3\n",
              "0  1.306262 -0.632854 -1.686159 -1.011392\n",
              "1  0.361037  1.224120 -1.118365 -0.331094\n",
              "2  1.398578  2.479112  0.445781  0.752028\n",
              "3 -1.093826  1.779145  1.025211 -1.124533\n",
              "4  1.684339 -1.230221  0.314730 -1.632097\n",
              "5  0.274662  1.423425  0.400817 -0.431467"
            ]
          },
          "metadata": {
            "tags": []
          },
          "execution_count": 17
        }
      ]
    },
    {
      "cell_type": "code",
      "metadata": {
        "id": "HqgSF6joTPV7"
      },
      "source": [
        "df2 = pd.DataFrame(\n",
        "    {\n",
        "        'A': 1.,\n",
        "        'B': pd.Timestamp('20201113'),\n",
        "        'C': pd.Series(1, index=list(range(4)), dtype='float32'),\n",
        "        'D': np.array([3] * 4, dtype='int32'),\n",
        "        'E': pd.Categorical([\"test\", \"train\", \"test\", \"train\"]),\n",
        "        'F': 'foo'\n",
        "     }\n",
        ")"
      ],
      "execution_count": 18,
      "outputs": []
    },
    {
      "cell_type": "code",
      "metadata": {
        "colab": {
          "base_uri": "https://localhost:8080/",
          "height": 166
        },
        "id": "A_mIGrhKULIO",
        "outputId": "978386f5-d4e6-4906-f2f1-da365743972b"
      },
      "source": [
        "df2"
      ],
      "execution_count": 20,
      "outputs": [
        {
          "output_type": "execute_result",
          "data": {
            "text/html": [
              "<div>\n",
              "<style scoped>\n",
              "    .dataframe tbody tr th:only-of-type {\n",
              "        vertical-align: middle;\n",
              "    }\n",
              "\n",
              "    .dataframe tbody tr th {\n",
              "        vertical-align: top;\n",
              "    }\n",
              "\n",
              "    .dataframe thead th {\n",
              "        text-align: right;\n",
              "    }\n",
              "</style>\n",
              "<table border=\"1\" class=\"dataframe\">\n",
              "  <thead>\n",
              "    <tr style=\"text-align: right;\">\n",
              "      <th></th>\n",
              "      <th>A</th>\n",
              "      <th>B</th>\n",
              "      <th>C</th>\n",
              "      <th>D</th>\n",
              "      <th>E</th>\n",
              "      <th>F</th>\n",
              "    </tr>\n",
              "  </thead>\n",
              "  <tbody>\n",
              "    <tr>\n",
              "      <th>0</th>\n",
              "      <td>1.0</td>\n",
              "      <td>2020-11-13</td>\n",
              "      <td>1.0</td>\n",
              "      <td>3</td>\n",
              "      <td>test</td>\n",
              "      <td>foo</td>\n",
              "    </tr>\n",
              "    <tr>\n",
              "      <th>1</th>\n",
              "      <td>1.0</td>\n",
              "      <td>2020-11-13</td>\n",
              "      <td>1.0</td>\n",
              "      <td>3</td>\n",
              "      <td>train</td>\n",
              "      <td>foo</td>\n",
              "    </tr>\n",
              "    <tr>\n",
              "      <th>2</th>\n",
              "      <td>1.0</td>\n",
              "      <td>2020-11-13</td>\n",
              "      <td>1.0</td>\n",
              "      <td>3</td>\n",
              "      <td>test</td>\n",
              "      <td>foo</td>\n",
              "    </tr>\n",
              "    <tr>\n",
              "      <th>3</th>\n",
              "      <td>1.0</td>\n",
              "      <td>2020-11-13</td>\n",
              "      <td>1.0</td>\n",
              "      <td>3</td>\n",
              "      <td>train</td>\n",
              "      <td>foo</td>\n",
              "    </tr>\n",
              "  </tbody>\n",
              "</table>\n",
              "</div>"
            ],
            "text/plain": [
              "     A          B    C  D      E    F\n",
              "0  1.0 2020-11-13  1.0  3   test  foo\n",
              "1  1.0 2020-11-13  1.0  3  train  foo\n",
              "2  1.0 2020-11-13  1.0  3   test  foo\n",
              "3  1.0 2020-11-13  1.0  3  train  foo"
            ]
          },
          "metadata": {
            "tags": []
          },
          "execution_count": 20
        }
      ]
    },
    {
      "cell_type": "code",
      "metadata": {
        "colab": {
          "base_uri": "https://localhost:8080/"
        },
        "id": "eJxacKh_UMfC",
        "outputId": "f5718023-a8f4-42cd-cb4e-ffd7a9d310a3"
      },
      "source": [
        "df2.dtypes"
      ],
      "execution_count": 22,
      "outputs": [
        {
          "output_type": "execute_result",
          "data": {
            "text/plain": [
              "A           float64\n",
              "B    datetime64[ns]\n",
              "C           float32\n",
              "D             int32\n",
              "E          category\n",
              "F            object\n",
              "dtype: object"
            ]
          },
          "metadata": {
            "tags": []
          },
          "execution_count": 22
        }
      ]
    },
    {
      "cell_type": "code",
      "metadata": {
        "id": "8jpZZRfTU7di"
      },
      "source": [
        "dates = pd.date_range('20210430', periods=6)"
      ],
      "execution_count": 23,
      "outputs": []
    },
    {
      "cell_type": "code",
      "metadata": {
        "id": "KTT0ZzTnVlqW"
      },
      "source": [
        "df = pd.DataFrame(np.random.randn(6,4), index=dates, columns=list('ABCD')) "
      ],
      "execution_count": 24,
      "outputs": []
    },
    {
      "cell_type": "code",
      "metadata": {
        "colab": {
          "base_uri": "https://localhost:8080/",
          "height": 225
        },
        "id": "2HqgpWKyVpQV",
        "outputId": "d7ff382a-88b8-483b-9ec2-d9a8d0b5de8a"
      },
      "source": [
        "df"
      ],
      "execution_count": 25,
      "outputs": [
        {
          "output_type": "execute_result",
          "data": {
            "text/html": [
              "<div>\n",
              "<style scoped>\n",
              "    .dataframe tbody tr th:only-of-type {\n",
              "        vertical-align: middle;\n",
              "    }\n",
              "\n",
              "    .dataframe tbody tr th {\n",
              "        vertical-align: top;\n",
              "    }\n",
              "\n",
              "    .dataframe thead th {\n",
              "        text-align: right;\n",
              "    }\n",
              "</style>\n",
              "<table border=\"1\" class=\"dataframe\">\n",
              "  <thead>\n",
              "    <tr style=\"text-align: right;\">\n",
              "      <th></th>\n",
              "      <th>A</th>\n",
              "      <th>B</th>\n",
              "      <th>C</th>\n",
              "      <th>D</th>\n",
              "    </tr>\n",
              "  </thead>\n",
              "  <tbody>\n",
              "    <tr>\n",
              "      <th>2021-04-30</th>\n",
              "      <td>0.039625</td>\n",
              "      <td>0.556187</td>\n",
              "      <td>1.249135</td>\n",
              "      <td>-1.041226</td>\n",
              "    </tr>\n",
              "    <tr>\n",
              "      <th>2021-05-01</th>\n",
              "      <td>0.112171</td>\n",
              "      <td>1.171325</td>\n",
              "      <td>0.907151</td>\n",
              "      <td>0.133969</td>\n",
              "    </tr>\n",
              "    <tr>\n",
              "      <th>2021-05-02</th>\n",
              "      <td>-1.576167</td>\n",
              "      <td>-1.342843</td>\n",
              "      <td>-0.812220</td>\n",
              "      <td>0.421481</td>\n",
              "    </tr>\n",
              "    <tr>\n",
              "      <th>2021-05-03</th>\n",
              "      <td>0.702360</td>\n",
              "      <td>1.201718</td>\n",
              "      <td>0.056681</td>\n",
              "      <td>1.460764</td>\n",
              "    </tr>\n",
              "    <tr>\n",
              "      <th>2021-05-04</th>\n",
              "      <td>0.378396</td>\n",
              "      <td>0.914872</td>\n",
              "      <td>0.013026</td>\n",
              "      <td>0.800033</td>\n",
              "    </tr>\n",
              "    <tr>\n",
              "      <th>2021-05-05</th>\n",
              "      <td>0.033311</td>\n",
              "      <td>-0.267681</td>\n",
              "      <td>0.506541</td>\n",
              "      <td>0.731719</td>\n",
              "    </tr>\n",
              "  </tbody>\n",
              "</table>\n",
              "</div>"
            ],
            "text/plain": [
              "                   A         B         C         D\n",
              "2021-04-30  0.039625  0.556187  1.249135 -1.041226\n",
              "2021-05-01  0.112171  1.171325  0.907151  0.133969\n",
              "2021-05-02 -1.576167 -1.342843 -0.812220  0.421481\n",
              "2021-05-03  0.702360  1.201718  0.056681  1.460764\n",
              "2021-05-04  0.378396  0.914872  0.013026  0.800033\n",
              "2021-05-05  0.033311 -0.267681  0.506541  0.731719"
            ]
          },
          "metadata": {
            "tags": []
          },
          "execution_count": 25
        }
      ]
    },
    {
      "cell_type": "code",
      "metadata": {
        "colab": {
          "base_uri": "https://localhost:8080/",
          "height": 195
        },
        "id": "tqVkxql1VqF6",
        "outputId": "efcd8584-06e0-4b6e-e1d3-f3c854f0042c"
      },
      "source": [
        "df.head()"
      ],
      "execution_count": 27,
      "outputs": [
        {
          "output_type": "execute_result",
          "data": {
            "text/html": [
              "<div>\n",
              "<style scoped>\n",
              "    .dataframe tbody tr th:only-of-type {\n",
              "        vertical-align: middle;\n",
              "    }\n",
              "\n",
              "    .dataframe tbody tr th {\n",
              "        vertical-align: top;\n",
              "    }\n",
              "\n",
              "    .dataframe thead th {\n",
              "        text-align: right;\n",
              "    }\n",
              "</style>\n",
              "<table border=\"1\" class=\"dataframe\">\n",
              "  <thead>\n",
              "    <tr style=\"text-align: right;\">\n",
              "      <th></th>\n",
              "      <th>A</th>\n",
              "      <th>B</th>\n",
              "      <th>C</th>\n",
              "      <th>D</th>\n",
              "    </tr>\n",
              "  </thead>\n",
              "  <tbody>\n",
              "    <tr>\n",
              "      <th>2021-04-30</th>\n",
              "      <td>0.039625</td>\n",
              "      <td>0.556187</td>\n",
              "      <td>1.249135</td>\n",
              "      <td>-1.041226</td>\n",
              "    </tr>\n",
              "    <tr>\n",
              "      <th>2021-05-01</th>\n",
              "      <td>0.112171</td>\n",
              "      <td>1.171325</td>\n",
              "      <td>0.907151</td>\n",
              "      <td>0.133969</td>\n",
              "    </tr>\n",
              "    <tr>\n",
              "      <th>2021-05-02</th>\n",
              "      <td>-1.576167</td>\n",
              "      <td>-1.342843</td>\n",
              "      <td>-0.812220</td>\n",
              "      <td>0.421481</td>\n",
              "    </tr>\n",
              "    <tr>\n",
              "      <th>2021-05-03</th>\n",
              "      <td>0.702360</td>\n",
              "      <td>1.201718</td>\n",
              "      <td>0.056681</td>\n",
              "      <td>1.460764</td>\n",
              "    </tr>\n",
              "    <tr>\n",
              "      <th>2021-05-04</th>\n",
              "      <td>0.378396</td>\n",
              "      <td>0.914872</td>\n",
              "      <td>0.013026</td>\n",
              "      <td>0.800033</td>\n",
              "    </tr>\n",
              "  </tbody>\n",
              "</table>\n",
              "</div>"
            ],
            "text/plain": [
              "                   A         B         C         D\n",
              "2021-04-30  0.039625  0.556187  1.249135 -1.041226\n",
              "2021-05-01  0.112171  1.171325  0.907151  0.133969\n",
              "2021-05-02 -1.576167 -1.342843 -0.812220  0.421481\n",
              "2021-05-03  0.702360  1.201718  0.056681  1.460764\n",
              "2021-05-04  0.378396  0.914872  0.013026  0.800033"
            ]
          },
          "metadata": {
            "tags": []
          },
          "execution_count": 27
        }
      ]
    },
    {
      "cell_type": "code",
      "metadata": {
        "colab": {
          "base_uri": "https://localhost:8080/",
          "height": 195
        },
        "id": "ZwlTvrNIWNRi",
        "outputId": "6e362d7c-a92b-4e5a-ba00-f0f580eb4002"
      },
      "source": [
        "df.tail()"
      ],
      "execution_count": 28,
      "outputs": [
        {
          "output_type": "execute_result",
          "data": {
            "text/html": [
              "<div>\n",
              "<style scoped>\n",
              "    .dataframe tbody tr th:only-of-type {\n",
              "        vertical-align: middle;\n",
              "    }\n",
              "\n",
              "    .dataframe tbody tr th {\n",
              "        vertical-align: top;\n",
              "    }\n",
              "\n",
              "    .dataframe thead th {\n",
              "        text-align: right;\n",
              "    }\n",
              "</style>\n",
              "<table border=\"1\" class=\"dataframe\">\n",
              "  <thead>\n",
              "    <tr style=\"text-align: right;\">\n",
              "      <th></th>\n",
              "      <th>A</th>\n",
              "      <th>B</th>\n",
              "      <th>C</th>\n",
              "      <th>D</th>\n",
              "    </tr>\n",
              "  </thead>\n",
              "  <tbody>\n",
              "    <tr>\n",
              "      <th>2021-05-01</th>\n",
              "      <td>0.112171</td>\n",
              "      <td>1.171325</td>\n",
              "      <td>0.907151</td>\n",
              "      <td>0.133969</td>\n",
              "    </tr>\n",
              "    <tr>\n",
              "      <th>2021-05-02</th>\n",
              "      <td>-1.576167</td>\n",
              "      <td>-1.342843</td>\n",
              "      <td>-0.812220</td>\n",
              "      <td>0.421481</td>\n",
              "    </tr>\n",
              "    <tr>\n",
              "      <th>2021-05-03</th>\n",
              "      <td>0.702360</td>\n",
              "      <td>1.201718</td>\n",
              "      <td>0.056681</td>\n",
              "      <td>1.460764</td>\n",
              "    </tr>\n",
              "    <tr>\n",
              "      <th>2021-05-04</th>\n",
              "      <td>0.378396</td>\n",
              "      <td>0.914872</td>\n",
              "      <td>0.013026</td>\n",
              "      <td>0.800033</td>\n",
              "    </tr>\n",
              "    <tr>\n",
              "      <th>2021-05-05</th>\n",
              "      <td>0.033311</td>\n",
              "      <td>-0.267681</td>\n",
              "      <td>0.506541</td>\n",
              "      <td>0.731719</td>\n",
              "    </tr>\n",
              "  </tbody>\n",
              "</table>\n",
              "</div>"
            ],
            "text/plain": [
              "                   A         B         C         D\n",
              "2021-05-01  0.112171  1.171325  0.907151  0.133969\n",
              "2021-05-02 -1.576167 -1.342843 -0.812220  0.421481\n",
              "2021-05-03  0.702360  1.201718  0.056681  1.460764\n",
              "2021-05-04  0.378396  0.914872  0.013026  0.800033\n",
              "2021-05-05  0.033311 -0.267681  0.506541  0.731719"
            ]
          },
          "metadata": {
            "tags": []
          },
          "execution_count": 28
        }
      ]
    },
    {
      "cell_type": "code",
      "metadata": {
        "colab": {
          "base_uri": "https://localhost:8080/",
          "height": 106
        },
        "id": "0CijjYYxWTPp",
        "outputId": "d849679c-10d0-4f56-9754-d22e4c2449c3"
      },
      "source": [
        "df.head(2)"
      ],
      "execution_count": 29,
      "outputs": [
        {
          "output_type": "execute_result",
          "data": {
            "text/html": [
              "<div>\n",
              "<style scoped>\n",
              "    .dataframe tbody tr th:only-of-type {\n",
              "        vertical-align: middle;\n",
              "    }\n",
              "\n",
              "    .dataframe tbody tr th {\n",
              "        vertical-align: top;\n",
              "    }\n",
              "\n",
              "    .dataframe thead th {\n",
              "        text-align: right;\n",
              "    }\n",
              "</style>\n",
              "<table border=\"1\" class=\"dataframe\">\n",
              "  <thead>\n",
              "    <tr style=\"text-align: right;\">\n",
              "      <th></th>\n",
              "      <th>A</th>\n",
              "      <th>B</th>\n",
              "      <th>C</th>\n",
              "      <th>D</th>\n",
              "    </tr>\n",
              "  </thead>\n",
              "  <tbody>\n",
              "    <tr>\n",
              "      <th>2021-04-30</th>\n",
              "      <td>0.039625</td>\n",
              "      <td>0.556187</td>\n",
              "      <td>1.249135</td>\n",
              "      <td>-1.041226</td>\n",
              "    </tr>\n",
              "    <tr>\n",
              "      <th>2021-05-01</th>\n",
              "      <td>0.112171</td>\n",
              "      <td>1.171325</td>\n",
              "      <td>0.907151</td>\n",
              "      <td>0.133969</td>\n",
              "    </tr>\n",
              "  </tbody>\n",
              "</table>\n",
              "</div>"
            ],
            "text/plain": [
              "                   A         B         C         D\n",
              "2021-04-30  0.039625  0.556187  1.249135 -1.041226\n",
              "2021-05-01  0.112171  1.171325  0.907151  0.133969"
            ]
          },
          "metadata": {
            "tags": []
          },
          "execution_count": 29
        }
      ]
    },
    {
      "cell_type": "code",
      "metadata": {
        "colab": {
          "base_uri": "https://localhost:8080/",
          "height": 166
        },
        "id": "kzkJDAyLWc9m",
        "outputId": "e37366fd-86f7-4618-fa85-bd32e4935eb9"
      },
      "source": [
        "df.tail(4)"
      ],
      "execution_count": 30,
      "outputs": [
        {
          "output_type": "execute_result",
          "data": {
            "text/html": [
              "<div>\n",
              "<style scoped>\n",
              "    .dataframe tbody tr th:only-of-type {\n",
              "        vertical-align: middle;\n",
              "    }\n",
              "\n",
              "    .dataframe tbody tr th {\n",
              "        vertical-align: top;\n",
              "    }\n",
              "\n",
              "    .dataframe thead th {\n",
              "        text-align: right;\n",
              "    }\n",
              "</style>\n",
              "<table border=\"1\" class=\"dataframe\">\n",
              "  <thead>\n",
              "    <tr style=\"text-align: right;\">\n",
              "      <th></th>\n",
              "      <th>A</th>\n",
              "      <th>B</th>\n",
              "      <th>C</th>\n",
              "      <th>D</th>\n",
              "    </tr>\n",
              "  </thead>\n",
              "  <tbody>\n",
              "    <tr>\n",
              "      <th>2021-05-02</th>\n",
              "      <td>-1.576167</td>\n",
              "      <td>-1.342843</td>\n",
              "      <td>-0.812220</td>\n",
              "      <td>0.421481</td>\n",
              "    </tr>\n",
              "    <tr>\n",
              "      <th>2021-05-03</th>\n",
              "      <td>0.702360</td>\n",
              "      <td>1.201718</td>\n",
              "      <td>0.056681</td>\n",
              "      <td>1.460764</td>\n",
              "    </tr>\n",
              "    <tr>\n",
              "      <th>2021-05-04</th>\n",
              "      <td>0.378396</td>\n",
              "      <td>0.914872</td>\n",
              "      <td>0.013026</td>\n",
              "      <td>0.800033</td>\n",
              "    </tr>\n",
              "    <tr>\n",
              "      <th>2021-05-05</th>\n",
              "      <td>0.033311</td>\n",
              "      <td>-0.267681</td>\n",
              "      <td>0.506541</td>\n",
              "      <td>0.731719</td>\n",
              "    </tr>\n",
              "  </tbody>\n",
              "</table>\n",
              "</div>"
            ],
            "text/plain": [
              "                   A         B         C         D\n",
              "2021-05-02 -1.576167 -1.342843 -0.812220  0.421481\n",
              "2021-05-03  0.702360  1.201718  0.056681  1.460764\n",
              "2021-05-04  0.378396  0.914872  0.013026  0.800033\n",
              "2021-05-05  0.033311 -0.267681  0.506541  0.731719"
            ]
          },
          "metadata": {
            "tags": []
          },
          "execution_count": 30
        }
      ]
    },
    {
      "cell_type": "code",
      "metadata": {
        "colab": {
          "base_uri": "https://localhost:8080/"
        },
        "id": "dQZj0X-iWezU",
        "outputId": "caecc0a2-2034-431b-da13-95da9ea0f8b1"
      },
      "source": [
        "dates"
      ],
      "execution_count": 31,
      "outputs": [
        {
          "output_type": "execute_result",
          "data": {
            "text/plain": [
              "DatetimeIndex(['2021-04-30', '2021-05-01', '2021-05-02', '2021-05-03',\n",
              "               '2021-05-04', '2021-05-05'],\n",
              "              dtype='datetime64[ns]', freq='D')"
            ]
          },
          "metadata": {
            "tags": []
          },
          "execution_count": 31
        }
      ]
    },
    {
      "cell_type": "code",
      "metadata": {
        "colab": {
          "base_uri": "https://localhost:8080/",
          "height": 225
        },
        "id": "bpwIS3KvWrrk",
        "outputId": "0502ad79-2cb7-46b1-9f51-a36d47941031"
      },
      "source": [
        "df"
      ],
      "execution_count": 32,
      "outputs": [
        {
          "output_type": "execute_result",
          "data": {
            "text/html": [
              "<div>\n",
              "<style scoped>\n",
              "    .dataframe tbody tr th:only-of-type {\n",
              "        vertical-align: middle;\n",
              "    }\n",
              "\n",
              "    .dataframe tbody tr th {\n",
              "        vertical-align: top;\n",
              "    }\n",
              "\n",
              "    .dataframe thead th {\n",
              "        text-align: right;\n",
              "    }\n",
              "</style>\n",
              "<table border=\"1\" class=\"dataframe\">\n",
              "  <thead>\n",
              "    <tr style=\"text-align: right;\">\n",
              "      <th></th>\n",
              "      <th>A</th>\n",
              "      <th>B</th>\n",
              "      <th>C</th>\n",
              "      <th>D</th>\n",
              "    </tr>\n",
              "  </thead>\n",
              "  <tbody>\n",
              "    <tr>\n",
              "      <th>2021-04-30</th>\n",
              "      <td>0.039625</td>\n",
              "      <td>0.556187</td>\n",
              "      <td>1.249135</td>\n",
              "      <td>-1.041226</td>\n",
              "    </tr>\n",
              "    <tr>\n",
              "      <th>2021-05-01</th>\n",
              "      <td>0.112171</td>\n",
              "      <td>1.171325</td>\n",
              "      <td>0.907151</td>\n",
              "      <td>0.133969</td>\n",
              "    </tr>\n",
              "    <tr>\n",
              "      <th>2021-05-02</th>\n",
              "      <td>-1.576167</td>\n",
              "      <td>-1.342843</td>\n",
              "      <td>-0.812220</td>\n",
              "      <td>0.421481</td>\n",
              "    </tr>\n",
              "    <tr>\n",
              "      <th>2021-05-03</th>\n",
              "      <td>0.702360</td>\n",
              "      <td>1.201718</td>\n",
              "      <td>0.056681</td>\n",
              "      <td>1.460764</td>\n",
              "    </tr>\n",
              "    <tr>\n",
              "      <th>2021-05-04</th>\n",
              "      <td>0.378396</td>\n",
              "      <td>0.914872</td>\n",
              "      <td>0.013026</td>\n",
              "      <td>0.800033</td>\n",
              "    </tr>\n",
              "    <tr>\n",
              "      <th>2021-05-05</th>\n",
              "      <td>0.033311</td>\n",
              "      <td>-0.267681</td>\n",
              "      <td>0.506541</td>\n",
              "      <td>0.731719</td>\n",
              "    </tr>\n",
              "  </tbody>\n",
              "</table>\n",
              "</div>"
            ],
            "text/plain": [
              "                   A         B         C         D\n",
              "2021-04-30  0.039625  0.556187  1.249135 -1.041226\n",
              "2021-05-01  0.112171  1.171325  0.907151  0.133969\n",
              "2021-05-02 -1.576167 -1.342843 -0.812220  0.421481\n",
              "2021-05-03  0.702360  1.201718  0.056681  1.460764\n",
              "2021-05-04  0.378396  0.914872  0.013026  0.800033\n",
              "2021-05-05  0.033311 -0.267681  0.506541  0.731719"
            ]
          },
          "metadata": {
            "tags": []
          },
          "execution_count": 32
        }
      ]
    },
    {
      "cell_type": "code",
      "metadata": {
        "colab": {
          "base_uri": "https://localhost:8080/"
        },
        "id": "n2JhrjDGWsSR",
        "outputId": "6e96ab29-960c-4a15-b9d2-1f90a0384ef5"
      },
      "source": [
        "df.index"
      ],
      "execution_count": 34,
      "outputs": [
        {
          "output_type": "execute_result",
          "data": {
            "text/plain": [
              "DatetimeIndex(['2021-04-30', '2021-05-01', '2021-05-02', '2021-05-03',\n",
              "               '2021-05-04', '2021-05-05'],\n",
              "              dtype='datetime64[ns]', freq='D')"
            ]
          },
          "metadata": {
            "tags": []
          },
          "execution_count": 34
        }
      ]
    },
    {
      "cell_type": "code",
      "metadata": {
        "colab": {
          "base_uri": "https://localhost:8080/"
        },
        "id": "v9gxMALvW1kD",
        "outputId": "cbbbb404-fd3f-4951-d3ac-306f03ae617c"
      },
      "source": [
        "df.columns"
      ],
      "execution_count": 36,
      "outputs": [
        {
          "output_type": "execute_result",
          "data": {
            "text/plain": [
              "Index(['A', 'B', 'C', 'D'], dtype='object')"
            ]
          },
          "metadata": {
            "tags": []
          },
          "execution_count": 36
        }
      ]
    },
    {
      "cell_type": "code",
      "metadata": {
        "colab": {
          "base_uri": "https://localhost:8080/",
          "height": 284
        },
        "id": "IXIe4EqkXHGw",
        "outputId": "8aac94c6-962c-4e8a-bbfc-e8dc1f96f369"
      },
      "source": [
        "df.describe()"
      ],
      "execution_count": 38,
      "outputs": [
        {
          "output_type": "execute_result",
          "data": {
            "text/html": [
              "<div>\n",
              "<style scoped>\n",
              "    .dataframe tbody tr th:only-of-type {\n",
              "        vertical-align: middle;\n",
              "    }\n",
              "\n",
              "    .dataframe tbody tr th {\n",
              "        vertical-align: top;\n",
              "    }\n",
              "\n",
              "    .dataframe thead th {\n",
              "        text-align: right;\n",
              "    }\n",
              "</style>\n",
              "<table border=\"1\" class=\"dataframe\">\n",
              "  <thead>\n",
              "    <tr style=\"text-align: right;\">\n",
              "      <th></th>\n",
              "      <th>A</th>\n",
              "      <th>B</th>\n",
              "      <th>C</th>\n",
              "      <th>D</th>\n",
              "    </tr>\n",
              "  </thead>\n",
              "  <tbody>\n",
              "    <tr>\n",
              "      <th>count</th>\n",
              "      <td>6.000000</td>\n",
              "      <td>6.000000</td>\n",
              "      <td>6.000000</td>\n",
              "      <td>6.000000</td>\n",
              "    </tr>\n",
              "    <tr>\n",
              "      <th>mean</th>\n",
              "      <td>-0.051717</td>\n",
              "      <td>0.372263</td>\n",
              "      <td>0.320052</td>\n",
              "      <td>0.417790</td>\n",
              "    </tr>\n",
              "    <tr>\n",
              "      <th>std</th>\n",
              "      <td>0.789938</td>\n",
              "      <td>1.000587</td>\n",
              "      <td>0.733257</td>\n",
              "      <td>0.841635</td>\n",
              "    </tr>\n",
              "    <tr>\n",
              "      <th>min</th>\n",
              "      <td>-1.576167</td>\n",
              "      <td>-1.342843</td>\n",
              "      <td>-0.812220</td>\n",
              "      <td>-1.041226</td>\n",
              "    </tr>\n",
              "    <tr>\n",
              "      <th>25%</th>\n",
              "      <td>0.034890</td>\n",
              "      <td>-0.061714</td>\n",
              "      <td>0.023940</td>\n",
              "      <td>0.205847</td>\n",
              "    </tr>\n",
              "    <tr>\n",
              "      <th>50%</th>\n",
              "      <td>0.075898</td>\n",
              "      <td>0.735529</td>\n",
              "      <td>0.281611</td>\n",
              "      <td>0.576600</td>\n",
              "    </tr>\n",
              "    <tr>\n",
              "      <th>75%</th>\n",
              "      <td>0.311839</td>\n",
              "      <td>1.107212</td>\n",
              "      <td>0.806999</td>\n",
              "      <td>0.782954</td>\n",
              "    </tr>\n",
              "    <tr>\n",
              "      <th>max</th>\n",
              "      <td>0.702360</td>\n",
              "      <td>1.201718</td>\n",
              "      <td>1.249135</td>\n",
              "      <td>1.460764</td>\n",
              "    </tr>\n",
              "  </tbody>\n",
              "</table>\n",
              "</div>"
            ],
            "text/plain": [
              "              A         B         C         D\n",
              "count  6.000000  6.000000  6.000000  6.000000\n",
              "mean  -0.051717  0.372263  0.320052  0.417790\n",
              "std    0.789938  1.000587  0.733257  0.841635\n",
              "min   -1.576167 -1.342843 -0.812220 -1.041226\n",
              "25%    0.034890 -0.061714  0.023940  0.205847\n",
              "50%    0.075898  0.735529  0.281611  0.576600\n",
              "75%    0.311839  1.107212  0.806999  0.782954\n",
              "max    0.702360  1.201718  1.249135  1.460764"
            ]
          },
          "metadata": {
            "tags": []
          },
          "execution_count": 38
        }
      ]
    },
    {
      "cell_type": "code",
      "metadata": {
        "colab": {
          "base_uri": "https://localhost:8080/",
          "height": 225
        },
        "id": "Wu7-_f-WXVBG",
        "outputId": "23dd578a-398c-400a-d83d-ee04c8552346"
      },
      "source": [
        "df"
      ],
      "execution_count": 39,
      "outputs": [
        {
          "output_type": "execute_result",
          "data": {
            "text/html": [
              "<div>\n",
              "<style scoped>\n",
              "    .dataframe tbody tr th:only-of-type {\n",
              "        vertical-align: middle;\n",
              "    }\n",
              "\n",
              "    .dataframe tbody tr th {\n",
              "        vertical-align: top;\n",
              "    }\n",
              "\n",
              "    .dataframe thead th {\n",
              "        text-align: right;\n",
              "    }\n",
              "</style>\n",
              "<table border=\"1\" class=\"dataframe\">\n",
              "  <thead>\n",
              "    <tr style=\"text-align: right;\">\n",
              "      <th></th>\n",
              "      <th>A</th>\n",
              "      <th>B</th>\n",
              "      <th>C</th>\n",
              "      <th>D</th>\n",
              "    </tr>\n",
              "  </thead>\n",
              "  <tbody>\n",
              "    <tr>\n",
              "      <th>2021-04-30</th>\n",
              "      <td>0.039625</td>\n",
              "      <td>0.556187</td>\n",
              "      <td>1.249135</td>\n",
              "      <td>-1.041226</td>\n",
              "    </tr>\n",
              "    <tr>\n",
              "      <th>2021-05-01</th>\n",
              "      <td>0.112171</td>\n",
              "      <td>1.171325</td>\n",
              "      <td>0.907151</td>\n",
              "      <td>0.133969</td>\n",
              "    </tr>\n",
              "    <tr>\n",
              "      <th>2021-05-02</th>\n",
              "      <td>-1.576167</td>\n",
              "      <td>-1.342843</td>\n",
              "      <td>-0.812220</td>\n",
              "      <td>0.421481</td>\n",
              "    </tr>\n",
              "    <tr>\n",
              "      <th>2021-05-03</th>\n",
              "      <td>0.702360</td>\n",
              "      <td>1.201718</td>\n",
              "      <td>0.056681</td>\n",
              "      <td>1.460764</td>\n",
              "    </tr>\n",
              "    <tr>\n",
              "      <th>2021-05-04</th>\n",
              "      <td>0.378396</td>\n",
              "      <td>0.914872</td>\n",
              "      <td>0.013026</td>\n",
              "      <td>0.800033</td>\n",
              "    </tr>\n",
              "    <tr>\n",
              "      <th>2021-05-05</th>\n",
              "      <td>0.033311</td>\n",
              "      <td>-0.267681</td>\n",
              "      <td>0.506541</td>\n",
              "      <td>0.731719</td>\n",
              "    </tr>\n",
              "  </tbody>\n",
              "</table>\n",
              "</div>"
            ],
            "text/plain": [
              "                   A         B         C         D\n",
              "2021-04-30  0.039625  0.556187  1.249135 -1.041226\n",
              "2021-05-01  0.112171  1.171325  0.907151  0.133969\n",
              "2021-05-02 -1.576167 -1.342843 -0.812220  0.421481\n",
              "2021-05-03  0.702360  1.201718  0.056681  1.460764\n",
              "2021-05-04  0.378396  0.914872  0.013026  0.800033\n",
              "2021-05-05  0.033311 -0.267681  0.506541  0.731719"
            ]
          },
          "metadata": {
            "tags": []
          },
          "execution_count": 39
        }
      ]
    },
    {
      "cell_type": "code",
      "metadata": {
        "colab": {
          "base_uri": "https://localhost:8080/",
          "height": 166
        },
        "id": "_u6mbl_4XzY4",
        "outputId": "a5828177-f736-4fca-ad0a-26cbf721c929"
      },
      "source": [
        "df.T"
      ],
      "execution_count": 42,
      "outputs": [
        {
          "output_type": "execute_result",
          "data": {
            "text/html": [
              "<div>\n",
              "<style scoped>\n",
              "    .dataframe tbody tr th:only-of-type {\n",
              "        vertical-align: middle;\n",
              "    }\n",
              "\n",
              "    .dataframe tbody tr th {\n",
              "        vertical-align: top;\n",
              "    }\n",
              "\n",
              "    .dataframe thead th {\n",
              "        text-align: right;\n",
              "    }\n",
              "</style>\n",
              "<table border=\"1\" class=\"dataframe\">\n",
              "  <thead>\n",
              "    <tr style=\"text-align: right;\">\n",
              "      <th></th>\n",
              "      <th>2021-04-30</th>\n",
              "      <th>2021-05-01</th>\n",
              "      <th>2021-05-02</th>\n",
              "      <th>2021-05-03</th>\n",
              "      <th>2021-05-04</th>\n",
              "      <th>2021-05-05</th>\n",
              "    </tr>\n",
              "  </thead>\n",
              "  <tbody>\n",
              "    <tr>\n",
              "      <th>A</th>\n",
              "      <td>0.039625</td>\n",
              "      <td>0.112171</td>\n",
              "      <td>-1.576167</td>\n",
              "      <td>0.702360</td>\n",
              "      <td>0.378396</td>\n",
              "      <td>0.033311</td>\n",
              "    </tr>\n",
              "    <tr>\n",
              "      <th>B</th>\n",
              "      <td>0.556187</td>\n",
              "      <td>1.171325</td>\n",
              "      <td>-1.342843</td>\n",
              "      <td>1.201718</td>\n",
              "      <td>0.914872</td>\n",
              "      <td>-0.267681</td>\n",
              "    </tr>\n",
              "    <tr>\n",
              "      <th>C</th>\n",
              "      <td>1.249135</td>\n",
              "      <td>0.907151</td>\n",
              "      <td>-0.812220</td>\n",
              "      <td>0.056681</td>\n",
              "      <td>0.013026</td>\n",
              "      <td>0.506541</td>\n",
              "    </tr>\n",
              "    <tr>\n",
              "      <th>D</th>\n",
              "      <td>-1.041226</td>\n",
              "      <td>0.133969</td>\n",
              "      <td>0.421481</td>\n",
              "      <td>1.460764</td>\n",
              "      <td>0.800033</td>\n",
              "      <td>0.731719</td>\n",
              "    </tr>\n",
              "  </tbody>\n",
              "</table>\n",
              "</div>"
            ],
            "text/plain": [
              "   2021-04-30  2021-05-01  2021-05-02  2021-05-03  2021-05-04  2021-05-05\n",
              "A    0.039625    0.112171   -1.576167    0.702360    0.378396    0.033311\n",
              "B    0.556187    1.171325   -1.342843    1.201718    0.914872   -0.267681\n",
              "C    1.249135    0.907151   -0.812220    0.056681    0.013026    0.506541\n",
              "D   -1.041226    0.133969    0.421481    1.460764    0.800033    0.731719"
            ]
          },
          "metadata": {
            "tags": []
          },
          "execution_count": 42
        }
      ]
    },
    {
      "cell_type": "code",
      "metadata": {
        "colab": {
          "base_uri": "https://localhost:8080/",
          "height": 225
        },
        "id": "IRpoS3TVX3AR",
        "outputId": "234671c3-37bf-496c-de9e-554a2847ed2a"
      },
      "source": [
        "df"
      ],
      "execution_count": 43,
      "outputs": [
        {
          "output_type": "execute_result",
          "data": {
            "text/html": [
              "<div>\n",
              "<style scoped>\n",
              "    .dataframe tbody tr th:only-of-type {\n",
              "        vertical-align: middle;\n",
              "    }\n",
              "\n",
              "    .dataframe tbody tr th {\n",
              "        vertical-align: top;\n",
              "    }\n",
              "\n",
              "    .dataframe thead th {\n",
              "        text-align: right;\n",
              "    }\n",
              "</style>\n",
              "<table border=\"1\" class=\"dataframe\">\n",
              "  <thead>\n",
              "    <tr style=\"text-align: right;\">\n",
              "      <th></th>\n",
              "      <th>A</th>\n",
              "      <th>B</th>\n",
              "      <th>C</th>\n",
              "      <th>D</th>\n",
              "    </tr>\n",
              "  </thead>\n",
              "  <tbody>\n",
              "    <tr>\n",
              "      <th>2021-04-30</th>\n",
              "      <td>0.039625</td>\n",
              "      <td>0.556187</td>\n",
              "      <td>1.249135</td>\n",
              "      <td>-1.041226</td>\n",
              "    </tr>\n",
              "    <tr>\n",
              "      <th>2021-05-01</th>\n",
              "      <td>0.112171</td>\n",
              "      <td>1.171325</td>\n",
              "      <td>0.907151</td>\n",
              "      <td>0.133969</td>\n",
              "    </tr>\n",
              "    <tr>\n",
              "      <th>2021-05-02</th>\n",
              "      <td>-1.576167</td>\n",
              "      <td>-1.342843</td>\n",
              "      <td>-0.812220</td>\n",
              "      <td>0.421481</td>\n",
              "    </tr>\n",
              "    <tr>\n",
              "      <th>2021-05-03</th>\n",
              "      <td>0.702360</td>\n",
              "      <td>1.201718</td>\n",
              "      <td>0.056681</td>\n",
              "      <td>1.460764</td>\n",
              "    </tr>\n",
              "    <tr>\n",
              "      <th>2021-05-04</th>\n",
              "      <td>0.378396</td>\n",
              "      <td>0.914872</td>\n",
              "      <td>0.013026</td>\n",
              "      <td>0.800033</td>\n",
              "    </tr>\n",
              "    <tr>\n",
              "      <th>2021-05-05</th>\n",
              "      <td>0.033311</td>\n",
              "      <td>-0.267681</td>\n",
              "      <td>0.506541</td>\n",
              "      <td>0.731719</td>\n",
              "    </tr>\n",
              "  </tbody>\n",
              "</table>\n",
              "</div>"
            ],
            "text/plain": [
              "                   A         B         C         D\n",
              "2021-04-30  0.039625  0.556187  1.249135 -1.041226\n",
              "2021-05-01  0.112171  1.171325  0.907151  0.133969\n",
              "2021-05-02 -1.576167 -1.342843 -0.812220  0.421481\n",
              "2021-05-03  0.702360  1.201718  0.056681  1.460764\n",
              "2021-05-04  0.378396  0.914872  0.013026  0.800033\n",
              "2021-05-05  0.033311 -0.267681  0.506541  0.731719"
            ]
          },
          "metadata": {
            "tags": []
          },
          "execution_count": 43
        }
      ]
    },
    {
      "cell_type": "code",
      "metadata": {
        "colab": {
          "base_uri": "https://localhost:8080/",
          "height": 225
        },
        "id": "ywebE3LIYLAf",
        "outputId": "f01f0f52-e76c-4855-bed7-e224cd6265f7"
      },
      "source": [
        "df.sort_index(axis=1, ascending=False)"
      ],
      "execution_count": 46,
      "outputs": [
        {
          "output_type": "execute_result",
          "data": {
            "text/html": [
              "<div>\n",
              "<style scoped>\n",
              "    .dataframe tbody tr th:only-of-type {\n",
              "        vertical-align: middle;\n",
              "    }\n",
              "\n",
              "    .dataframe tbody tr th {\n",
              "        vertical-align: top;\n",
              "    }\n",
              "\n",
              "    .dataframe thead th {\n",
              "        text-align: right;\n",
              "    }\n",
              "</style>\n",
              "<table border=\"1\" class=\"dataframe\">\n",
              "  <thead>\n",
              "    <tr style=\"text-align: right;\">\n",
              "      <th></th>\n",
              "      <th>D</th>\n",
              "      <th>C</th>\n",
              "      <th>B</th>\n",
              "      <th>A</th>\n",
              "    </tr>\n",
              "  </thead>\n",
              "  <tbody>\n",
              "    <tr>\n",
              "      <th>2021-04-30</th>\n",
              "      <td>-1.041226</td>\n",
              "      <td>1.249135</td>\n",
              "      <td>0.556187</td>\n",
              "      <td>0.039625</td>\n",
              "    </tr>\n",
              "    <tr>\n",
              "      <th>2021-05-01</th>\n",
              "      <td>0.133969</td>\n",
              "      <td>0.907151</td>\n",
              "      <td>1.171325</td>\n",
              "      <td>0.112171</td>\n",
              "    </tr>\n",
              "    <tr>\n",
              "      <th>2021-05-02</th>\n",
              "      <td>0.421481</td>\n",
              "      <td>-0.812220</td>\n",
              "      <td>-1.342843</td>\n",
              "      <td>-1.576167</td>\n",
              "    </tr>\n",
              "    <tr>\n",
              "      <th>2021-05-03</th>\n",
              "      <td>1.460764</td>\n",
              "      <td>0.056681</td>\n",
              "      <td>1.201718</td>\n",
              "      <td>0.702360</td>\n",
              "    </tr>\n",
              "    <tr>\n",
              "      <th>2021-05-04</th>\n",
              "      <td>0.800033</td>\n",
              "      <td>0.013026</td>\n",
              "      <td>0.914872</td>\n",
              "      <td>0.378396</td>\n",
              "    </tr>\n",
              "    <tr>\n",
              "      <th>2021-05-05</th>\n",
              "      <td>0.731719</td>\n",
              "      <td>0.506541</td>\n",
              "      <td>-0.267681</td>\n",
              "      <td>0.033311</td>\n",
              "    </tr>\n",
              "  </tbody>\n",
              "</table>\n",
              "</div>"
            ],
            "text/plain": [
              "                   D         C         B         A\n",
              "2021-04-30 -1.041226  1.249135  0.556187  0.039625\n",
              "2021-05-01  0.133969  0.907151  1.171325  0.112171\n",
              "2021-05-02  0.421481 -0.812220 -1.342843 -1.576167\n",
              "2021-05-03  1.460764  0.056681  1.201718  0.702360\n",
              "2021-05-04  0.800033  0.013026  0.914872  0.378396\n",
              "2021-05-05  0.731719  0.506541 -0.267681  0.033311"
            ]
          },
          "metadata": {
            "tags": []
          },
          "execution_count": 46
        }
      ]
    },
    {
      "cell_type": "code",
      "metadata": {
        "colab": {
          "base_uri": "https://localhost:8080/",
          "height": 225
        },
        "id": "-CSmFZIBYXGh",
        "outputId": "2f64f6a5-f02c-49db-9221-cf4e495953d8"
      },
      "source": [
        "df.sort_index(axis=1, ascending=True)"
      ],
      "execution_count": 47,
      "outputs": [
        {
          "output_type": "execute_result",
          "data": {
            "text/html": [
              "<div>\n",
              "<style scoped>\n",
              "    .dataframe tbody tr th:only-of-type {\n",
              "        vertical-align: middle;\n",
              "    }\n",
              "\n",
              "    .dataframe tbody tr th {\n",
              "        vertical-align: top;\n",
              "    }\n",
              "\n",
              "    .dataframe thead th {\n",
              "        text-align: right;\n",
              "    }\n",
              "</style>\n",
              "<table border=\"1\" class=\"dataframe\">\n",
              "  <thead>\n",
              "    <tr style=\"text-align: right;\">\n",
              "      <th></th>\n",
              "      <th>A</th>\n",
              "      <th>B</th>\n",
              "      <th>C</th>\n",
              "      <th>D</th>\n",
              "    </tr>\n",
              "  </thead>\n",
              "  <tbody>\n",
              "    <tr>\n",
              "      <th>2021-04-30</th>\n",
              "      <td>0.039625</td>\n",
              "      <td>0.556187</td>\n",
              "      <td>1.249135</td>\n",
              "      <td>-1.041226</td>\n",
              "    </tr>\n",
              "    <tr>\n",
              "      <th>2021-05-01</th>\n",
              "      <td>0.112171</td>\n",
              "      <td>1.171325</td>\n",
              "      <td>0.907151</td>\n",
              "      <td>0.133969</td>\n",
              "    </tr>\n",
              "    <tr>\n",
              "      <th>2021-05-02</th>\n",
              "      <td>-1.576167</td>\n",
              "      <td>-1.342843</td>\n",
              "      <td>-0.812220</td>\n",
              "      <td>0.421481</td>\n",
              "    </tr>\n",
              "    <tr>\n",
              "      <th>2021-05-03</th>\n",
              "      <td>0.702360</td>\n",
              "      <td>1.201718</td>\n",
              "      <td>0.056681</td>\n",
              "      <td>1.460764</td>\n",
              "    </tr>\n",
              "    <tr>\n",
              "      <th>2021-05-04</th>\n",
              "      <td>0.378396</td>\n",
              "      <td>0.914872</td>\n",
              "      <td>0.013026</td>\n",
              "      <td>0.800033</td>\n",
              "    </tr>\n",
              "    <tr>\n",
              "      <th>2021-05-05</th>\n",
              "      <td>0.033311</td>\n",
              "      <td>-0.267681</td>\n",
              "      <td>0.506541</td>\n",
              "      <td>0.731719</td>\n",
              "    </tr>\n",
              "  </tbody>\n",
              "</table>\n",
              "</div>"
            ],
            "text/plain": [
              "                   A         B         C         D\n",
              "2021-04-30  0.039625  0.556187  1.249135 -1.041226\n",
              "2021-05-01  0.112171  1.171325  0.907151  0.133969\n",
              "2021-05-02 -1.576167 -1.342843 -0.812220  0.421481\n",
              "2021-05-03  0.702360  1.201718  0.056681  1.460764\n",
              "2021-05-04  0.378396  0.914872  0.013026  0.800033\n",
              "2021-05-05  0.033311 -0.267681  0.506541  0.731719"
            ]
          },
          "metadata": {
            "tags": []
          },
          "execution_count": 47
        }
      ]
    },
    {
      "cell_type": "code",
      "metadata": {
        "colab": {
          "base_uri": "https://localhost:8080/",
          "height": 225
        },
        "id": "zKUHn_sfZFkJ",
        "outputId": "a86166bb-4bd3-448d-fe15-c681a884b348"
      },
      "source": [
        "df.sort_index(axis=0, ascending=False)"
      ],
      "execution_count": 48,
      "outputs": [
        {
          "output_type": "execute_result",
          "data": {
            "text/html": [
              "<div>\n",
              "<style scoped>\n",
              "    .dataframe tbody tr th:only-of-type {\n",
              "        vertical-align: middle;\n",
              "    }\n",
              "\n",
              "    .dataframe tbody tr th {\n",
              "        vertical-align: top;\n",
              "    }\n",
              "\n",
              "    .dataframe thead th {\n",
              "        text-align: right;\n",
              "    }\n",
              "</style>\n",
              "<table border=\"1\" class=\"dataframe\">\n",
              "  <thead>\n",
              "    <tr style=\"text-align: right;\">\n",
              "      <th></th>\n",
              "      <th>A</th>\n",
              "      <th>B</th>\n",
              "      <th>C</th>\n",
              "      <th>D</th>\n",
              "    </tr>\n",
              "  </thead>\n",
              "  <tbody>\n",
              "    <tr>\n",
              "      <th>2021-05-05</th>\n",
              "      <td>0.033311</td>\n",
              "      <td>-0.267681</td>\n",
              "      <td>0.506541</td>\n",
              "      <td>0.731719</td>\n",
              "    </tr>\n",
              "    <tr>\n",
              "      <th>2021-05-04</th>\n",
              "      <td>0.378396</td>\n",
              "      <td>0.914872</td>\n",
              "      <td>0.013026</td>\n",
              "      <td>0.800033</td>\n",
              "    </tr>\n",
              "    <tr>\n",
              "      <th>2021-05-03</th>\n",
              "      <td>0.702360</td>\n",
              "      <td>1.201718</td>\n",
              "      <td>0.056681</td>\n",
              "      <td>1.460764</td>\n",
              "    </tr>\n",
              "    <tr>\n",
              "      <th>2021-05-02</th>\n",
              "      <td>-1.576167</td>\n",
              "      <td>-1.342843</td>\n",
              "      <td>-0.812220</td>\n",
              "      <td>0.421481</td>\n",
              "    </tr>\n",
              "    <tr>\n",
              "      <th>2021-05-01</th>\n",
              "      <td>0.112171</td>\n",
              "      <td>1.171325</td>\n",
              "      <td>0.907151</td>\n",
              "      <td>0.133969</td>\n",
              "    </tr>\n",
              "    <tr>\n",
              "      <th>2021-04-30</th>\n",
              "      <td>0.039625</td>\n",
              "      <td>0.556187</td>\n",
              "      <td>1.249135</td>\n",
              "      <td>-1.041226</td>\n",
              "    </tr>\n",
              "  </tbody>\n",
              "</table>\n",
              "</div>"
            ],
            "text/plain": [
              "                   A         B         C         D\n",
              "2021-05-05  0.033311 -0.267681  0.506541  0.731719\n",
              "2021-05-04  0.378396  0.914872  0.013026  0.800033\n",
              "2021-05-03  0.702360  1.201718  0.056681  1.460764\n",
              "2021-05-02 -1.576167 -1.342843 -0.812220  0.421481\n",
              "2021-05-01  0.112171  1.171325  0.907151  0.133969\n",
              "2021-04-30  0.039625  0.556187  1.249135 -1.041226"
            ]
          },
          "metadata": {
            "tags": []
          },
          "execution_count": 48
        }
      ]
    },
    {
      "cell_type": "code",
      "metadata": {
        "colab": {
          "base_uri": "https://localhost:8080/",
          "height": 225
        },
        "id": "v0HVK75iZHcD",
        "outputId": "738a7ec6-daea-42f1-ba1a-69743ebbe53d"
      },
      "source": [
        "df"
      ],
      "execution_count": 51,
      "outputs": [
        {
          "output_type": "execute_result",
          "data": {
            "text/html": [
              "<div>\n",
              "<style scoped>\n",
              "    .dataframe tbody tr th:only-of-type {\n",
              "        vertical-align: middle;\n",
              "    }\n",
              "\n",
              "    .dataframe tbody tr th {\n",
              "        vertical-align: top;\n",
              "    }\n",
              "\n",
              "    .dataframe thead th {\n",
              "        text-align: right;\n",
              "    }\n",
              "</style>\n",
              "<table border=\"1\" class=\"dataframe\">\n",
              "  <thead>\n",
              "    <tr style=\"text-align: right;\">\n",
              "      <th></th>\n",
              "      <th>A</th>\n",
              "      <th>B</th>\n",
              "      <th>C</th>\n",
              "      <th>D</th>\n",
              "    </tr>\n",
              "  </thead>\n",
              "  <tbody>\n",
              "    <tr>\n",
              "      <th>2021-04-30</th>\n",
              "      <td>0.039625</td>\n",
              "      <td>0.556187</td>\n",
              "      <td>1.249135</td>\n",
              "      <td>-1.041226</td>\n",
              "    </tr>\n",
              "    <tr>\n",
              "      <th>2021-05-01</th>\n",
              "      <td>0.112171</td>\n",
              "      <td>1.171325</td>\n",
              "      <td>0.907151</td>\n",
              "      <td>0.133969</td>\n",
              "    </tr>\n",
              "    <tr>\n",
              "      <th>2021-05-02</th>\n",
              "      <td>-1.576167</td>\n",
              "      <td>-1.342843</td>\n",
              "      <td>-0.812220</td>\n",
              "      <td>0.421481</td>\n",
              "    </tr>\n",
              "    <tr>\n",
              "      <th>2021-05-03</th>\n",
              "      <td>0.702360</td>\n",
              "      <td>1.201718</td>\n",
              "      <td>0.056681</td>\n",
              "      <td>1.460764</td>\n",
              "    </tr>\n",
              "    <tr>\n",
              "      <th>2021-05-04</th>\n",
              "      <td>0.378396</td>\n",
              "      <td>0.914872</td>\n",
              "      <td>0.013026</td>\n",
              "      <td>0.800033</td>\n",
              "    </tr>\n",
              "    <tr>\n",
              "      <th>2021-05-05</th>\n",
              "      <td>0.033311</td>\n",
              "      <td>-0.267681</td>\n",
              "      <td>0.506541</td>\n",
              "      <td>0.731719</td>\n",
              "    </tr>\n",
              "  </tbody>\n",
              "</table>\n",
              "</div>"
            ],
            "text/plain": [
              "                   A         B         C         D\n",
              "2021-04-30  0.039625  0.556187  1.249135 -1.041226\n",
              "2021-05-01  0.112171  1.171325  0.907151  0.133969\n",
              "2021-05-02 -1.576167 -1.342843 -0.812220  0.421481\n",
              "2021-05-03  0.702360  1.201718  0.056681  1.460764\n",
              "2021-05-04  0.378396  0.914872  0.013026  0.800033\n",
              "2021-05-05  0.033311 -0.267681  0.506541  0.731719"
            ]
          },
          "metadata": {
            "tags": []
          },
          "execution_count": 51
        }
      ]
    },
    {
      "cell_type": "code",
      "metadata": {
        "colab": {
          "base_uri": "https://localhost:8080/",
          "height": 292
        },
        "id": "Z_8Bi5WCZZW1",
        "outputId": "15c5485a-ed05-4372-8aca-3c4749585165"
      },
      "source": [
        "df.sort"
      ],
      "execution_count": 52,
      "outputs": [
        {
          "output_type": "error",
          "ename": "AttributeError",
          "evalue": "ignored",
          "traceback": [
            "\u001b[0;31m---------------------------------------------------------------------------\u001b[0m",
            "\u001b[0;31mAttributeError\u001b[0m                            Traceback (most recent call last)",
            "\u001b[0;32m<ipython-input-52-f11482b79f40>\u001b[0m in \u001b[0;36m<module>\u001b[0;34m()\u001b[0m\n\u001b[0;32m----> 1\u001b[0;31m \u001b[0mdf\u001b[0m\u001b[0;34m.\u001b[0m\u001b[0msort\u001b[0m\u001b[0;34m\u001b[0m\u001b[0;34m\u001b[0m\u001b[0m\n\u001b[0m",
            "\u001b[0;32m/usr/local/lib/python3.7/dist-packages/pandas/core/generic.py\u001b[0m in \u001b[0;36m__getattr__\u001b[0;34m(self, name)\u001b[0m\n\u001b[1;32m   5139\u001b[0m             \u001b[0;32mif\u001b[0m \u001b[0mself\u001b[0m\u001b[0;34m.\u001b[0m\u001b[0m_info_axis\u001b[0m\u001b[0;34m.\u001b[0m\u001b[0m_can_hold_identifiers_and_holds_name\u001b[0m\u001b[0;34m(\u001b[0m\u001b[0mname\u001b[0m\u001b[0;34m)\u001b[0m\u001b[0;34m:\u001b[0m\u001b[0;34m\u001b[0m\u001b[0;34m\u001b[0m\u001b[0m\n\u001b[1;32m   5140\u001b[0m                 \u001b[0;32mreturn\u001b[0m \u001b[0mself\u001b[0m\u001b[0;34m[\u001b[0m\u001b[0mname\u001b[0m\u001b[0;34m]\u001b[0m\u001b[0;34m\u001b[0m\u001b[0;34m\u001b[0m\u001b[0m\n\u001b[0;32m-> 5141\u001b[0;31m             \u001b[0;32mreturn\u001b[0m \u001b[0mobject\u001b[0m\u001b[0;34m.\u001b[0m\u001b[0m__getattribute__\u001b[0m\u001b[0;34m(\u001b[0m\u001b[0mself\u001b[0m\u001b[0;34m,\u001b[0m \u001b[0mname\u001b[0m\u001b[0;34m)\u001b[0m\u001b[0;34m\u001b[0m\u001b[0;34m\u001b[0m\u001b[0m\n\u001b[0m\u001b[1;32m   5142\u001b[0m \u001b[0;34m\u001b[0m\u001b[0m\n\u001b[1;32m   5143\u001b[0m     \u001b[0;32mdef\u001b[0m \u001b[0m__setattr__\u001b[0m\u001b[0;34m(\u001b[0m\u001b[0mself\u001b[0m\u001b[0;34m,\u001b[0m \u001b[0mname\u001b[0m\u001b[0;34m:\u001b[0m \u001b[0mstr\u001b[0m\u001b[0;34m,\u001b[0m \u001b[0mvalue\u001b[0m\u001b[0;34m)\u001b[0m \u001b[0;34m->\u001b[0m \u001b[0;32mNone\u001b[0m\u001b[0;34m:\u001b[0m\u001b[0;34m\u001b[0m\u001b[0;34m\u001b[0m\u001b[0m\n",
            "\u001b[0;31mAttributeError\u001b[0m: 'DataFrame' object has no attribute 'sort'"
          ]
        }
      ]
    },
    {
      "cell_type": "code",
      "metadata": {
        "id": "5QmLttKJZg9U"
      },
      "source": [
        ""
      ],
      "execution_count": null,
      "outputs": []
    }
  ]
}