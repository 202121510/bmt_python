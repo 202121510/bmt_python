{
  "nbformat": 4,
  "nbformat_minor": 0,
  "metadata": {
    "colab": {
      "name": "3주차수업의 사본",
      "provenance": [],
      "authorship_tag": "ABX9TyPGoIqMtcu5zkxeL4YoOH8b",
      "include_colab_link": true
    },
    "kernelspec": {
      "name": "python3",
      "display_name": "Python 3"
    },
    "language_info": {
      "name": "python"
    }
  },
  "cells": [
    {
      "cell_type": "markdown",
      "metadata": {
        "id": "view-in-github",
        "colab_type": "text"
      },
      "source": [
        "<a href=\"https://colab.research.google.com/github/202121510/bmt_python/blob/main/3%EC%A3%BC%EC%B0%A8%EC%88%98%EC%97%85%EC%9D%98_%EC%82%AC%EB%B3%B8.ipynb\" target=\"_parent\"><img src=\"https://colab.research.google.com/assets/colab-badge.svg\" alt=\"Open In Colab\"/></a>"
      ]
    },
    {
      "cell_type": "code",
      "metadata": {
        "id": "xTnq1P8jJ8bE"
      },
      "source": [
        "from random import randint\n",
        "\n",
        "dice = randint(1,6)\n",
        "\n",
        "\n",
        "print(dice)"
      ],
      "execution_count": null,
      "outputs": []
    },
    {
      "cell_type": "code",
      "metadata": {
        "id": "SfSYh0whMSyO"
      },
      "source": [
        "import math\n",
        "\n",
        "math.sin(math.pi / 6)"
      ],
      "execution_count": null,
      "outputs": []
    },
    {
      "cell_type": "code",
      "metadata": {
        "id": "_5VkrkZCZmUR"
      },
      "source": [
        "name = '부산기계공고'\n",
        "\n",
        "for i in name:\n",
        "  print(i)"
      ],
      "execution_count": null,
      "outputs": []
    },
    {
      "cell_type": "code",
      "metadata": {
        "id": "JW-H4MSHZmQJ"
      },
      "source": [
        "for i in [0, 1, 2, 3]:\n",
        "  print(i ** 2)\n",
        "\n",
        "for i in [0, 1, 2, 3]:\n",
        "  print(i ** 2, end=' ')"
      ],
      "execution_count": null,
      "outputs": []
    },
    {
      "cell_type": "code",
      "metadata": {
        "id": "ShjXbCEka9oJ"
      },
      "source": [
        "for i in[0, 1, 2, 3]:\n",
        "  print(i ** 2)"
      ],
      "execution_count": null,
      "outputs": []
    },
    {
      "cell_type": "code",
      "metadata": {
        "colab": {
          "base_uri": "https://localhost:8080/"
        },
        "id": "KVD9qy_8b49w",
        "outputId": "e8c42c38-dacf-4592-e312-0fc643235278"
      },
      "source": [
        "for i in range(10):\n",
        "  print(f'{i}의 제곱근 : {1**2}')"
      ],
      "execution_count": null,
      "outputs": [
        {
          "output_type": "stream",
          "text": [
            "0의 제곱근 : 1\n",
            "1의 제곱근 : 1\n",
            "2의 제곱근 : 1\n",
            "3의 제곱근 : 1\n",
            "4의 제곱근 : 1\n",
            "5의 제곱근 : 1\n",
            "6의 제곱근 : 1\n",
            "7의 제곱근 : 1\n",
            "8의 제곱근 : 1\n",
            "9의 제곱근 : 1\n"
          ],
          "name": "stdout"
        }
      ]
    },
    {
      "cell_type": "code",
      "metadata": {
        "colab": {
          "base_uri": "https://localhost:8080/"
        },
        "id": "S1zN0UjzcN5n",
        "outputId": "7461d669-12a1-4a33-8f49-a89c5c44f829"
      },
      "source": [
        "type(range(10))"
      ],
      "execution_count": null,
      "outputs": [
        {
          "output_type": "execute_result",
          "data": {
            "text/plain": [
              "range"
            ]
          },
          "metadata": {
            "tags": []
          },
          "execution_count": 29
        }
      ]
    },
    {
      "cell_type": "code",
      "metadata": {
        "colab": {
          "base_uri": "https://localhost:8080/"
        },
        "id": "mCuv0HDocOJX",
        "outputId": "51b22063-5455-4262-cff7-811d44c89d8a"
      },
      "source": [
        "for i in range(1, 10, 5):\n",
        "  print(i**2)"
      ],
      "execution_count": null,
      "outputs": [
        {
          "output_type": "stream",
          "text": [
            "1\n",
            "36\n"
          ],
          "name": "stdout"
        }
      ]
    },
    {
      "cell_type": "code",
      "metadata": {
        "colab": {
          "base_uri": "https://localhost:8080/"
        },
        "id": "6qX1R1CbcOaf",
        "outputId": "3a8ab961-92d1-4d24-867c-a00729321454"
      },
      "source": [
        "if 10 > 0:\n",
        "  print('안녕하세요')"
      ],
      "execution_count": null,
      "outputs": [
        {
          "output_type": "stream",
          "text": [
            "안녕하세요\n"
          ],
          "name": "stdout"
        }
      ]
    },
    {
      "cell_type": "code",
      "metadata": {
        "colab": {
          "base_uri": "https://localhost:8080/"
        },
        "id": "kQcRZCpUdrU_",
        "outputId": "8b485e31-b618-4546-ee4b-751c85d1ec3b"
      },
      "source": [
        "for _ in range(2):\n",
        "  print('전기과 화이팅~~~')"
      ],
      "execution_count": null,
      "outputs": [
        {
          "output_type": "stream",
          "text": [
            "전기과 화이팅~~~\n",
            "전기과 화이팅~~~\n"
          ],
          "name": "stdout"
        }
      ]
    },
    {
      "cell_type": "code",
      "metadata": {
        "colab": {
          "base_uri": "https://localhost:8080/"
        },
        "id": "204PrWibdrgn",
        "outputId": "a770e08e-3371-4c12-b067-045aac223a6a"
      },
      "source": [
        "if 10 != 0 and 5 % 2 == 1:\n",
        "  print('안녕하세요')"
      ],
      "execution_count": null,
      "outputs": [
        {
          "output_type": "stream",
          "text": [
            "안녕하세요\n"
          ],
          "name": "stdout"
        }
      ]
    },
    {
      "cell_type": "code",
      "metadata": {
        "colab": {
          "base_uri": "https://localhost:8080/"
        },
        "id": "_TPN8zjfeLmW",
        "outputId": "2a90adc1-7709-4456-c495-552f7cdd8103"
      },
      "source": [
        "passwd = int(input('비밀번호 4자리 숫자 입력'))\n",
        "\n",
        "if passwd == 2021:\n",
        "  print('비밀번호가 일치')\n",
        "elif passwd == 2020:\n",
        "  print('이 숫자에 한 개만 더해주세요')\n",
        "else :\n",
        "  print('다시 시작 해주세요.')"
      ],
      "execution_count": null,
      "outputs": [
        {
          "output_type": "stream",
          "text": [
            "비밀번호 4자리 숫자 입력2020\n",
            "이 숫자에 한 개만 더해주세요\n"
          ],
          "name": "stdout"
        }
      ]
    },
    {
      "cell_type": "code",
      "metadata": {
        "colab": {
          "base_uri": "https://localhost:8080/"
        },
        "id": "438zeh-DeL12",
        "outputId": "4d4e0456-33c6-4a53-f88e-25b3f4f512a4"
      },
      "source": [
        "for i in range(1, 100000):\n",
        "  if i == 2020:\n",
        "    print('비밀번호가 일치')\n",
        "    print(f'비밀번호는 {i}입니다.')"
      ],
      "execution_count": null,
      "outputs": [
        {
          "output_type": "stream",
          "text": [
            "비밀번호가 일치\n",
            "비밀번호는 2020입니다.\n"
          ],
          "name": "stdout"
        }
      ]
    },
    {
      "cell_type": "code",
      "metadata": {
        "id": "KMSRywM6gRte"
      },
      "source": [
        "print('[ 소름끼치도록 놀라운 심리테스트 ]')\n",
        "\n",
        "menu = input('당신이 좋아하는 음식을 입력해주세요 : ')\n",
        "\n",
        "if menu == '사과':\n",
        "  print(f'당신은 {menu}을 좋아하는 사람입니다.')\n",
        "elif menu == '바나나':\n",
        "  print(f'당신은 {menu}을 좋아하는 사람입니다.')\n",
        "elif menu == '멜론':\n",
        "  print(f'당신은 {menu}을 좋아하는 사람입니다.')\n",
        "else :\n",
        "  print(f'당신은 사과, 바나나, 멜론을 좋아하지 않는 사람입니다.')"
      ],
      "execution_count": null,
      "outputs": []
    },
    {
      "cell_type": "code",
      "metadata": {
        "id": "WO8Bokzag0gF"
      },
      "source": [
        ""
      ],
      "execution_count": null,
      "outputs": []
    }
  ]
}