{
  "nbformat": 4,
  "nbformat_minor": 0,
  "metadata": {
    "colab": {
      "name": "21510_11주차실습.ipynb",
      "provenance": [],
      "collapsed_sections": [],
      "authorship_tag": "ABX9TyPpx/9xyHH+jm5QkgiV/6Uw",
      "include_colab_link": true
    },
    "kernelspec": {
      "name": "python3",
      "display_name": "Python 3"
    },
    "language_info": {
      "name": "python"
    }
  },
  "cells": [
    {
      "cell_type": "markdown",
      "metadata": {
        "id": "view-in-github",
        "colab_type": "text"
      },
      "source": [
        "<a href=\"https://colab.research.google.com/github/202121510/bmt_python/blob/main/21510_11%EC%A3%BC%EC%B0%A8%EC%8B%A4%EC%8A%B5.ipynb\" target=\"_parent\"><img src=\"https://colab.research.google.com/assets/colab-badge.svg\" alt=\"Open In Colab\"/></a>"
      ]
    },
    {
      "cell_type": "code",
      "metadata": {
        "id": "5GlqIlo7QlXN"
      },
      "source": [
        "import pandas as pd\n",
        "import numpy as np\n",
        "import matplotlib.pyplot as plt"
      ],
      "execution_count": 1,
      "outputs": []
    },
    {
      "cell_type": "code",
      "metadata": {
        "colab": {
          "base_uri": "https://localhost:8080/"
        },
        "id": "wO1z1LOTQoFr",
        "outputId": "31cecb53-57e4-4cf2-aa2e-311231237be0"
      },
      "source": [
        "dates = pd.date_range('20210514', periods=6)\n",
        "dates"
      ],
      "execution_count": 2,
      "outputs": [
        {
          "output_type": "execute_result",
          "data": {
            "text/plain": [
              "DatetimeIndex(['2021-05-14', '2021-05-15', '2021-05-16', '2021-05-17',\n",
              "               '2021-05-18', '2021-05-19'],\n",
              "              dtype='datetime64[ns]', freq='D')"
            ]
          },
          "metadata": {
            "tags": []
          },
          "execution_count": 2
        }
      ]
    },
    {
      "cell_type": "code",
      "metadata": {
        "id": "YDj1XtNjQqZ6"
      },
      "source": [
        "df = pd.DataFrame(np.random.randn(6,4), index=dates, columns=list('ABCD'))"
      ],
      "execution_count": 3,
      "outputs": []
    },
    {
      "cell_type": "code",
      "metadata": {
        "colab": {
          "base_uri": "https://localhost:8080/",
          "height": 225
        },
        "id": "ukT3aMceQtL7",
        "outputId": "e1bff3cc-0251-4a55-8c4e-6e4860895734"
      },
      "source": [
        "df"
      ],
      "execution_count": 4,
      "outputs": [
        {
          "output_type": "execute_result",
          "data": {
            "text/html": [
              "<div>\n",
              "<style scoped>\n",
              "    .dataframe tbody tr th:only-of-type {\n",
              "        vertical-align: middle;\n",
              "    }\n",
              "\n",
              "    .dataframe tbody tr th {\n",
              "        vertical-align: top;\n",
              "    }\n",
              "\n",
              "    .dataframe thead th {\n",
              "        text-align: right;\n",
              "    }\n",
              "</style>\n",
              "<table border=\"1\" class=\"dataframe\">\n",
              "  <thead>\n",
              "    <tr style=\"text-align: right;\">\n",
              "      <th></th>\n",
              "      <th>A</th>\n",
              "      <th>B</th>\n",
              "      <th>C</th>\n",
              "      <th>D</th>\n",
              "    </tr>\n",
              "  </thead>\n",
              "  <tbody>\n",
              "    <tr>\n",
              "      <th>2021-05-14</th>\n",
              "      <td>0.082523</td>\n",
              "      <td>1.641266</td>\n",
              "      <td>0.187098</td>\n",
              "      <td>-0.432049</td>\n",
              "    </tr>\n",
              "    <tr>\n",
              "      <th>2021-05-15</th>\n",
              "      <td>0.812247</td>\n",
              "      <td>-1.512498</td>\n",
              "      <td>0.051605</td>\n",
              "      <td>-0.282829</td>\n",
              "    </tr>\n",
              "    <tr>\n",
              "      <th>2021-05-16</th>\n",
              "      <td>0.421962</td>\n",
              "      <td>-0.542371</td>\n",
              "      <td>-1.075808</td>\n",
              "      <td>-1.709812</td>\n",
              "    </tr>\n",
              "    <tr>\n",
              "      <th>2021-05-17</th>\n",
              "      <td>-2.404524</td>\n",
              "      <td>-0.165074</td>\n",
              "      <td>0.054257</td>\n",
              "      <td>-0.471929</td>\n",
              "    </tr>\n",
              "    <tr>\n",
              "      <th>2021-05-18</th>\n",
              "      <td>0.269655</td>\n",
              "      <td>1.468590</td>\n",
              "      <td>-0.182818</td>\n",
              "      <td>-0.165484</td>\n",
              "    </tr>\n",
              "    <tr>\n",
              "      <th>2021-05-19</th>\n",
              "      <td>0.327786</td>\n",
              "      <td>1.418041</td>\n",
              "      <td>-0.824294</td>\n",
              "      <td>-1.462833</td>\n",
              "    </tr>\n",
              "  </tbody>\n",
              "</table>\n",
              "</div>"
            ],
            "text/plain": [
              "                   A         B         C         D\n",
              "2021-05-14  0.082523  1.641266  0.187098 -0.432049\n",
              "2021-05-15  0.812247 -1.512498  0.051605 -0.282829\n",
              "2021-05-16  0.421962 -0.542371 -1.075808 -1.709812\n",
              "2021-05-17 -2.404524 -0.165074  0.054257 -0.471929\n",
              "2021-05-18  0.269655  1.468590 -0.182818 -0.165484\n",
              "2021-05-19  0.327786  1.418041 -0.824294 -1.462833"
            ]
          },
          "metadata": {
            "tags": []
          },
          "execution_count": 4
        }
      ]
    },
    {
      "cell_type": "code",
      "metadata": {
        "colab": {
          "base_uri": "https://localhost:8080/"
        },
        "id": "SaT_GRlyQvS6",
        "outputId": "4ac30b78-21ab-4560-a267-089144a3b1ce"
      },
      "source": [
        "df.mean(0)"
      ],
      "execution_count": 5,
      "outputs": [
        {
          "output_type": "execute_result",
          "data": {
            "text/plain": [
              "A   -0.081725\n",
              "B    0.384659\n",
              "C   -0.298327\n",
              "D   -0.754156\n",
              "dtype: float64"
            ]
          },
          "metadata": {
            "tags": []
          },
          "execution_count": 5
        }
      ]
    },
    {
      "cell_type": "code",
      "metadata": {
        "colab": {
          "base_uri": "https://localhost:8080/"
        },
        "id": "9puzDXXIQw2a",
        "outputId": "99d10aab-11c8-4543-c100-0185b791cd7d"
      },
      "source": [
        "df.mean(1)"
      ],
      "execution_count": 6,
      "outputs": [
        {
          "output_type": "execute_result",
          "data": {
            "text/plain": [
              "2021-05-14    0.369710\n",
              "2021-05-15   -0.232869\n",
              "2021-05-16   -0.726507\n",
              "2021-05-17   -0.746817\n",
              "2021-05-18    0.347486\n",
              "2021-05-19   -0.135325\n",
              "Freq: D, dtype: float64"
            ]
          },
          "metadata": {
            "tags": []
          },
          "execution_count": 6
        }
      ]
    },
    {
      "cell_type": "code",
      "metadata": {
        "colab": {
          "base_uri": "https://localhost:8080/",
          "height": 225
        },
        "id": "aeaiLpBQQymq",
        "outputId": "752f343a-ca23-41d3-bde0-779a3160cff5"
      },
      "source": [
        "df"
      ],
      "execution_count": 7,
      "outputs": [
        {
          "output_type": "execute_result",
          "data": {
            "text/html": [
              "<div>\n",
              "<style scoped>\n",
              "    .dataframe tbody tr th:only-of-type {\n",
              "        vertical-align: middle;\n",
              "    }\n",
              "\n",
              "    .dataframe tbody tr th {\n",
              "        vertical-align: top;\n",
              "    }\n",
              "\n",
              "    .dataframe thead th {\n",
              "        text-align: right;\n",
              "    }\n",
              "</style>\n",
              "<table border=\"1\" class=\"dataframe\">\n",
              "  <thead>\n",
              "    <tr style=\"text-align: right;\">\n",
              "      <th></th>\n",
              "      <th>A</th>\n",
              "      <th>B</th>\n",
              "      <th>C</th>\n",
              "      <th>D</th>\n",
              "    </tr>\n",
              "  </thead>\n",
              "  <tbody>\n",
              "    <tr>\n",
              "      <th>2021-05-14</th>\n",
              "      <td>0.082523</td>\n",
              "      <td>1.641266</td>\n",
              "      <td>0.187098</td>\n",
              "      <td>-0.432049</td>\n",
              "    </tr>\n",
              "    <tr>\n",
              "      <th>2021-05-15</th>\n",
              "      <td>0.812247</td>\n",
              "      <td>-1.512498</td>\n",
              "      <td>0.051605</td>\n",
              "      <td>-0.282829</td>\n",
              "    </tr>\n",
              "    <tr>\n",
              "      <th>2021-05-16</th>\n",
              "      <td>0.421962</td>\n",
              "      <td>-0.542371</td>\n",
              "      <td>-1.075808</td>\n",
              "      <td>-1.709812</td>\n",
              "    </tr>\n",
              "    <tr>\n",
              "      <th>2021-05-17</th>\n",
              "      <td>-2.404524</td>\n",
              "      <td>-0.165074</td>\n",
              "      <td>0.054257</td>\n",
              "      <td>-0.471929</td>\n",
              "    </tr>\n",
              "    <tr>\n",
              "      <th>2021-05-18</th>\n",
              "      <td>0.269655</td>\n",
              "      <td>1.468590</td>\n",
              "      <td>-0.182818</td>\n",
              "      <td>-0.165484</td>\n",
              "    </tr>\n",
              "    <tr>\n",
              "      <th>2021-05-19</th>\n",
              "      <td>0.327786</td>\n",
              "      <td>1.418041</td>\n",
              "      <td>-0.824294</td>\n",
              "      <td>-1.462833</td>\n",
              "    </tr>\n",
              "  </tbody>\n",
              "</table>\n",
              "</div>"
            ],
            "text/plain": [
              "                   A         B         C         D\n",
              "2021-05-14  0.082523  1.641266  0.187098 -0.432049\n",
              "2021-05-15  0.812247 -1.512498  0.051605 -0.282829\n",
              "2021-05-16  0.421962 -0.542371 -1.075808 -1.709812\n",
              "2021-05-17 -2.404524 -0.165074  0.054257 -0.471929\n",
              "2021-05-18  0.269655  1.468590 -0.182818 -0.165484\n",
              "2021-05-19  0.327786  1.418041 -0.824294 -1.462833"
            ]
          },
          "metadata": {
            "tags": []
          },
          "execution_count": 7
        }
      ]
    },
    {
      "cell_type": "code",
      "metadata": {
        "colab": {
          "base_uri": "https://localhost:8080/",
          "height": 225
        },
        "id": "Yjz6dWklQz7q",
        "outputId": "02f7fc11-110a-4a4e-b833-ba30021998b1"
      },
      "source": [
        "df.apply(np.cumsum,axis = 0)"
      ],
      "execution_count": 8,
      "outputs": [
        {
          "output_type": "execute_result",
          "data": {
            "text/html": [
              "<div>\n",
              "<style scoped>\n",
              "    .dataframe tbody tr th:only-of-type {\n",
              "        vertical-align: middle;\n",
              "    }\n",
              "\n",
              "    .dataframe tbody tr th {\n",
              "        vertical-align: top;\n",
              "    }\n",
              "\n",
              "    .dataframe thead th {\n",
              "        text-align: right;\n",
              "    }\n",
              "</style>\n",
              "<table border=\"1\" class=\"dataframe\">\n",
              "  <thead>\n",
              "    <tr style=\"text-align: right;\">\n",
              "      <th></th>\n",
              "      <th>A</th>\n",
              "      <th>B</th>\n",
              "      <th>C</th>\n",
              "      <th>D</th>\n",
              "    </tr>\n",
              "  </thead>\n",
              "  <tbody>\n",
              "    <tr>\n",
              "      <th>2021-05-14</th>\n",
              "      <td>0.082523</td>\n",
              "      <td>1.641266</td>\n",
              "      <td>0.187098</td>\n",
              "      <td>-0.432049</td>\n",
              "    </tr>\n",
              "    <tr>\n",
              "      <th>2021-05-15</th>\n",
              "      <td>0.894770</td>\n",
              "      <td>0.128768</td>\n",
              "      <td>0.238703</td>\n",
              "      <td>-0.714878</td>\n",
              "    </tr>\n",
              "    <tr>\n",
              "      <th>2021-05-16</th>\n",
              "      <td>1.316732</td>\n",
              "      <td>-0.413602</td>\n",
              "      <td>-0.837105</td>\n",
              "      <td>-2.424690</td>\n",
              "    </tr>\n",
              "    <tr>\n",
              "      <th>2021-05-17</th>\n",
              "      <td>-1.087791</td>\n",
              "      <td>-0.578676</td>\n",
              "      <td>-0.782848</td>\n",
              "      <td>-2.896618</td>\n",
              "    </tr>\n",
              "    <tr>\n",
              "      <th>2021-05-18</th>\n",
              "      <td>-0.818136</td>\n",
              "      <td>0.889913</td>\n",
              "      <td>-0.965665</td>\n",
              "      <td>-3.062102</td>\n",
              "    </tr>\n",
              "    <tr>\n",
              "      <th>2021-05-19</th>\n",
              "      <td>-0.490351</td>\n",
              "      <td>2.307955</td>\n",
              "      <td>-1.789959</td>\n",
              "      <td>-4.524935</td>\n",
              "    </tr>\n",
              "  </tbody>\n",
              "</table>\n",
              "</div>"
            ],
            "text/plain": [
              "                   A         B         C         D\n",
              "2021-05-14  0.082523  1.641266  0.187098 -0.432049\n",
              "2021-05-15  0.894770  0.128768  0.238703 -0.714878\n",
              "2021-05-16  1.316732 -0.413602 -0.837105 -2.424690\n",
              "2021-05-17 -1.087791 -0.578676 -0.782848 -2.896618\n",
              "2021-05-18 -0.818136  0.889913 -0.965665 -3.062102\n",
              "2021-05-19 -0.490351  2.307955 -1.789959 -4.524935"
            ]
          },
          "metadata": {
            "tags": []
          },
          "execution_count": 8
        }
      ]
    },
    {
      "cell_type": "code",
      "metadata": {
        "colab": {
          "base_uri": "https://localhost:8080/"
        },
        "id": "GjMZlwClQ1j6",
        "outputId": "e3cf9866-c6ec-4ed5-a289-cfd8e411ba9f"
      },
      "source": [
        "df.apply(lambda x:x.max() - x.min(), axis = 0)"
      ],
      "execution_count": 9,
      "outputs": [
        {
          "output_type": "execute_result",
          "data": {
            "text/plain": [
              "A    3.216770\n",
              "B    3.153763\n",
              "C    1.262906\n",
              "D    1.544328\n",
              "dtype: float64"
            ]
          },
          "metadata": {
            "tags": []
          },
          "execution_count": 9
        }
      ]
    },
    {
      "cell_type": "code",
      "metadata": {
        "colab": {
          "base_uri": "https://localhost:8080/"
        },
        "id": "aXfM8wr9Q3Pq",
        "outputId": "a7aa7361-333e-4a14-891c-6b4fd8b3f802"
      },
      "source": [
        "s = pd.Series(np.random.randint(1, 6, size =6))\n",
        "s"
      ],
      "execution_count": 10,
      "outputs": [
        {
          "output_type": "execute_result",
          "data": {
            "text/plain": [
              "0    1\n",
              "1    3\n",
              "2    1\n",
              "3    4\n",
              "4    3\n",
              "5    5\n",
              "dtype: int64"
            ]
          },
          "metadata": {
            "tags": []
          },
          "execution_count": 10
        }
      ]
    },
    {
      "cell_type": "code",
      "metadata": {
        "colab": {
          "base_uri": "https://localhost:8080/",
          "height": 343
        },
        "id": "rzrgYNp-Q53q",
        "outputId": "ddb952be-09ce-4db4-9eb8-8f361b8b20ca"
      },
      "source": [
        "df = pd.DataFrame(np.random.randn(10, 4))\n",
        "df"
      ],
      "execution_count": 11,
      "outputs": [
        {
          "output_type": "execute_result",
          "data": {
            "text/html": [
              "<div>\n",
              "<style scoped>\n",
              "    .dataframe tbody tr th:only-of-type {\n",
              "        vertical-align: middle;\n",
              "    }\n",
              "\n",
              "    .dataframe tbody tr th {\n",
              "        vertical-align: top;\n",
              "    }\n",
              "\n",
              "    .dataframe thead th {\n",
              "        text-align: right;\n",
              "    }\n",
              "</style>\n",
              "<table border=\"1\" class=\"dataframe\">\n",
              "  <thead>\n",
              "    <tr style=\"text-align: right;\">\n",
              "      <th></th>\n",
              "      <th>0</th>\n",
              "      <th>1</th>\n",
              "      <th>2</th>\n",
              "      <th>3</th>\n",
              "    </tr>\n",
              "  </thead>\n",
              "  <tbody>\n",
              "    <tr>\n",
              "      <th>0</th>\n",
              "      <td>1.387922</td>\n",
              "      <td>0.995990</td>\n",
              "      <td>0.909327</td>\n",
              "      <td>0.490621</td>\n",
              "    </tr>\n",
              "    <tr>\n",
              "      <th>1</th>\n",
              "      <td>1.267594</td>\n",
              "      <td>0.618650</td>\n",
              "      <td>-1.094187</td>\n",
              "      <td>-0.718383</td>\n",
              "    </tr>\n",
              "    <tr>\n",
              "      <th>2</th>\n",
              "      <td>-0.949972</td>\n",
              "      <td>-0.779347</td>\n",
              "      <td>-0.478082</td>\n",
              "      <td>2.901691</td>\n",
              "    </tr>\n",
              "    <tr>\n",
              "      <th>3</th>\n",
              "      <td>0.024670</td>\n",
              "      <td>0.013981</td>\n",
              "      <td>1.239645</td>\n",
              "      <td>0.669004</td>\n",
              "    </tr>\n",
              "    <tr>\n",
              "      <th>4</th>\n",
              "      <td>-0.499671</td>\n",
              "      <td>-0.510317</td>\n",
              "      <td>-1.718840</td>\n",
              "      <td>0.566848</td>\n",
              "    </tr>\n",
              "    <tr>\n",
              "      <th>5</th>\n",
              "      <td>1.700986</td>\n",
              "      <td>0.590296</td>\n",
              "      <td>-0.248538</td>\n",
              "      <td>-0.188303</td>\n",
              "    </tr>\n",
              "    <tr>\n",
              "      <th>6</th>\n",
              "      <td>0.561014</td>\n",
              "      <td>-1.632639</td>\n",
              "      <td>-0.031471</td>\n",
              "      <td>-0.833057</td>\n",
              "    </tr>\n",
              "    <tr>\n",
              "      <th>7</th>\n",
              "      <td>0.446874</td>\n",
              "      <td>-1.093509</td>\n",
              "      <td>-1.134162</td>\n",
              "      <td>0.903450</td>\n",
              "    </tr>\n",
              "    <tr>\n",
              "      <th>8</th>\n",
              "      <td>-0.471492</td>\n",
              "      <td>-0.769021</td>\n",
              "      <td>-1.376597</td>\n",
              "      <td>-0.014782</td>\n",
              "    </tr>\n",
              "    <tr>\n",
              "      <th>9</th>\n",
              "      <td>0.191026</td>\n",
              "      <td>1.153469</td>\n",
              "      <td>-0.426649</td>\n",
              "      <td>-0.442780</td>\n",
              "    </tr>\n",
              "  </tbody>\n",
              "</table>\n",
              "</div>"
            ],
            "text/plain": [
              "          0         1         2         3\n",
              "0  1.387922  0.995990  0.909327  0.490621\n",
              "1  1.267594  0.618650 -1.094187 -0.718383\n",
              "2 -0.949972 -0.779347 -0.478082  2.901691\n",
              "3  0.024670  0.013981  1.239645  0.669004\n",
              "4 -0.499671 -0.510317 -1.718840  0.566848\n",
              "5  1.700986  0.590296 -0.248538 -0.188303\n",
              "6  0.561014 -1.632639 -0.031471 -0.833057\n",
              "7  0.446874 -1.093509 -1.134162  0.903450\n",
              "8 -0.471492 -0.769021 -1.376597 -0.014782\n",
              "9  0.191026  1.153469 -0.426649 -0.442780"
            ]
          },
          "metadata": {
            "tags": []
          },
          "execution_count": 11
        }
      ]
    },
    {
      "cell_type": "code",
      "metadata": {
        "colab": {
          "base_uri": "https://localhost:8080/",
          "height": 166
        },
        "id": "N1nsE-VGQ8BK",
        "outputId": "a9293880-7841-483c-ee7e-ca62203f576d"
      },
      "source": [
        "df[3:7]"
      ],
      "execution_count": 12,
      "outputs": [
        {
          "output_type": "execute_result",
          "data": {
            "text/html": [
              "<div>\n",
              "<style scoped>\n",
              "    .dataframe tbody tr th:only-of-type {\n",
              "        vertical-align: middle;\n",
              "    }\n",
              "\n",
              "    .dataframe tbody tr th {\n",
              "        vertical-align: top;\n",
              "    }\n",
              "\n",
              "    .dataframe thead th {\n",
              "        text-align: right;\n",
              "    }\n",
              "</style>\n",
              "<table border=\"1\" class=\"dataframe\">\n",
              "  <thead>\n",
              "    <tr style=\"text-align: right;\">\n",
              "      <th></th>\n",
              "      <th>0</th>\n",
              "      <th>1</th>\n",
              "      <th>2</th>\n",
              "      <th>3</th>\n",
              "    </tr>\n",
              "  </thead>\n",
              "  <tbody>\n",
              "    <tr>\n",
              "      <th>3</th>\n",
              "      <td>0.024670</td>\n",
              "      <td>0.013981</td>\n",
              "      <td>1.239645</td>\n",
              "      <td>0.669004</td>\n",
              "    </tr>\n",
              "    <tr>\n",
              "      <th>4</th>\n",
              "      <td>-0.499671</td>\n",
              "      <td>-0.510317</td>\n",
              "      <td>-1.718840</td>\n",
              "      <td>0.566848</td>\n",
              "    </tr>\n",
              "    <tr>\n",
              "      <th>5</th>\n",
              "      <td>1.700986</td>\n",
              "      <td>0.590296</td>\n",
              "      <td>-0.248538</td>\n",
              "      <td>-0.188303</td>\n",
              "    </tr>\n",
              "    <tr>\n",
              "      <th>6</th>\n",
              "      <td>0.561014</td>\n",
              "      <td>-1.632639</td>\n",
              "      <td>-0.031471</td>\n",
              "      <td>-0.833057</td>\n",
              "    </tr>\n",
              "  </tbody>\n",
              "</table>\n",
              "</div>"
            ],
            "text/plain": [
              "          0         1         2         3\n",
              "3  0.024670  0.013981  1.239645  0.669004\n",
              "4 -0.499671 -0.510317 -1.718840  0.566848\n",
              "5  1.700986  0.590296 -0.248538 -0.188303\n",
              "6  0.561014 -1.632639 -0.031471 -0.833057"
            ]
          },
          "metadata": {
            "tags": []
          },
          "execution_count": 12
        }
      ]
    },
    {
      "cell_type": "code",
      "metadata": {
        "colab": {
          "base_uri": "https://localhost:8080/",
          "height": 136
        },
        "id": "HCL1ZWPXQ9lq",
        "outputId": "f91c2a9c-985f-4119-bdfa-b06b1c3e1d9f"
      },
      "source": [
        "df[:3]"
      ],
      "execution_count": 13,
      "outputs": [
        {
          "output_type": "execute_result",
          "data": {
            "text/html": [
              "<div>\n",
              "<style scoped>\n",
              "    .dataframe tbody tr th:only-of-type {\n",
              "        vertical-align: middle;\n",
              "    }\n",
              "\n",
              "    .dataframe tbody tr th {\n",
              "        vertical-align: top;\n",
              "    }\n",
              "\n",
              "    .dataframe thead th {\n",
              "        text-align: right;\n",
              "    }\n",
              "</style>\n",
              "<table border=\"1\" class=\"dataframe\">\n",
              "  <thead>\n",
              "    <tr style=\"text-align: right;\">\n",
              "      <th></th>\n",
              "      <th>0</th>\n",
              "      <th>1</th>\n",
              "      <th>2</th>\n",
              "      <th>3</th>\n",
              "    </tr>\n",
              "  </thead>\n",
              "  <tbody>\n",
              "    <tr>\n",
              "      <th>0</th>\n",
              "      <td>1.387922</td>\n",
              "      <td>0.995990</td>\n",
              "      <td>0.909327</td>\n",
              "      <td>0.490621</td>\n",
              "    </tr>\n",
              "    <tr>\n",
              "      <th>1</th>\n",
              "      <td>1.267594</td>\n",
              "      <td>0.618650</td>\n",
              "      <td>-1.094187</td>\n",
              "      <td>-0.718383</td>\n",
              "    </tr>\n",
              "    <tr>\n",
              "      <th>2</th>\n",
              "      <td>-0.949972</td>\n",
              "      <td>-0.779347</td>\n",
              "      <td>-0.478082</td>\n",
              "      <td>2.901691</td>\n",
              "    </tr>\n",
              "  </tbody>\n",
              "</table>\n",
              "</div>"
            ],
            "text/plain": [
              "          0         1         2         3\n",
              "0  1.387922  0.995990  0.909327  0.490621\n",
              "1  1.267594  0.618650 -1.094187 -0.718383\n",
              "2 -0.949972 -0.779347 -0.478082  2.901691"
            ]
          },
          "metadata": {
            "tags": []
          },
          "execution_count": 13
        }
      ]
    },
    {
      "cell_type": "code",
      "metadata": {
        "colab": {
          "base_uri": "https://localhost:8080/"
        },
        "id": "gLQtzu6aQ_M5",
        "outputId": "361bdb7c-5772-4773-8222-499e235f443c"
      },
      "source": [
        "pieces = [df[:3], df[3:7], df[7:]] \n",
        "print(pieces);print()"
      ],
      "execution_count": 14,
      "outputs": [
        {
          "output_type": "stream",
          "text": [
            "[          0         1         2         3\n",
            "0  1.387922  0.995990  0.909327  0.490621\n",
            "1  1.267594  0.618650 -1.094187 -0.718383\n",
            "2 -0.949972 -0.779347 -0.478082  2.901691,           0         1         2         3\n",
            "3  0.024670  0.013981  1.239645  0.669004\n",
            "4 -0.499671 -0.510317 -1.718840  0.566848\n",
            "5  1.700986  0.590296 -0.248538 -0.188303\n",
            "6  0.561014 -1.632639 -0.031471 -0.833057,           0         1         2         3\n",
            "7  0.446874 -1.093509 -1.134162  0.903450\n",
            "8 -0.471492 -0.769021 -1.376597 -0.014782\n",
            "9  0.191026  1.153469 -0.426649 -0.442780]\n",
            "\n"
          ],
          "name": "stdout"
        }
      ]
    },
    {
      "cell_type": "code",
      "metadata": {
        "colab": {
          "base_uri": "https://localhost:8080/"
        },
        "id": "Guux1xEhREQZ",
        "outputId": "689ded79-44fe-4f5a-e61f-66ee6d5dcd3a"
      },
      "source": [
        "print(pd.concat(pieces))"
      ],
      "execution_count": 15,
      "outputs": [
        {
          "output_type": "stream",
          "text": [
            "          0         1         2         3\n",
            "0  1.387922  0.995990  0.909327  0.490621\n",
            "1  1.267594  0.618650 -1.094187 -0.718383\n",
            "2 -0.949972 -0.779347 -0.478082  2.901691\n",
            "3  0.024670  0.013981  1.239645  0.669004\n",
            "4 -0.499671 -0.510317 -1.718840  0.566848\n",
            "5  1.700986  0.590296 -0.248538 -0.188303\n",
            "6  0.561014 -1.632639 -0.031471 -0.833057\n",
            "7  0.446874 -1.093509 -1.134162  0.903450\n",
            "8 -0.471492 -0.769021 -1.376597 -0.014782\n",
            "9  0.191026  1.153469 -0.426649 -0.442780\n"
          ],
          "name": "stdout"
        }
      ]
    },
    {
      "cell_type": "code",
      "metadata": {
        "id": "ksgacvNYRGma"
      },
      "source": [
        "left = pd.DataFrame(\n",
        "    {'key':['foo', 'foo'],\n",
        "     'lval': [1, 2]}\n",
        "    )\n",
        "right = pd.DataFrame({'key':['foo', 'foo'], 'rval': [4, 5]})"
      ],
      "execution_count": 16,
      "outputs": []
    },
    {
      "cell_type": "code",
      "metadata": {
        "colab": {
          "base_uri": "https://localhost:8080/",
          "height": 106
        },
        "id": "ioMFgLgoRwTa",
        "outputId": "95943fec-4e3c-4e02-a881-025751023131"
      },
      "source": [
        "left"
      ],
      "execution_count": 18,
      "outputs": [
        {
          "output_type": "execute_result",
          "data": {
            "text/html": [
              "<div>\n",
              "<style scoped>\n",
              "    .dataframe tbody tr th:only-of-type {\n",
              "        vertical-align: middle;\n",
              "    }\n",
              "\n",
              "    .dataframe tbody tr th {\n",
              "        vertical-align: top;\n",
              "    }\n",
              "\n",
              "    .dataframe thead th {\n",
              "        text-align: right;\n",
              "    }\n",
              "</style>\n",
              "<table border=\"1\" class=\"dataframe\">\n",
              "  <thead>\n",
              "    <tr style=\"text-align: right;\">\n",
              "      <th></th>\n",
              "      <th>key</th>\n",
              "      <th>lval</th>\n",
              "    </tr>\n",
              "  </thead>\n",
              "  <tbody>\n",
              "    <tr>\n",
              "      <th>0</th>\n",
              "      <td>foo</td>\n",
              "      <td>1</td>\n",
              "    </tr>\n",
              "    <tr>\n",
              "      <th>1</th>\n",
              "      <td>foo</td>\n",
              "      <td>2</td>\n",
              "    </tr>\n",
              "  </tbody>\n",
              "</table>\n",
              "</div>"
            ],
            "text/plain": [
              "   key  lval\n",
              "0  foo     1\n",
              "1  foo     2"
            ]
          },
          "metadata": {
            "tags": []
          },
          "execution_count": 18
        }
      ]
    },
    {
      "cell_type": "code",
      "metadata": {
        "colab": {
          "base_uri": "https://localhost:8080/",
          "height": 106
        },
        "id": "q-ulaO9vejGE",
        "outputId": "f9b4fedb-be4a-4872-cbd6-defd9a27c1d3"
      },
      "source": [
        "right"
      ],
      "execution_count": 20,
      "outputs": [
        {
          "output_type": "execute_result",
          "data": {
            "text/html": [
              "<div>\n",
              "<style scoped>\n",
              "    .dataframe tbody tr th:only-of-type {\n",
              "        vertical-align: middle;\n",
              "    }\n",
              "\n",
              "    .dataframe tbody tr th {\n",
              "        vertical-align: top;\n",
              "    }\n",
              "\n",
              "    .dataframe thead th {\n",
              "        text-align: right;\n",
              "    }\n",
              "</style>\n",
              "<table border=\"1\" class=\"dataframe\">\n",
              "  <thead>\n",
              "    <tr style=\"text-align: right;\">\n",
              "      <th></th>\n",
              "      <th>key</th>\n",
              "      <th>rval</th>\n",
              "    </tr>\n",
              "  </thead>\n",
              "  <tbody>\n",
              "    <tr>\n",
              "      <th>0</th>\n",
              "      <td>foo</td>\n",
              "      <td>4</td>\n",
              "    </tr>\n",
              "    <tr>\n",
              "      <th>1</th>\n",
              "      <td>foo</td>\n",
              "      <td>5</td>\n",
              "    </tr>\n",
              "  </tbody>\n",
              "</table>\n",
              "</div>"
            ],
            "text/plain": [
              "   key  rval\n",
              "0  foo     4\n",
              "1  foo     5"
            ]
          },
          "metadata": {
            "tags": []
          },
          "execution_count": 20
        }
      ]
    },
    {
      "cell_type": "code",
      "metadata": {
        "colab": {
          "base_uri": "https://localhost:8080/",
          "height": 166
        },
        "id": "D_dYyvffel2y",
        "outputId": "31a192ce-e772-4bf2-b941-18e719cb6b3e"
      },
      "source": [
        "pd_merge = pd.merge(left, right, on = 'key')\n",
        "pd_merge"
      ],
      "execution_count": 22,
      "outputs": [
        {
          "output_type": "execute_result",
          "data": {
            "text/html": [
              "<div>\n",
              "<style scoped>\n",
              "    .dataframe tbody tr th:only-of-type {\n",
              "        vertical-align: middle;\n",
              "    }\n",
              "\n",
              "    .dataframe tbody tr th {\n",
              "        vertical-align: top;\n",
              "    }\n",
              "\n",
              "    .dataframe thead th {\n",
              "        text-align: right;\n",
              "    }\n",
              "</style>\n",
              "<table border=\"1\" class=\"dataframe\">\n",
              "  <thead>\n",
              "    <tr style=\"text-align: right;\">\n",
              "      <th></th>\n",
              "      <th>key</th>\n",
              "      <th>lval</th>\n",
              "      <th>rval</th>\n",
              "    </tr>\n",
              "  </thead>\n",
              "  <tbody>\n",
              "    <tr>\n",
              "      <th>0</th>\n",
              "      <td>foo</td>\n",
              "      <td>1</td>\n",
              "      <td>4</td>\n",
              "    </tr>\n",
              "    <tr>\n",
              "      <th>1</th>\n",
              "      <td>foo</td>\n",
              "      <td>1</td>\n",
              "      <td>5</td>\n",
              "    </tr>\n",
              "    <tr>\n",
              "      <th>2</th>\n",
              "      <td>foo</td>\n",
              "      <td>2</td>\n",
              "      <td>4</td>\n",
              "    </tr>\n",
              "    <tr>\n",
              "      <th>3</th>\n",
              "      <td>foo</td>\n",
              "      <td>2</td>\n",
              "      <td>5</td>\n",
              "    </tr>\n",
              "  </tbody>\n",
              "</table>\n",
              "</div>"
            ],
            "text/plain": [
              "   key  lval  rval\n",
              "0  foo     1     4\n",
              "1  foo     1     5\n",
              "2  foo     2     4\n",
              "3  foo     2     5"
            ]
          },
          "metadata": {
            "tags": []
          },
          "execution_count": 22
        }
      ]
    },
    {
      "cell_type": "code",
      "metadata": {
        "colab": {
          "base_uri": "https://localhost:8080/",
          "height": 284
        },
        "id": "ieQgRH_3enry",
        "outputId": "74336433-3968-4b86-bb5b-ef2ef79de4bb"
      },
      "source": [
        "df = pd.DataFrame(np.random.randn(8, 4), columns=['A', 'B', 'C', 'D'])\n",
        "df"
      ],
      "execution_count": 23,
      "outputs": [
        {
          "output_type": "execute_result",
          "data": {
            "text/html": [
              "<div>\n",
              "<style scoped>\n",
              "    .dataframe tbody tr th:only-of-type {\n",
              "        vertical-align: middle;\n",
              "    }\n",
              "\n",
              "    .dataframe tbody tr th {\n",
              "        vertical-align: top;\n",
              "    }\n",
              "\n",
              "    .dataframe thead th {\n",
              "        text-align: right;\n",
              "    }\n",
              "</style>\n",
              "<table border=\"1\" class=\"dataframe\">\n",
              "  <thead>\n",
              "    <tr style=\"text-align: right;\">\n",
              "      <th></th>\n",
              "      <th>A</th>\n",
              "      <th>B</th>\n",
              "      <th>C</th>\n",
              "      <th>D</th>\n",
              "    </tr>\n",
              "  </thead>\n",
              "  <tbody>\n",
              "    <tr>\n",
              "      <th>0</th>\n",
              "      <td>1.508128</td>\n",
              "      <td>2.300554</td>\n",
              "      <td>0.677176</td>\n",
              "      <td>2.031039</td>\n",
              "    </tr>\n",
              "    <tr>\n",
              "      <th>1</th>\n",
              "      <td>-0.638285</td>\n",
              "      <td>-0.364866</td>\n",
              "      <td>-0.227535</td>\n",
              "      <td>-1.085862</td>\n",
              "    </tr>\n",
              "    <tr>\n",
              "      <th>2</th>\n",
              "      <td>0.867965</td>\n",
              "      <td>-0.918111</td>\n",
              "      <td>0.628122</td>\n",
              "      <td>0.299505</td>\n",
              "    </tr>\n",
              "    <tr>\n",
              "      <th>3</th>\n",
              "      <td>1.627527</td>\n",
              "      <td>-0.597174</td>\n",
              "      <td>-2.185544</td>\n",
              "      <td>-0.828560</td>\n",
              "    </tr>\n",
              "    <tr>\n",
              "      <th>4</th>\n",
              "      <td>1.606692</td>\n",
              "      <td>0.465901</td>\n",
              "      <td>-1.202146</td>\n",
              "      <td>-0.744686</td>\n",
              "    </tr>\n",
              "    <tr>\n",
              "      <th>5</th>\n",
              "      <td>-0.863722</td>\n",
              "      <td>0.819924</td>\n",
              "      <td>0.540826</td>\n",
              "      <td>-0.151209</td>\n",
              "    </tr>\n",
              "    <tr>\n",
              "      <th>6</th>\n",
              "      <td>-0.677589</td>\n",
              "      <td>0.756492</td>\n",
              "      <td>0.677284</td>\n",
              "      <td>-0.371818</td>\n",
              "    </tr>\n",
              "    <tr>\n",
              "      <th>7</th>\n",
              "      <td>-0.559118</td>\n",
              "      <td>-0.652740</td>\n",
              "      <td>1.155348</td>\n",
              "      <td>1.510001</td>\n",
              "    </tr>\n",
              "  </tbody>\n",
              "</table>\n",
              "</div>"
            ],
            "text/plain": [
              "          A         B         C         D\n",
              "0  1.508128  2.300554  0.677176  2.031039\n",
              "1 -0.638285 -0.364866 -0.227535 -1.085862\n",
              "2  0.867965 -0.918111  0.628122  0.299505\n",
              "3  1.627527 -0.597174 -2.185544 -0.828560\n",
              "4  1.606692  0.465901 -1.202146 -0.744686\n",
              "5 -0.863722  0.819924  0.540826 -0.151209\n",
              "6 -0.677589  0.756492  0.677284 -0.371818\n",
              "7 -0.559118 -0.652740  1.155348  1.510001"
            ]
          },
          "metadata": {
            "tags": []
          },
          "execution_count": 23
        }
      ]
    },
    {
      "cell_type": "code",
      "metadata": {
        "colab": {
          "base_uri": "https://localhost:8080/"
        },
        "id": "UPXcBOsdfFQD",
        "outputId": "3fbb6739-2966-40b0-90d3-4b46972c44e9"
      },
      "source": [
        "s = df.iloc[3]\n",
        "s"
      ],
      "execution_count": 25,
      "outputs": [
        {
          "output_type": "execute_result",
          "data": {
            "text/plain": [
              "A    1.627527\n",
              "B   -0.597174\n",
              "C   -2.185544\n",
              "D   -0.828560\n",
              "Name: 3, dtype: float64"
            ]
          },
          "metadata": {
            "tags": []
          },
          "execution_count": 25
        }
      ]
    },
    {
      "cell_type": "code",
      "metadata": {
        "colab": {
          "base_uri": "https://localhost:8080/",
          "height": 314
        },
        "id": "iy_CBgdMfJBj",
        "outputId": "7d546844-9005-495d-8f30-de15516612db"
      },
      "source": [
        "df.append(s, ignore_index=True)"
      ],
      "execution_count": 27,
      "outputs": [
        {
          "output_type": "execute_result",
          "data": {
            "text/html": [
              "<div>\n",
              "<style scoped>\n",
              "    .dataframe tbody tr th:only-of-type {\n",
              "        vertical-align: middle;\n",
              "    }\n",
              "\n",
              "    .dataframe tbody tr th {\n",
              "        vertical-align: top;\n",
              "    }\n",
              "\n",
              "    .dataframe thead th {\n",
              "        text-align: right;\n",
              "    }\n",
              "</style>\n",
              "<table border=\"1\" class=\"dataframe\">\n",
              "  <thead>\n",
              "    <tr style=\"text-align: right;\">\n",
              "      <th></th>\n",
              "      <th>A</th>\n",
              "      <th>B</th>\n",
              "      <th>C</th>\n",
              "      <th>D</th>\n",
              "    </tr>\n",
              "  </thead>\n",
              "  <tbody>\n",
              "    <tr>\n",
              "      <th>0</th>\n",
              "      <td>1.508128</td>\n",
              "      <td>2.300554</td>\n",
              "      <td>0.677176</td>\n",
              "      <td>2.031039</td>\n",
              "    </tr>\n",
              "    <tr>\n",
              "      <th>1</th>\n",
              "      <td>-0.638285</td>\n",
              "      <td>-0.364866</td>\n",
              "      <td>-0.227535</td>\n",
              "      <td>-1.085862</td>\n",
              "    </tr>\n",
              "    <tr>\n",
              "      <th>2</th>\n",
              "      <td>0.867965</td>\n",
              "      <td>-0.918111</td>\n",
              "      <td>0.628122</td>\n",
              "      <td>0.299505</td>\n",
              "    </tr>\n",
              "    <tr>\n",
              "      <th>3</th>\n",
              "      <td>1.627527</td>\n",
              "      <td>-0.597174</td>\n",
              "      <td>-2.185544</td>\n",
              "      <td>-0.828560</td>\n",
              "    </tr>\n",
              "    <tr>\n",
              "      <th>4</th>\n",
              "      <td>1.606692</td>\n",
              "      <td>0.465901</td>\n",
              "      <td>-1.202146</td>\n",
              "      <td>-0.744686</td>\n",
              "    </tr>\n",
              "    <tr>\n",
              "      <th>5</th>\n",
              "      <td>-0.863722</td>\n",
              "      <td>0.819924</td>\n",
              "      <td>0.540826</td>\n",
              "      <td>-0.151209</td>\n",
              "    </tr>\n",
              "    <tr>\n",
              "      <th>6</th>\n",
              "      <td>-0.677589</td>\n",
              "      <td>0.756492</td>\n",
              "      <td>0.677284</td>\n",
              "      <td>-0.371818</td>\n",
              "    </tr>\n",
              "    <tr>\n",
              "      <th>7</th>\n",
              "      <td>-0.559118</td>\n",
              "      <td>-0.652740</td>\n",
              "      <td>1.155348</td>\n",
              "      <td>1.510001</td>\n",
              "    </tr>\n",
              "    <tr>\n",
              "      <th>8</th>\n",
              "      <td>1.627527</td>\n",
              "      <td>-0.597174</td>\n",
              "      <td>-2.185544</td>\n",
              "      <td>-0.828560</td>\n",
              "    </tr>\n",
              "  </tbody>\n",
              "</table>\n",
              "</div>"
            ],
            "text/plain": [
              "          A         B         C         D\n",
              "0  1.508128  2.300554  0.677176  2.031039\n",
              "1 -0.638285 -0.364866 -0.227535 -1.085862\n",
              "2  0.867965 -0.918111  0.628122  0.299505\n",
              "3  1.627527 -0.597174 -2.185544 -0.828560\n",
              "4  1.606692  0.465901 -1.202146 -0.744686\n",
              "5 -0.863722  0.819924  0.540826 -0.151209\n",
              "6 -0.677589  0.756492  0.677284 -0.371818\n",
              "7 -0.559118 -0.652740  1.155348  1.510001\n",
              "8  1.627527 -0.597174 -2.185544 -0.828560"
            ]
          },
          "metadata": {
            "tags": []
          },
          "execution_count": 27
        }
      ]
    },
    {
      "cell_type": "code",
      "metadata": {
        "id": "_1XjseBCfU1S"
      },
      "source": [
        ""
      ],
      "execution_count": null,
      "outputs": []
    }
  ]
}