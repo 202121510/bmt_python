{
  "nbformat": 4,
  "nbformat_minor": 0,
  "metadata": {
    "colab": {
      "name": "5주차 과제",
      "provenance": [],
      "authorship_tag": "ABX9TyPH2HjDcJ5HDhTyZiRmsIof",
      "include_colab_link": true
    },
    "kernelspec": {
      "name": "python3",
      "display_name": "Python 3"
    },
    "language_info": {
      "name": "python"
    }
  },
  "cells": [
    {
      "cell_type": "markdown",
      "metadata": {
        "id": "view-in-github",
        "colab_type": "text"
      },
      "source": [
        "<a href=\"https://colab.research.google.com/github/202121510/bmt_python/blob/main/5%EC%A3%BC%EC%B0%A8_%EA%B3%BC%EC%A0%9C.ipynb\" target=\"_parent\"><img src=\"https://colab.research.google.com/assets/colab-badge.svg\" alt=\"Open In Colab\"/></a>"
      ]
    },
    {
      "cell_type": "code",
      "metadata": {
        "id": "9X-p-0UgOVrC"
      },
      "source": [
        ""
      ],
      "execution_count": null,
      "outputs": []
    },
    {
      "cell_type": "code",
      "metadata": {
        "id": "Y3CgX1hJQIPb"
      },
      "source": [
        "tp = (10, 20, 30)\n",
        "\n",
        "print(f'tp[0] = {tp[0]}')\n",
        "print(f'tp[:2] = {tp[:2]}')"
      ],
      "execution_count": null,
      "outputs": []
    },
    {
      "cell_type": "code",
      "metadata": {
        "id": "U2uXYnjqR1vj"
      },
      "source": [
        "tp[-1]"
      ],
      "execution_count": null,
      "outputs": []
    },
    {
      "cell_type": "code",
      "metadata": {
        "id": "5Hgq1V0OR1_8"
      },
      "source": [
        "tp1"
      ],
      "execution_count": null,
      "outputs": []
    },
    {
      "cell_type": "code",
      "metadata": {
        "id": "abjjT_RNR1pc"
      },
      "source": [
        "tp2"
      ],
      "execution_count": null,
      "outputs": []
    },
    {
      "cell_type": "code",
      "metadata": {
        "id": "glITm619Sy8G"
      },
      "source": [
        "tp3"
      ],
      "execution_count": null,
      "outputs": []
    },
    {
      "cell_type": "code",
      "metadata": {
        "id": "iwRBtYD3SzFF"
      },
      "source": [
        "tp4 = tp3**2"
      ],
      "execution_count": null,
      "outputs": []
    },
    {
      "cell_type": "code",
      "metadata": {
        "id": "qZiZUXyoSzW1"
      },
      "source": [
        "tpx"
      ],
      "execution_count": null,
      "outputs": []
    },
    {
      "cell_type": "code",
      "metadata": {
        "id": "VdPjaatATM83"
      },
      "source": [
        "tpy"
      ],
      "execution_count": null,
      "outputs": []
    },
    {
      "cell_type": "code",
      "metadata": {
        "id": "Lqzks90vTNwL"
      },
      "source": [
        "tp"
      ],
      "execution_count": null,
      "outputs": []
    },
    {
      "cell_type": "code",
      "metadata": {
        "id": "yVBwV_IkTO3T"
      },
      "source": [
        "tp[0]"
      ],
      "execution_count": null,
      "outputs": []
    },
    {
      "cell_type": "code",
      "metadata": {
        "id": "A68f-MAGUicr"
      },
      "source": [
        "dt =  {\n",
        "    'a'= 200\n",
        "    'b'=150\n",
        "    'c'=100\n",
        "}"
      ],
      "execution_count": null,
      "outputs": []
    },
    {
      "cell_type": "code",
      "metadata": {
        "id": "i7nrOOIcU3k0"
      },
      "source": [
        "dt.keys"
      ],
      "execution_count": null,
      "outputs": []
    },
    {
      "cell_type": "code",
      "metadata": {
        "id": "x_PmGdZGU3yP"
      },
      "source": [
        "list[dt,keys]"
      ],
      "execution_count": null,
      "outputs": []
    },
    {
      "cell_type": "code",
      "metadata": {
        "id": "Jtor_qbWTPBo"
      },
      "source": [
        "dt = {'a':200, 'b':150, 'c':100}\n",
        "\n",
        "print(f'딕셔너리 dt : {dt}')"
      ],
      "execution_count": null,
      "outputs": []
    },
    {
      "cell_type": "code",
      "metadata": {
        "id": "VqegL2oBTPNV"
      },
      "source": [
        "dt = {'a':200, 'b':150, 'c':100}\n",
        "\n",
        "print(f'딕셔너리 키 list(dt.keys()) : {list(dt.keys())}')"
      ],
      "execution_count": null,
      "outputs": []
    },
    {
      "cell_type": "code",
      "metadata": {
        "id": "ooIwnd2PUPdi"
      },
      "source": [
        "del dt['b']"
      ],
      "execution_count": null,
      "outputs": []
    },
    {
      "cell_type": "code",
      "metadata": {
        "id": "waSImE7TUPnJ"
      },
      "source": [
        "#집합 중복없는 요소"
      ],
      "execution_count": null,
      "outputs": []
    },
    {
      "cell_type": "code",
      "metadata": {
        "id": "Hi4nfQWGV558"
      },
      "source": [
        "a = (1, 2, 3, 4)\n",
        "b = [1, 2, 3, 4]\n",
        "a = (1, 2, 2, 3)\n",
        "b = [10, 20, 30, 30]\n",
        "\n",
        "print(f'{a}의 type : {type(a)}')\n",
        "print(f'{b}의 type : {type(b)}')\n",
        "\n",
        "b = set(b)\n",
        "print(f'{b}의 type : {type(b)}')"
      ],
      "execution_count": null,
      "outputs": []
    },
    {
      "cell_type": "code",
      "metadata": {
        "id": "E_foJzOEV6EQ"
      },
      "source": [
        "d=set(b)"
      ],
      "execution_count": null,
      "outputs": []
    },
    {
      "cell_type": "code",
      "metadata": {
        "id": "taQ2VKAnV6OB"
      },
      "source": [
        "a.add(100)"
      ],
      "execution_count": null,
      "outputs": []
    },
    {
      "cell_type": "code",
      "metadata": {
        "id": "u5CupLaSV6ly"
      },
      "source": [
        "b"
      ],
      "execution_count": null,
      "outputs": []
    },
    {
      "cell_type": "code",
      "metadata": {
        "id": "c07Rxn2VX-EY"
      },
      "source": [
        "b.update({100, 200, 300})"
      ],
      "execution_count": null,
      "outputs": []
    },
    {
      "cell_type": "code",
      "metadata": {
        "id": "zJ8PDF21X-OQ"
      },
      "source": [
        "a.remove(100)\n",
        "print(a)\n",
        "\n",
        "a.clear()\n",
        "print(a)"
      ],
      "execution_count": null,
      "outputs": []
    },
    {
      "cell_type": "code",
      "metadata": {
        "id": "15jzWdV3YfzH"
      },
      "source": [
        "print(f'a집합 = {a}, b집합 = {b}')\n",
        "print(f'교집합 a & b = {a & b}')\n",
        "print(f'합집합 a | b = {a | b}')\n",
        "print(f'차집합 a - b = {a - b}')\n",
        "print(f'차집합 b - a = {b - a}')"
      ],
      "execution_count": null,
      "outputs": []
    },
    {
      "cell_type": "code",
      "metadata": {
        "id": "s4B_1ohWYf71"
      },
      "source": [
        "리스트 튜플 딕셔너리스트 튜플 딕셔너리 폴폴"
      ],
      "execution_count": null,
      "outputs": []
    },
    {
      "cell_type": "code",
      "metadata": {
        "id": "U2p6sb0OZcbC"
      },
      "source": [
        "lst = [10, 50, 30]\n",
        "tp = ('a', 'b', 'c')"
      ],
      "execution_count": null,
      "outputs": []
    },
    {
      "cell_type": "code",
      "metadata": {
        "id": "fD2Pbw8hZcp5"
      },
      "source": [
        "for item in lst:\n",
        "  print(item, end = ' ')"
      ],
      "execution_count": null,
      "outputs": []
    },
    {
      "cell_type": "code",
      "metadata": {
        "id": "r6v8euw0aF36"
      },
      "source": [
        "print()\n",
        "\n",
        "for item in tp:\n",
        "  print(item, end = ' ')"
      ],
      "execution_count": null,
      "outputs": []
    },
    {
      "cell_type": "code",
      "metadata": {
        "id": "1vy2WoG8aGfw"
      },
      "source": [
        "tp,list"
      ],
      "execution_count": null,
      "outputs": []
    },
    {
      "cell_type": "code",
      "metadata": {
        "id": "8Q5JTbbBaGp1"
      },
      "source": [
        "dt = dict(zip(tp, lst))\n",
        "print(dt)\n",
        "\n",
        "for item in dt :\n",
        "  print(f'{item} : {dt[item]}')"
      ],
      "execution_count": null,
      "outputs": []
    },
    {
      "cell_type": "code",
      "metadata": {
        "id": "bWSEml9_e2ya"
      },
      "source": [
        "temp = [10.8,  8.5,  8.7,  7.9,  5.1,\n",
        "         8.1,  8.2, 10.4,   11,  9.9,\n",
        "         7.8,  9.5, 11.6,  8.2,  7.7,\n",
        "         6.6, 11.1, 12.2, 12.6, 10.4,\n",
        "        13.7, 14.1, 12.6, 11.5,   13,\n",
        "        14.5, 13.7,  9.4, 10.4, 11.6, 12.9]\n",
        "\n",
        "print(f'최고기온 : {max(temp) : 6.2f} 도')\n",
        "print(f'최저기온 : {min(temp) : 6.2f} 도')\n",
        "print(f'평균기온 : {sum(temp) / len(temp) : 6.2f} 도')"
      ],
      "execution_count": null,
      "outputs": []
    },
    {
      "cell_type": "code",
      "metadata": {
        "id": "vJgzfe6kfXXr"
      },
      "source": [
        "avgtemp = [ 4.5,  6.6, 10.5, 13.4, \n",
        "           19.3, 21.1, 24.3, 27.0, \n",
        "           23.1, 18.6, 13.0,  7.0]\n",
        "\n",
        "print(f'평균기온 : {sum(avgtemp) / len(avgtemp) : 6.2f} 도') "
      ],
      "execution_count": null,
      "outputs": []
    },
    {
      "cell_type": "code",
      "metadata": {
        "id": "8x11oiujhHMY"
      },
      "source": [
        "# 다음은 2010~2019년 기온 데이터(년도, 평균, 최소, 최대)이다.\n",
        "# - 홀수년도만 출력\n",
        "# - 년도 출력하기\n",
        "# - 년도와 평균기온 딕셔너리 만들기\n",
        "# - 평균기온 최소일 때 해당년도 추출하기 예) 2012년 - 14.5도\n",
        "# - 최고기온 최대일 때 해당년도 추출하기 예) 2016년 - 19.6도\n",
        "# - 최저기온 최소일 때 해당년도 추출하기 예) 2012년 - 18.6도"
      ],
      "execution_count": null,
      "outputs": []
    },
    {
      "cell_type": "code",
      "metadata": {
        "id": "0rjkHd1ZhHT6"
      },
      "source": [
        "yodd = [item for item in y if item % 2 == 1]\n",
        "print(yodd)"
      ],
      "execution_count": null,
      "outputs": []
    },
    {
      "cell_type": "code",
      "metadata": {
        "id": "ZtAHsQ2fhHbY"
      },
      "source": [
        "y = [str(item) for item in y]\n",
        "print(y)\n"
      ],
      "execution_count": null,
      "outputs": []
    },
    {
      "cell_type": "code",
      "metadata": {
        "id": "PS0ngaHLiW8E"
      },
      "source": [
        "mintemp = min(ytemp.values())\n",
        "ryear = []\n",
        "\n",
        "for year, temp in ytemp.items():\n",
        "  if temp == mintemp:\n",
        "    ryear.append(year)\n",
        "\n",
        "print(f'평균기온 최소 {ryear}: {mintemp} 도')\n",
        "print('-'*50)"
      ],
      "execution_count": null,
      "outputs": []
    },
    {
      "cell_type": "code",
      "metadata": {
        "id": "67ttdJBxiXFR"
      },
      "source": [
        "x = int(input('값입력'))"
      ],
      "execution_count": null,
      "outputs": []
    },
    {
      "cell_type": "code",
      "metadata": {
        "id": "apX4l0q3iXOz"
      },
      "source": [
        "minv = min(ymin)\n",
        "\n",
        "# 최소값이 있는 위치\n",
        "ymlist = []\n",
        "for i in range(len(ymin)):\n",
        "  if ymin[i] == minv : ymlist.append(y[i])\n",
        "\n",
        "print(f'최저기온 최저 {ymlist}: {minv} 도')\n",
        "print('-'*50)"
      ],
      "execution_count": null,
      "outputs": []
    }
  ]
}