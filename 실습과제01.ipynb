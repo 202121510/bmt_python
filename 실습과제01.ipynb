{
  "nbformat": 4,
  "nbformat_minor": 0,
  "metadata": {
    "colab": {
      "name": "실습과제01.ipynb",
      "provenance": [],
      "authorship_tag": "ABX9TyPAMeQ4i+kPXD2RB89wfdbE",
      "include_colab_link": true
    },
    "kernelspec": {
      "name": "python3",
      "display_name": "Python 3"
    }
  },
  "cells": [
    {
      "cell_type": "markdown",
      "metadata": {
        "id": "view-in-github",
        "colab_type": "text"
      },
      "source": [
        "<a href=\"https://colab.research.google.com/github/202121510/bmt_python/blob/main/%EC%8B%A4%EC%8A%B5%EA%B3%BC%EC%A0%9C01.ipynb\" target=\"_parent\"><img src=\"https://colab.research.google.com/assets/colab-badge.svg\" alt=\"Open In Colab\"/></a>"
      ]
    },
    {
      "cell_type": "markdown",
      "metadata": {
        "id": "iWFXD7Hn09pJ"
      },
      "source": [
        "## 파이썬 기본 학습\r\n"
      ]
    },
    {
      "cell_type": "code",
      "metadata": {
        "id": "bh6GkO6c0dj1"
      },
      "source": [
        "# 입력, 출력, 연산자\r\n",
        "names = [ '정밀','폴리','산설','메카','로봇','전기']"
      ],
      "execution_count": 2,
      "outputs": []
    },
    {
      "cell_type": "code",
      "metadata": {
        "colab": {
          "base_uri": "https://localhost:8080/"
        },
        "id": "HUYXqBn-6LgC",
        "outputId": "0ce2cf43-61b1-4259-d2cc-30bafeb46108"
      },
      "source": [
        "names"
      ],
      "execution_count": 21,
      "outputs": [
        {
          "output_type": "execute_result",
          "data": {
            "text/plain": [
              "['정밀',\n",
              " '폴리',\n",
              " '산설',\n",
              " '메카',\n",
              " '로봇',\n",
              " '전기',\n",
              " '부산기계',\n",
              " '부산기계',\n",
              " '부산기계',\n",
              " '부산기계',\n",
              " '부산기계',\n",
              " '부산기계',\n",
              " '부산기계']"
            ]
          },
          "metadata": {
            "tags": []
          },
          "execution_count": 21
        }
      ]
    },
    {
      "cell_type": "code",
      "metadata": {
        "colab": {
          "base_uri": "https://localhost:8080/",
          "height": 35
        },
        "id": "qb4i8X0H6Sj3",
        "outputId": "6e1acc80-a754-4e27-be37-10d25cfef3e6"
      },
      "source": [
        "names[-2]"
      ],
      "execution_count": 8,
      "outputs": [
        {
          "output_type": "execute_result",
          "data": {
            "application/vnd.google.colaboratory.intrinsic+json": {
              "type": "string"
            },
            "text/plain": [
              "'로봇'"
            ]
          },
          "metadata": {
            "tags": []
          },
          "execution_count": 8
        }
      ]
    },
    {
      "cell_type": "code",
      "metadata": {
        "colab": {
          "base_uri": "https://localhost:8080/",
          "height": 35
        },
        "id": "_kqjLDut7GF7",
        "outputId": "fe9fc88c-21bb-4109-b854-10584343942b"
      },
      "source": [
        "names[5]"
      ],
      "execution_count": 7,
      "outputs": [
        {
          "output_type": "execute_result",
          "data": {
            "application/vnd.google.colaboratory.intrinsic+json": {
              "type": "string"
            },
            "text/plain": [
              "'전기'"
            ]
          },
          "metadata": {
            "tags": []
          },
          "execution_count": 7
        }
      ]
    },
    {
      "cell_type": "code",
      "metadata": {
        "id": "zgh6GrTT7Q8q"
      },
      "source": [
        "names.append('부산기계')"
      ],
      "execution_count": 37,
      "outputs": []
    },
    {
      "cell_type": "code",
      "metadata": {
        "colab": {
          "base_uri": "https://localhost:8080/"
        },
        "id": "goh0p88g8euW",
        "outputId": "342ba08c-4463-482f-d2fb-503a078f1eae"
      },
      "source": [
        "names"
      ],
      "execution_count": 20,
      "outputs": [
        {
          "output_type": "execute_result",
          "data": {
            "text/plain": [
              "['정밀',\n",
              " '폴리',\n",
              " '산설',\n",
              " '메카',\n",
              " '로봇',\n",
              " '전기',\n",
              " '부산기계',\n",
              " '부산기계',\n",
              " '부산기계',\n",
              " '부산기계',\n",
              " '부산기계',\n",
              " '부산기계',\n",
              " '부산기계']"
            ]
          },
          "metadata": {
            "tags": []
          },
          "execution_count": 20
        }
      ]
    },
    {
      "cell_type": "code",
      "metadata": {
        "colab": {
          "base_uri": "https://localhost:8080/"
        },
        "id": "mopABzkw87SR",
        "outputId": "00d7ce55-f07c-456b-cba1-31456c00c4f1"
      },
      "source": [
        "for name in names:\r\n",
        " if '정' in name:\r\n",
        "   print('기계과' ,name+'전공')\r\n",
        " if '폴' in name:\r\n",
        "   print('기계과' ,name+'전공')\r\n",
        " if '산' in name:\r\n",
        "   print('기계과' ,name+'전공')\r\n",
        " if '메' in name:\r\n",
        "   print('전자기계과' ,name+'전공')\r\n",
        " if '정' in name:\r\n",
        "   print('전자기계과' ,name+'전공')\r\n",
        " if '전' in name:\r\n",
        "   print('전기과' ,name+'전공')"
      ],
      "execution_count": 38,
      "outputs": [
        {
          "output_type": "stream",
          "text": [
            "기계과 정밀전공\n",
            "전자기계과 정밀전공\n",
            "기계과 폴리전공\n",
            "기계과 산설전공\n",
            "전자기계과 메카전공\n",
            "전기과 전기전공\n",
            "기계과 부산기계전공\n",
            "기계과 부산기계전공\n",
            "기계과 부산기계전공\n",
            "기계과 부산기계전공\n",
            "기계과 부산기계전공\n",
            "기계과 부산기계전공\n",
            "기계과 부산기계전공\n",
            "기계과 부산 기계전공\n",
            "기계과 부산기계전공\n",
            "기계과 부산기계전공\n"
          ],
          "name": "stdout"
        }
      ]
    },
    {
      "cell_type": "code",
      "metadata": {
        "colab": {
          "base_uri": "https://localhost:8080/"
        },
        "id": "38HpI0Ju9GJT",
        "outputId": "335326f2-08da-46bd-c932-6b3f4dfc5aa9"
      },
      "source": [
        "print('반갑습니다')"
      ],
      "execution_count": 41,
      "outputs": [
        {
          "output_type": "stream",
          "text": [
            "반갑습니다\n"
          ],
          "name": "stdout"
        }
      ]
    },
    {
      "cell_type": "code",
      "metadata": {
        "colab": {
          "base_uri": "https://localhost:8080/"
        },
        "id": "dB8YfFLLAoIh",
        "outputId": "69b74744-58a6-4e3f-b9e1-6295c610fcdf"
      },
      "source": [
        "school = '부산기계공고'\r\n",
        "print(school)\r\n",
        "\r\n",
        "a=1024\r\n",
        "print(a)\r\n",
        "\r\n",
        "name = '전기과'\r\n",
        "print(name +  '화이팅!!')"
      ],
      "execution_count": 44,
      "outputs": [
        {
          "output_type": "stream",
          "text": [
            "부산기계공고\n",
            "1024\n",
            "전기과화이팅!!\n"
          ],
          "name": "stdout"
        }
      ]
    },
    {
      "cell_type": "code",
      "metadata": {
        "colab": {
          "base_uri": "https://localhost:8080/"
        },
        "id": "u2XA772MBQpa",
        "outputId": "ef7a5691-7ce2-4d53-9a48-faa8d5b637c4"
      },
      "source": [
        "print(f'2021학년도 {school} {name} 화이팅!!')"
      ],
      "execution_count": 45,
      "outputs": [
        {
          "output_type": "stream",
          "text": [
            "2021학년도 부산기계공고 전기과 화이팅!!\n"
          ],
          "name": "stdout"
        }
      ]
    },
    {
      "cell_type": "code",
      "metadata": {
        "colab": {
          "base_uri": "https://localhost:8080/"
        },
        "id": "YufhfgC9BxKA",
        "outputId": "01c33877-d720-4a2e-bd55-86a1d43dd7e1"
      },
      "source": [
        "name = input()\r\n",
        "\r\n",
        "print(name + '님 안녕하세요')"
      ],
      "execution_count": 48,
      "outputs": [
        {
          "output_type": "stream",
          "text": [
            "류지상\n",
            "류지상님 안녕하세요\n"
          ],
          "name": "stdout"
        }
      ]
    },
    {
      "cell_type": "code",
      "metadata": {
        "colab": {
          "base_uri": "https://localhost:8080/"
        },
        "id": "3DkV8oMjB8XQ",
        "outputId": "db96db81-4d20-4a3c-fb70-77a99cb0698d"
      },
      "source": [
        "name = input('이름을 입력해주세요 : ')\r\n",
        "print(name + ' 안녕하세요')"
      ],
      "execution_count": 50,
      "outputs": [
        {
          "output_type": "stream",
          "text": [
            "이름을 입력해주세요 : ㅇㅇ\n",
            "ㅇㅇ 안녕하세요\n"
          ],
          "name": "stdout"
        }
      ]
    },
    {
      "cell_type": "code",
      "metadata": {
        "colab": {
          "base_uri": "https://localhost:8080/"
        },
        "id": "YMXUCVDoCq6a",
        "outputId": "34f09c67-b0ac-4c68-e32e-ca467078e4a0"
      },
      "source": [
        "age=int(input('나이 입력 : '))\r\n",
        "print(age-1)"
      ],
      "execution_count": 51,
      "outputs": [
        {
          "output_type": "stream",
          "text": [
            "나이 입력 : 20\n",
            "19\n"
          ],
          "name": "stdout"
        }
      ]
    },
    {
      "cell_type": "code",
      "metadata": {
        "colab": {
          "base_uri": "https://localhost:8080/",
          "height": 134
        },
        "id": "awXmYoBJDXTa",
        "outputId": "29d15ed6-8daf-422c-ee83-289b2a726f68"
      },
      "source": [
        "key='abcd'\r\n",
        "\r\n",
        "password=input(\"암호입력 : \")\r\n",
        "\r\n",
        "if key == password\r\n",
        "  print('암호해제')\r\n",
        "  else('다시입력')\r\n"
      ],
      "execution_count": 52,
      "outputs": [
        {
          "output_type": "error",
          "ename": "SyntaxError",
          "evalue": "ignored",
          "traceback": [
            "\u001b[0;36m  File \u001b[0;32m\"<ipython-input-52-d0e460df129f>\"\u001b[0;36m, line \u001b[0;32m5\u001b[0m\n\u001b[0;31m    if key == password\u001b[0m\n\u001b[0m                      ^\u001b[0m\n\u001b[0;31mSyntaxError\u001b[0m\u001b[0;31m:\u001b[0m invalid syntax\n"
          ]
        }
      ]
    }
  ]
}